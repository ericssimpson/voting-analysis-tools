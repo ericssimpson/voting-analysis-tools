{
 "cells": [
  {
   "cell_type": "code",
   "execution_count": null,
   "metadata": {},
   "outputs": [],
   "source": [
    "from rcv_cruncher import STVFractionalBallot, rank_column_csv\n",
    "\n",
    "# CVR file assumed to be downloaded and in current working directory\n",
    "cvr_file = 'tabulator_input/PierceCounty_11032009_CountyAuditor.csv'\n",
    "out_dir = 'tabulator_output/PierceCountyCountyAuditor.csv'\n",
    "\n",
    "# the constructor for the election class will run the tabulation\n",
    "election = STVFractionalBallot(\n",
    "     jurisdiction='Pierce',\n",
    "     state='WA',\n",
    "     year='2022',\n",
    "     office='County Auditor',\n",
    "     parser_func=rank_column_csv,\n",
    "     parser_args={'cvr_path': cvr_file},\n",
    "     exhaust_on_duplicate_candidate_marks=False,\n",
    "     exhaust_on_overvote_marks=False,\n",
    "     exhaust_on_N_repeated_skipped_marks=0,\n",
    "     n_winners=1\n",
    " )\n",
    "\n",
    "# save a csv table of the results to out_dir\n",
    "STVFractionalBallot.write_round_by_round_table(election, out_dir)"
   ]
  },
  {
   "cell_type": "code",
   "execution_count": 5,
   "metadata": {},
   "outputs": [
    {
     "name": "stdout",
     "output_type": "stream",
     "text": [
      "Terry Lee\n",
      "Bernardo Tuma\n",
      "Dale Washam\n",
      "[[1. 1. 1.]\n",
      " [0. 0. 0.]\n",
      " [0. 0. 0.]\n",
      " ...\n",
      " [0. 0. 0.]\n",
      " [0. 0. 0.]\n",
      " [0. 0. 0.]]\n"
     ]
    }
   ],
   "source": [
    "import numpy as np\n",
    "import pandas as pd\n",
    "from sklearn import datasets \n",
    "import matplotlib.pyplot as plt\n",
    "\n",
    "table = pd.read_csv(\"tabulator_input/PierceCounty_11042008_CountyAssessorTreasurer.csv\")\n",
    "#table.head()\n",
    "\n",
    "possible = [\"rank1\",\"rank2\",\"rank3\"]\n",
    "table = table[possible]\n",
    "#table.head()\n",
    "\n",
    "cast_vote_record_matrix = np.zeros((len(table.index),3))\n",
    "#print(cast_vote_record_matrix)\n",
    "\n",
    "a = table[\"rank1\"][0]\n",
    "print(a)\n",
    "\n",
    "b = table[\"rank2\"][0]\n",
    "print(b)\n",
    "\n",
    "c = table[\"rank3\"][0]\n",
    "print(c)\n",
    "\n",
    "for row in table.index:\n",
    "    #print(row)\n",
    "    #print(table[\"rank1\"][row], table[\"rank2\"][row], table[\"rank3\"][row])\n",
    "\n",
    "    r_1 = table[\"rank1\"][row]\n",
    "    r_2 = table[\"rank2\"][row]\n",
    "    r_3 = table[\"rank3\"][row]\n",
    "\n",
    "    if row == 0 and r_1 == a and r_2 == b and r_3 == c:\n",
    "        cast_vote_record_matrix[0] = [1, 1, 1]\n",
    "    \n",
    "    # AB\n",
    "    if r_1 == a and (r_2 == b or r_3 == b) or r_2 == a and r_3 == b:\n",
    "        cast_vote_record_matrix[row][0] = 1\n",
    "    if r_1 == b and (r_2 == a or r_3 == a) or r_2 == b and r_3 == a:\n",
    "        cast_vote_record_matrix[row][0] = -1\n",
    "\n",
    "    # BC\n",
    "    if r_1 == b and (r_2 == c or r_3 == c) or r_2 == b and r_3 == c:\n",
    "        cast_vote_record_matrix[row][1] = 1\n",
    "    if r_1 == c and (r_2 == b or r_3 == b) or r_2 == c and r_3 == b:\n",
    "        cast_vote_record_matrix[row][1] = -1\n",
    "    \n",
    "    # AC\n",
    "    if r_1 == a and (r_2 == c or r_3 == c) or r_2 == a and r_3 == c:\n",
    "        cast_vote_record_matrix[row][2] = 1\n",
    "    if r_1 == c and (r_2 == a or r_3 == a) or r_2 == c and r_3 == a:\n",
    "        cast_vote_record_matrix[row][2] = -1\n",
    "\n",
    "print(cast_vote_record_matrix)"
   ]
  },
  {
   "cell_type": "code",
   "execution_count": 6,
   "metadata": {},
   "outputs": [
    {
     "name": "stdout",
     "output_type": "stream",
     "text": [
      "[[ 1.21626434 -0.35922155]\n",
      " [ 0.03305852  0.01910049]\n",
      " [ 0.03305852  0.01910049]\n",
      " ...\n",
      " [ 0.03305852  0.01910049]\n",
      " [ 0.03305852  0.01910049]\n",
      " [ 0.03305852  0.01910049]]\n"
     ]
    }
   ],
   "source": [
    "from sklearn.decomposition import PCA\n",
    "from sklearn.preprocessing import StandardScaler\n",
    "\n",
    "pca = PCA(n_components=2)\n",
    "\n",
    "reduced_data = pca.fit_transform(cast_vote_record_matrix)\n",
    "\n",
    "scaler = StandardScaler()\n",
    "scaler.fit(table)\n",
    "data_scaled = scaler.transform(table)\n",
    "\n",
    "print(reduced_data)"
   ]
  },
  {
   "cell_type": "code",
   "execution_count": 13,
   "metadata": {},
   "outputs": [],
   "source": [
    "some = np.corrcoef(cast_vote_record_matrix)"
   ]
  },
  {
   "cell_type": "code",
   "execution_count": 7,
   "metadata": {},
   "outputs": [
    {
     "data": {
      "image/png": "[encoded data removed]",
      "text/plain": [
       "<Figure size 800x600 with 1 Axes>"
      ]
     },
     "metadata": {},
     "output_type": "display_data"
    }
   ],
   "source": [
    "import matplotlib.pyplot as plt\n",
    "\n",
    "x = reduced_data[:, 0]\n",
    "y = reduced_data[:, 1]\n",
    "\n",
    "plt.figure(figsize=(8,6))\n",
    "\n",
    "plt.scatter(x, y)\n",
    "plt.xlabel('First Principal Component')\n",
    "plt.ylabel('Second Principal Component')\n",
    "plt.title('PCA on Voting Data')\n",
    "\n",
    "plt.show()"
   ]
  },
  {
   "cell_type": "code",
   "execution_count": 15,
   "metadata": {},
   "outputs": [
    {
     "name": "stdout",
     "output_type": "stream",
     "text": [
      "0: Genola, Cuneo, Piemonte, Italia\n",
      "1: Genola, Morrison County, Minnesota, United States\n",
      "2: Genola, Morrison County, Minnesota, United States\n",
      "3: Genola, Utah County, Utah, United States\n",
      "4: Genola, Via Monginevro, Rione Lancia, Circoscrizione 3, Torino, Piemonte, 10141, Italia\n"
     ]
    },
    {
     "ename": "ValueError",
     "evalue": "invalid literal for int() with base 10: ''",
     "output_type": "error",
     "traceback": [
      "\u001b[0;31m---------------------------------------------------------------------------\u001b[0m",
      "\u001b[0;31mValueError\u001b[0m                                Traceback (most recent call last)",
      "Cell \u001b[0;32mIn[15], line 14\u001b[0m\n\u001b[1;32m     11\u001b[0m \u001b[39mfor\u001b[39;00m i, location \u001b[39min\u001b[39;00m \u001b[39menumerate\u001b[39m(location_list):\n\u001b[1;32m     12\u001b[0m     \u001b[39mprint\u001b[39m(\u001b[39mf\u001b[39m\u001b[39m\"\u001b[39m\u001b[39m{\u001b[39;00mi\u001b[39m}\u001b[39;00m\u001b[39m: \u001b[39m\u001b[39m{\u001b[39;00mlocation\u001b[39m}\u001b[39;00m\u001b[39m\"\u001b[39m)\n\u001b[0;32m---> 14\u001b[0m selection \u001b[39m=\u001b[39m \u001b[39mint\u001b[39;49m(\u001b[39minput\u001b[39;49m(\u001b[39m\"\u001b[39;49m\u001b[39mPlease select a location: \u001b[39;49m\u001b[39m\"\u001b[39;49m))\n\u001b[1;32m     15\u001b[0m selected_location \u001b[39m=\u001b[39m location_list[selection]\n\u001b[1;32m     17\u001b[0m \u001b[39mprint\u001b[39m(\u001b[39mf\u001b[39m\u001b[39m\"\u001b[39m\u001b[39mYou selected: \u001b[39m\u001b[39m{\u001b[39;00mselected_location\u001b[39m}\u001b[39;00m\u001b[39m\"\u001b[39m)\n",
      "\u001b[0;31mValueError\u001b[0m: invalid literal for int() with base 10: ''"
     ]
    }
   ],
   "source": [
    "from geopy.geocoders import Nominatim\n",
    "\n",
    "geolocator = Nominatim(user_agent=\"myGeocoder\")\n",
    "\n",
    "def get_location_by_city(city_name):\n",
    "    location_list = geolocator.geocode(city_name, exactly_one=False)\n",
    "    return location_list\n",
    "\n",
    "location_list = get_location_by_city(\"Genola\")\n",
    "\n",
    "for i, location in enumerate(location_list):\n",
    "    print(f\"{i}: {location}\")\n",
    "\n",
    "selection = int(input(\"Please select a location: \"))\n",
    "selected_location = location_list[selection]\n",
    "\n",
    "print(f\"You selected: {selected_location}\")\n",
    "\n",
    "print(selected_location.address)\n",
    "\n",
    "print((selected_location.latitude, selected_location.longitude))"
   ]
  },
  {
   "cell_type": "code",
   "execution_count": null,
   "metadata": {},
   "outputs": [],
   "source": [
    "import pandas as pd\n",
    "import numpy as np\n",
    "import torch\n",
    "import torch.nn as nn\n",
    "from torch.utils.data import DataLoader, Dataset\n",
    "\n",
    "cvr_data = pd.read_csv('cvr.csv')\n",
    "labels_data = pd.read_csv('labels.csv')\n",
    "\n",
    "# Normalize and preprocess data heres\n",
    "class CustomDataset(Dataset):\n",
    "    def __init__(self, data, labels):\n",
    "        self.data = data\n",
    "        self.labels = labels\n",
    "\n",
    "    def __len__(self):\n",
    "        return len(self.data)\n",
    "\n",
    "    def __getitem__(self, idx):\n",
    "        return self.data[idx], self.labels[idx]\n",
    "\n",
    "dataset = CustomDataset(cvr_data, labels_data)\n",
    "dataloader = DataLoader(dataset, batch_size=32, shuffle=True)\n",
    "\n",
    "# Define the generator and the discriminator\n",
    "class Generator(nn.Module):\n",
    "    def __init__(self):\n",
    "        super(Generator, self).__init__()\n",
    "        # Define architecture here\n",
    "\n",
    "    def forward(self, z, labels):\n",
    "        # Use the noise and label inputs to generate fake data\n",
    "        pass\n",
    "\n",
    "class Discriminator(nn.Module):\n",
    "    def __init__(self):\n",
    "        super(Discriminator, self).__init__()\n",
    "        # Define architecture here\n",
    "\n",
    "    def forward(self, x, labels):\n",
    "        # Use the data and label inputs to classify the data as real or fake\n",
    "        pass\n",
    "\n",
    "# Instantiate models\n",
    "generator = Generator()\n",
    "discriminator = Discriminator()\n",
    "\n",
    "# Define loss function and optimizers\n",
    "loss_function = nn.BCELoss()\n",
    "generator_optimizer = torch.optim.Adam(generator.parameters(), lr=0.0002)\n",
    "discriminator_optimizer = torch.optim.Adam(discriminator.parameters(), lr=0.0002)\n",
    "\n",
    "# Training loop\n",
    "num_epochs = 100  # Set the number of epochs\n",
    "\n",
    "for epoch in range(num_epochs):\n",
    "    for i, (data, labels) in enumerate(dataloader):\n",
    "        # Train models here\n",
    "        pass\n"
   ]
  }
 ],
 "metadata": {
  "kernelspec": {
   "display_name": "Python 3",
   "language": "python",
   "name": "python3"
  },
  "language_info": {
   "codemirror_mode": {
    "name": "ipython",
    "version": 3
   },
   "file_extension": ".py",
   "mimetype": "text/x-python",
   "name": "python",
   "nbconvert_exporter": "python",
   "pygments_lexer": "ipython3",
   "version": "3.9.7"
  },
  "orig_nbformat": 4
 },
 "nbformat": 4,
 "nbformat_minor": 2
}
