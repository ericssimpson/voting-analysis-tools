{
 "cells": [
  {
   "cell_type": "code",
   "execution_count": 1,
   "metadata": {},
   "outputs": [
    {
     "name": "stdout",
     "output_type": "stream",
     "text": [
      "  Index           rank1            rank2            rank3            rank4\n",
      "0  GE01         skipped     HALE ROBISON  DARON S. HUGHES   GRANT LUNDBERG\n",
      "1  GE02  GRANT LUNDBERG     HALE ROBISON          skipped  DARON S. HUGHES\n",
      "2  GE03    HALE ROBISON  DARON S. HUGHES   GRANT LUNDBERG          skipped\n",
      "3  GE04  GRANT LUNDBERG     HALE ROBISON          skipped  DARON S. HUGHES\n",
      "4  GE05         skipped          skipped          skipped          skipped\n"
     ]
    }
   ],
   "source": [
    "import choix\n",
    "import numpy as np\n",
    "import pandas as pd\n",
    "\n",
    "# load data\n",
    "df = pd.read_csv('../rcv_elections_database/sequential/Genola_11022021_CityCouncil.csv')\n",
    "\n",
    "print(df.head())"
   ]
  },
  {
   "cell_type": "code",
   "execution_count": 20,
   "metadata": {},
   "outputs": [
    {
     "name": "stdout",
     "output_type": "stream",
     "text": [
      "['HALE ROBISON' 'DARON S. HUGHES' 'GRANT LUNDBERG']\n"
     ]
    }
   ],
   "source": [
    "# get the unique individuals\n",
    "individuals = pd.unique(df[['rank1', 'rank2', 'rank3', 'rank4']].values.ravel('K'))\n",
    "\n",
    "print(individuals)"
   ]
  },
  {
   "cell_type": "code",
   "execution_count": 21,
   "metadata": {},
   "outputs": [
    {
     "name": "stdout",
     "output_type": "stream",
     "text": [
      "{'HALE ROBISON': 0, 'DARON S. HUGHES': 1, 'GRANT LUNDBERG': 2}\n"
     ]
    }
   ],
   "source": [
    "# map individuals to unique integer ids\n",
    "individual_to_id = {ind: i for i, ind in enumerate(individuals)}\n",
    "id_to_individual = {i: ind for ind, i in individual_to_id.items()}\n",
    "\n",
    "print(individual_to_id)"
   ]
  },
  {
   "cell_type": "code",
   "execution_count": 22,
   "metadata": {},
   "outputs": [
    {
     "name": "stdout",
     "output_type": "stream",
     "text": [
      "     Index  rank1  rank2  rank3  rank4\n",
      "74    GE75      0      0      0      0\n",
      "107  GE108      0      0      0      0\n",
      "241  GE242      1      2      1      0\n",
      "260  GE261      0      1      1      1\n",
      "287  GE288      0      0      0      0\n"
     ]
    }
   ],
   "source": [
    "# replace individual names with ids and 'skipped' with maximum id + 1\n",
    "df = df.replace(individual_to_id)\n",
    "df = df.replace('skipped', len(individual_to_id))\n",
    "\n",
    "print(df.head())"
   ]
  },
  {
   "cell_type": "code",
   "execution_count": 23,
   "metadata": {},
   "outputs": [
    {
     "name": "stdout",
     "output_type": "stream",
     "text": [
      "[[0, 0, 0, 0], [0, 0, 0, 0], [1, 2, 1, 0], [0, 1, 1, 1], [0, 0, 0, 0], [0, 1, 1, 2]]\n"
     ]
    }
   ],
   "source": [
    "# convert to ranked ballots format\n",
    "ranked_ballots = df[['rank1', 'rank2', 'rank3', 'rank4']].values.tolist()\n",
    "\n",
    "print(ranked_ballots)"
   ]
  },
  {
   "cell_type": "code",
   "execution_count": 13,
   "metadata": {},
   "outputs": [
    {
     "name": "stdout",
     "output_type": "stream",
     "text": [
      "[[1, 3, 2, 0], [3, 0, 2, 1], [0, 1, 3, 2], [3, 0, 2, 1], [0, 0, 0, 0], [1, 3, 0, 2], [0, 1, 3, 2], [0, 0, 0, 0], [1, 0, 2, 3], [0, 3, 2, 1], [0, 2, 1, 3], [0, 0, 0, 2], [0, 2, 1, 3], [3, 0, 2, 1], [3, 0, 1, 2], [0, 2, 1, 3], [0, 2, 3, 1], [0, 0, 1, 2], [2, 0, 1, 3], [2, 0, 1, 3], [0, 3, 2, 1], [0, 3, 1, 2], [0, 3, 2, 1], [0, 3, 1, 2], [0, 0, 0, 4], [0, 0, 1, 2], [0, 3, 2, 1], [0, 0, 0, 4], [0, 2, 1, 3], [0, 0, 1, 2], [2, 1, 3, 0], [0, 1, 3, 2], [0, 1, 3, 2], [0, 0, 0, 2], [0, 1, 3, 2], [3, 0, 2, 1], [1, 3, 0, 2], [0, 1, 3, 2], [0, 0, 0, 1], [1, 3, 0, 2], [0, 1, 3, 2], [0, 3, 1, 2], [0, 1, 2, 3], [0, 1, 2, 3], [0, 0, 0, 1], [0, 2, 1, 3], [0, 1, 2, 3], [0, 1, 3, 2], [0, 2, 1, 3], [1, 3, 0, 2], [0, 2, 3, 1], [2, 3, 1, 0], [0, 2, 1, 3], [0, 2, 1, 3], [0, 3, 2, 1], [0, 1, 3, 2], [0, 1, 3, 2], [0, 0, 0, 3], [2, 1, 3, 0], [0, 3, 1, 2], [2, 0, 3, 1], [0, 0, 3, 0], [0, 3, 2, 1], [0, 3, 1, 2], [0, 0, 0, 3], [2, 1, 3, 0], [3, 2, 1, 0], [0, 2, 1, 3], [2, 0, 1, 3], [2, 0, 1, 3], [2, 0, 1, 3], [0, 1, 3, 2], [0, 1, 3, 2], [1, 3, 2, 0], [2, 2, 2, 2], [3, 2, 1, 0], [0, 2, 3, 1], [1, 3, 0, 2], [3, 1, 0, 2], [1, 2, 3, 0], [0, 3, 1, 2], [0, 3, 1, 2], [0, 3, 1, 2], [0, 2, 1, 3], [0, 1, 3, 2], [0, 3, 1, 2], [0, 3, 1, 2], [0, 0, 0, 4], [0, 3, 2, 1], [0, 1, 3, 2], [0, 0, 0, 0], [0, 1, 3, 2], [0, 0, 1, 2], [1, 3, 2, 0], [0, 0, 0, 0], [0, 2, 1, 3], [3, 0, 1, 2], [0, 0, 2, 3], [0, 0, 2, 3], [3, 1, 0, 2], [0, 0, 1, 3], [1, 0, 3, 2], [1, 3, 0, 2], [0, 1, 3, 2], [0, 0, 0, 3], [0, 0, 3, 1], [0, 1, 3, 2], [2, 2, 2, 2], [0, 0, 3, 2], [3, 1, 0, 2], [1, 3, 0, 2], [0, 0, 1, 2], [0, 2, 1, 3], [0, 0, 2, 0], [0, 3, 1, 2], [3, 1, 0, 2], [0, 0, 0, 2], [0, 0, 0, 3], [0, 3, 1, 2], [0, 0, 0, 2], [1, 3, 0, 2], [0, 0, 2, 0], [0, 0, 0, 2], [3, 1, 0, 2], [0, 2, 1, 3], [0, 1, 3, 2], [3, 2, 0, 1], [0, 2, 1, 3], [0, 0, 1, 3], [0, 0, 1, 2], [0, 3, 1, 2], [0, 3, 1, 2], [2, 1, 0, 3], [0, 1, 2, 3], [0, 1, 3, 2], [2, 0, 1, 3], [0, 3, 2, 1], [1, 0, 3, 2], [0, 3, 1, 2], [0, 3, 1, 2], [0, 3, 2, 1], [0, 3, 1, 2], [0, 0, 3, 2], [3, 1, 0, 2], [0, 1, 3, 2], [0, 3, 1, 2], [0, 1, 3, 2], [2, 1, 0, 3], [1, 3, 2, 0], [0, 3, 2, 1], [0, 3, 1, 2], [0, 3, 2, 1], [0, 3, 1, 2], [0, 1, 3, 2], [0, 3, 2, 1], [0, 3, 1, 2], [0, 0, 3, 2], [3, 0, 1, 2], [0, 3, 2, 1], [0, 0, 0, 3], [2, 3, 0, 1], [0, 2, 1, 3], [0, 0, 0, 3], [2, 3, 0, 1], [0, 0, 0, 3], [0, 3, 1, 2], [0, 3, 1, 2], [0, 3, 1, 2], [0, 3, 2, 1], [0, 1, 2, 3], [0, 0, 1, 2], [2, 0, 3, 1], [0, 2, 1, 3], [0, 2, 1, 3], [0, 0, 2, 1], [0, 2, 1, 3], [0, 1, 3, 2], [0, 3, 1, 2], [0, 0, 0, 3], [0, 1, 3, 2], [1, 3, 2, 0], [1, 3, 2, 0], [0, 2, 1, 3], [0, 1, 3, 2], [0, 1, 2, 3], [0, 3, 2, 1], [3, 0, 2, 1], [1, 2, 0, 3], [1, 2, 0, 3], [2, 1, 3, 0], [0, 0, 3, 0], [0, 0, 1, 3], [0, 0, 0, 2], [2, 1, 3, 0], [0, 0, 0, 2], [2, 0, 3, 1], [3, 0, 2, 1], [0, 0, 0, 2], [1, 3, 0, 2], [2, 1, 3, 0], [3, 2, 1, 0], [2, 1, 3, 0], [1, 3, 0, 2], [0, 2, 3, 1], [1, 3, 0, 2], [0, 1, 3, 2], [2, 0, 1, 3], [0, 1, 2, 3], [0, 1, 3, 2], [0, 0, 3, 2], [0, 3, 1, 2], [0, 2, 1, 3], [3, 0, 2, 1], [0, 0, 2, 4], [3, 0, 2, 1], [0, 3, 1, 2], [0, 3, 1, 2], [0, 2, 1, 3], [0, 1, 3, 2], [0, 3, 1, 2], [0, 0, 1, 3], [0, 3, 2, 1], [2, 1, 3, 0], [1, 2, 3, 0], [0, 0, 0, 3], [1, 3, 0, 2], [1, 0, 3, 2], [0, 3, 2, 1], [0, 0, 0, 0], [0, 3, 2, 1], [0, 0, 0, 0], [1, 0, 3, 2], [0, 3, 1, 2], [1, 0, 3, 2], [0, 3, 1, 2], [1, 0, 3, 2], [0, 0, 0, 2], [0, 0, 0, 3], [0, 0, 0, 3], [3, 2, 0, 1], [2, 0, 3, 1], [2, 3, 1, 3], [2, 0, 3, 1], [0, 3, 2, 1], [0, 3, 2, 1], [0, 1, 3, 2], [3, 0, 1, 2], [0, 3, 1, 2], [0, 3, 1, 2], [1, 3, 2, 0], [1, 2, 3, 0], [0, 3, 1, 2], [0, 0, 0, 0], [0, 3, 2, 1], [0, 0, 1, 2], [3, 0, 1, 2], [0, 0, 1, 2], [1, 0, 3, 2], [0, 3, 1, 2], [0, 1, 2, 3], [3, 3, 3, 2], [3, 0, 1, 2], [3, 0, 1, 2], [3, 1, 0, 2], [3, 0, 2, 1], [0, 3, 2, 1], [0, 0, 3, 2], [1, 3, 2, 0], [0, 0, 0, 1], [3, 0, 1, 2], [0, 0, 0, 1], [0, 3, 1, 2], [0, 1, 2, 3], [0, 3, 1, 2], [0, 0, 0, 4], [3, 0, 2, 1], [2, 0, 3, 1], [0, 2, 3, 1], [0, 0, 0, 4], [3, 1, 0, 2], [0, 0, 1, 2], [0, 3, 1, 2], [0, 2, 1, 3], [0, 0, 1, 2], [0, 1, 2, 3], [0, 3, 2, 1], [1, 3, 2, 0], [2, 2, 2, 2], [1, 3, 2, 0], [0, 3, 1, 2], [3, 1, 0, 2], [0, 0, 1, 2], [2, 1, 3, 0], [3, 0, 1, 2], [2, 1, 3, 0], [0, 1, 3, 2], [0, 0, 1, 2], [0, 0, 3, 2], [1, 3, 0, 2], [0, 0, 3, 2], [1, 3, 0, 2], [3, 1, 0, 2], [3, 0, 2, 1], [0, 0, 0, 0], [0, 3, 2, 1], [0, 2, 3, 1], [0, 2, 1, 3], [0, 1, 2, 3], [0, 3, 2, 1], [0, 3, 2, 1], [1, 2, 0, 3], [0, 3, 2, 1], [1, 0, 2, 3], [0, 0, 1, 3], [0, 2, 1, 3], [3, 2, 0, 1], [0, 3, 2, 1], [0, 2, 1, 3], [0, 3, 1, 2], [0, 3, 1, 2], [0, 0, 0, 2], [0, 3, 1, 2], [0, 2, 1, 3], [1, 2, 3, 0], [0, 2, 1, 3], [1, 0, 3, 2], [0, 1, 3, 2], [3, 2, 1, 0], [3, 0, 1, 2], [3, 2, 1, 0], [1, 0, 3, 2], [2, 3, 1, 0], [0, 3, 2, 1], [0, 3, 2, 1], [0, 3, 2, 1], [0, 3, 2, 1], [0, 3, 1, 2], [1, 3, 0, 2], [0, 3, 1, 2], [3, 1, 0, 2], [0, 2, 3, 1], [3, 0, 1, 2], [0, 1, 3, 2], [0, 1, 3, 2], [0, 2, 1, 3], [3, 1, 0, 2], [0, 2, 1, 3], [3, 0, 1, 2], [0, 3, 2, 1], [0, 1, 3, 2], [1, 0, 3, 2], [1, 3, 2, 0], [0, 3, 1, 2], [1, 3, 2, 0], [0, 3, 1, 2], [0, 2, 3, 1], [0, 3, 2, 1], [0, 3, 2, 1], [0, 3, 1, 2], [3, 1, 0, 2], [0, 0, 0, 0], [1, 3, 2, 0], [0, 2, 1, 3], [2, 0, 3, 1], [0, 3, 1, 2], [0, 2, 3, 1], [0, 0, 3, 1], [0, 3, 1, 2], [0, 2, 1, 3], [0, 3, 2, 1], [0, 3, 1, 2], [0, 1, 3, 2], [1, 0, 3, 2], [1, 0, 3, 2], [0, 3, 1, 2], [1, 3, 2, 0], [0, 1, 3, 2], [0, 2, 1, 3], [0, 3, 1, 2], [3, 0, 2, 1], [0, 3, 2, 1], [0, 3, 1, 2], [0, 3, 1, 2], [0, 3, 1, 2], [1, 3, 3, 2], [2, 3, 0, 1], [3, 0, 2, 1], [3, 0, 1, 2], [0, 3, 2, 1], [0, 2, 3, 1], [0, 3, 1, 2], [2, 1, 3, 0], [0, 1, 2, 0]]\n"
     ]
    }
   ],
   "source": [
    "# convert to the format needed by choix, higher numbers mean higher ranks\n",
    "data = [list(reversed([int(i) for i in ballot])) for ballot in ranked_ballots]\n",
    "\n",
    "print(data)"
   ]
  },
  {
   "cell_type": "code",
   "execution_count": 16,
   "metadata": {},
   "outputs": [
    {
     "name": "stdout",
     "output_type": "stream",
     "text": [
      "5\n"
     ]
    }
   ],
   "source": [
    "# number of alternatives\n",
    "n_items = len(individual_to_id)\n",
    "\n",
    "print(n_items)"
   ]
  },
  {
   "cell_type": "code",
   "execution_count": 18,
   "metadata": {},
   "outputs": [
    {
     "name": "stderr",
     "output_type": "stream",
     "text": [
      "/Users/es5891/Library/Python/3.9/lib/python/site-packages/choix/utils.py:18: RuntimeWarning: invalid value encountered in log\n",
      "  params = np.log(weights)\n"
     ]
    },
    {
     "ename": "RuntimeError",
     "evalue": "Did not converge after 1000 iterations",
     "output_type": "error",
     "traceback": [
      "\u001b[0;31m---------------------------------------------------------------------------\u001b[0m",
      "\u001b[0;31mRuntimeError\u001b[0m                              Traceback (most recent call last)",
      "Cell \u001b[0;32mIn[18], line 2\u001b[0m\n\u001b[1;32m      1\u001b[0m \u001b[39m# estimate parameters with increased max_iter\u001b[39;00m\n\u001b[0;32m----> 2\u001b[0m params \u001b[39m=\u001b[39m choix\u001b[39m.\u001b[39;49milsr_rankings(n_items, data, max_iter\u001b[39m=\u001b[39;49m\u001b[39m1000\u001b[39;49m)\n",
      "File \u001b[0;32m~/Library/Python/3.9/lib/python/site-packages/choix/lsr.py:314\u001b[0m, in \u001b[0;36milsr_rankings\u001b[0;34m(n_items, data, alpha, initial_params, max_iter, tol)\u001b[0m\n\u001b[1;32m    281\u001b[0m \u001b[39m\u001b[39m\u001b[39m\"\"\"Compute the ML estimate of model parameters using I-LSR.\u001b[39;00m\n\u001b[1;32m    282\u001b[0m \n\u001b[1;32m    283\u001b[0m \u001b[39mThis function computes the maximum-likelihood (ML) estimate of model\u001b[39;00m\n\u001b[0;32m   (...)\u001b[0m\n\u001b[1;32m    310\u001b[0m \u001b[39m    The ML estimate of model parameters.\u001b[39;00m\n\u001b[1;32m    311\u001b[0m \u001b[39m\"\"\"\u001b[39;00m\n\u001b[1;32m    312\u001b[0m fun \u001b[39m=\u001b[39m functools\u001b[39m.\u001b[39mpartial(\n\u001b[1;32m    313\u001b[0m         lsr_rankings, n_items\u001b[39m=\u001b[39mn_items, data\u001b[39m=\u001b[39mdata, alpha\u001b[39m=\u001b[39malpha)\n\u001b[0;32m--> 314\u001b[0m \u001b[39mreturn\u001b[39;00m _ilsr(fun, initial_params, max_iter, tol)\n",
      "File \u001b[0;32m~/Library/Python/3.9/lib/python/site-packages/choix/lsr.py:33\u001b[0m, in \u001b[0;36m_ilsr\u001b[0;34m(fun, params, max_iter, tol)\u001b[0m\n\u001b[1;32m     31\u001b[0m     \u001b[39mif\u001b[39;00m converged(params):\n\u001b[1;32m     32\u001b[0m         \u001b[39mreturn\u001b[39;00m params\n\u001b[0;32m---> 33\u001b[0m \u001b[39mraise\u001b[39;00m \u001b[39mRuntimeError\u001b[39;00m(\u001b[39m\"\u001b[39m\u001b[39mDid not converge after \u001b[39m\u001b[39m{}\u001b[39;00m\u001b[39m iterations\u001b[39m\u001b[39m\"\u001b[39m\u001b[39m.\u001b[39mformat(max_iter))\n",
      "\u001b[0;31mRuntimeError\u001b[0m: Did not converge after 1000 iterations"
     ]
    }
   ],
   "source": [
    "# estimate parameters with increased max_iter\n",
    "params = choix.ilsr_rankings(n_items, data, max_iter=1000)"
   ]
  },
  {
   "cell_type": "code",
   "execution_count": 6,
   "metadata": {},
   "outputs": [
    {
     "name": "stderr",
     "output_type": "stream",
     "text": [
      "/Users/es5891/Library/Python/3.9/lib/python/site-packages/choix/utils.py:18: RuntimeWarning: divide by zero encountered in log\n",
      "  params = np.log(weights)\n",
      "/Users/es5891/Library/Python/3.9/lib/python/site-packages/choix/utils.py:19: RuntimeWarning: invalid value encountered in subtract\n",
      "  return params - params.mean()\n"
     ]
    },
    {
     "ename": "RuntimeError",
     "evalue": "Did not converge after 100 iterations",
     "output_type": "error",
     "traceback": [
      "\u001b[0;31m---------------------------------------------------------------------------\u001b[0m",
      "\u001b[0;31mRuntimeError\u001b[0m                              Traceback (most recent call last)",
      "Cell \u001b[0;32mIn[6], line 22\u001b[0m\n\u001b[1;32m     19\u001b[0m n_items \u001b[39m=\u001b[39m \u001b[39mlen\u001b[39m(individual_to_id) \u001b[39m+\u001b[39m \u001b[39m1\u001b[39m  \u001b[39m# +1 for 'skipped'\u001b[39;00m\n\u001b[1;32m     21\u001b[0m \u001b[39m# estimate parameters\u001b[39;00m\n\u001b[0;32m---> 22\u001b[0m params \u001b[39m=\u001b[39m choix\u001b[39m.\u001b[39;49milsr_rankings(n_items, data)\n\u001b[1;32m     24\u001b[0m \u001b[39m# print parameters with corresponding individuals\u001b[39;00m\n\u001b[1;32m     25\u001b[0m \u001b[39mfor\u001b[39;00m i, param \u001b[39min\u001b[39;00m \u001b[39menumerate\u001b[39m(params):\n",
      "File \u001b[0;32m~/Library/Python/3.9/lib/python/site-packages/choix/lsr.py:314\u001b[0m, in \u001b[0;36milsr_rankings\u001b[0;34m(n_items, data, alpha, initial_params, max_iter, tol)\u001b[0m\n\u001b[1;32m    281\u001b[0m \u001b[39m\u001b[39m\u001b[39m\"\"\"Compute the ML estimate of model parameters using I-LSR.\u001b[39;00m\n\u001b[1;32m    282\u001b[0m \n\u001b[1;32m    283\u001b[0m \u001b[39mThis function computes the maximum-likelihood (ML) estimate of model\u001b[39;00m\n\u001b[0;32m   (...)\u001b[0m\n\u001b[1;32m    310\u001b[0m \u001b[39m    The ML estimate of model parameters.\u001b[39;00m\n\u001b[1;32m    311\u001b[0m \u001b[39m\"\"\"\u001b[39;00m\n\u001b[1;32m    312\u001b[0m fun \u001b[39m=\u001b[39m functools\u001b[39m.\u001b[39mpartial(\n\u001b[1;32m    313\u001b[0m         lsr_rankings, n_items\u001b[39m=\u001b[39mn_items, data\u001b[39m=\u001b[39mdata, alpha\u001b[39m=\u001b[39malpha)\n\u001b[0;32m--> 314\u001b[0m \u001b[39mreturn\u001b[39;00m _ilsr(fun, initial_params, max_iter, tol)\n",
      "File \u001b[0;32m~/Library/Python/3.9/lib/python/site-packages/choix/lsr.py:33\u001b[0m, in \u001b[0;36m_ilsr\u001b[0;34m(fun, params, max_iter, tol)\u001b[0m\n\u001b[1;32m     31\u001b[0m     \u001b[39mif\u001b[39;00m converged(params):\n\u001b[1;32m     32\u001b[0m         \u001b[39mreturn\u001b[39;00m params\n\u001b[0;32m---> 33\u001b[0m \u001b[39mraise\u001b[39;00m \u001b[39mRuntimeError\u001b[39;00m(\u001b[39m\"\u001b[39m\u001b[39mDid not converge after \u001b[39m\u001b[39m{}\u001b[39;00m\u001b[39m iterations\u001b[39m\u001b[39m\"\u001b[39m\u001b[39m.\u001b[39mformat(max_iter))\n",
      "\u001b[0;31mRuntimeError\u001b[0m: Did not converge after 100 iterations"
     ]
    }
   ],
   "source": [
    "# print parameters with corresponding individuals\n",
    "for i, param in enumerate(params):\n",
    "    print(f\"{id_to_individual.get(i, 'skipped')}: {param}\")"
   ]
  }
 ],
 "metadata": {
  "kernelspec": {
   "display_name": "Python 3",
   "language": "python",
   "name": "python3"
  },
  "language_info": {
   "codemirror_mode": {
    "name": "ipython",
    "version": 3
   },
   "file_extension": ".py",
   "mimetype": "text/x-python",
   "name": "python",
   "nbconvert_exporter": "python",
   "pygments_lexer": "ipython3",
   "version": "3.9.7"
  },
  "orig_nbformat": 4
 },
 "nbformat": 4,
 "nbformat_minor": 2
}
