{
 "cells": [
  {
   "cell_type": "code",
   "execution_count": 11,
   "metadata": {},
   "outputs": [],
   "source": [
    "import parser \n",
    "import pandas as pd\n",
    "import itertools\n",
    "import numpy as np\n",
    "import os \n",
    "import matplotlib.pyplot as plt\n",
    "import seaborn as sns\n",
    "from voting_rules import voting_rules as vr\n",
    "import rcv_dimensionality\n",
    "import statistics"
   ]
  },
  {
   "cell_type": "code",
   "execution_count": 16,
   "metadata": {},
   "outputs": [
    {
     "name": "stdout",
     "output_type": "stream",
     "text": [
      "   partisan    level type  candidates  mean gamma     stdev  \\\n",
      "0        DP  Federal    E           9    0.576628       NaN   \n",
      "1       Yes  Federal    R           3    0.914758  0.047078   \n",
      "2       Yes    State    E           4    0.815945       NaN   \n",
      "3       Yes    State    R           2    1.000000  0.000000   \n",
      "4       Yes    State    R           1    1.000000  0.000000   \n",
      "..      ...      ...  ...         ...         ...       ...   \n",
      "89       No    Local    E          12    0.798085       NaN   \n",
      "90       No    Local    O           5    0.739415       NaN   \n",
      "91       No    Local    B          10    0.600604       NaN   \n",
      "92       No    Local    E           5    0.330785       NaN   \n",
      "93      NaN  Federal    E           9    0.656058       NaN   \n",
      "\n",
      "    total number of elections  \n",
      "0                           1  \n",
      "1                           3  \n",
      "2                           1  \n",
      "3                          20  \n",
      "4                           6  \n",
      "..                        ...  \n",
      "89                          1  \n",
      "90                          1  \n",
      "91                          1  \n",
      "92                          1  \n",
      "93                          1  \n",
      "\n",
      "[94 rows x 7 columns]\n"
     ]
    }
   ],
   "source": [
    "matched = pd.read_csv(\"matched.csv\")\n",
    "\n",
    "table = pd.DataFrame(columns=[\"partisan\", \"level\", \"type\", \"candidates\", \"mean gamma\", \"stdev\", \"total number of elections\"])\n",
    "d = {}\n",
    "for i, row in matched.iterrows():\n",
    "    if row[\"partisan\"] == \"1\":\n",
    "        p = \"Yes\"\n",
    "    elif row[\"partisan\"] == \"0\":\n",
    "        p = \"No\"\n",
    "    else:\n",
    "        p = row[\"partisan\"]\n",
    "\n",
    "    if row[\"level\"] == 3:\n",
    "        level = \"Federal\"\n",
    "    elif row[\"level\"] == 2:\n",
    "        level = \"State\"\n",
    "    else:\n",
    "        level = \"Local\"\n",
    "\n",
    "    type = row[\"type\"]\n",
    "    candidates = row[\"candidates\"]\n",
    "\n",
    "    if (p, level, type, candidates) not in d:\n",
    "        d[(p, level, type, candidates)] = [[], 0]\n",
    "    d[(p, level, type, candidates)][0].append(row[\"gamma mds\"])\n",
    "    d[(p, level, type, candidates)][1] += 1\n",
    "\n",
    "for t in d:\n",
    "    if len(d[t][0]) < 2:\n",
    "        table.loc[len(table)] = [t[0], t[1], t[2], t[3], d[t][0][0], None , d[t][1]]\n",
    "    else:\n",
    "        table.loc[len(table)] = [t[0], t[1], t[2], t[3], statistics.mean(d[t][0]), statistics.stdev(d[t][0]), d[t][1]]\n",
    "\n",
    "print(table)"
   ]
  },
  {
   "cell_type": "code",
   "execution_count": 15,
   "metadata": {},
   "outputs": [],
   "source": [
    "table.to_csv(\"table.csv\")"
   ]
  },
  {
   "cell_type": "code",
   "execution_count": null,
   "metadata": {},
   "outputs": [],
   "source": []
  }
 ],
 "metadata": {
  "kernelspec": {
   "display_name": "Python 3",
   "language": "python",
   "name": "python3"
  },
  "language_info": {
   "codemirror_mode": {
    "name": "ipython",
    "version": 3
   },
   "file_extension": ".py",
   "mimetype": "text/x-python",
   "name": "python",
   "nbconvert_exporter": "python",
   "pygments_lexer": "ipython3",
   "version": "3.9.7"
  },
  "orig_nbformat": 4
 },
 "nbformat": 4,
 "nbformat_minor": 2
}
