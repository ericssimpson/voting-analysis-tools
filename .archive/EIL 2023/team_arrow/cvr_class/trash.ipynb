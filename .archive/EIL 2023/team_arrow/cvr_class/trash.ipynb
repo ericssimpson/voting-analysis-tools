{
 "cells": [
  {
   "cell_type": "code",
   "execution_count": null,
   "metadata": {},
   "outputs": [],
   "source": [
    "import parser \n",
    "import pandas as pd\n",
    "import itertools\n",
    "import numpy as np\n",
    "import os \n",
    "import matplotlib.pyplot as plt\n",
    "import seaborn as sns\n",
    "from voting_rules import voting_rules as vr\n",
    "import rcv_dimensionality\n",
    "import statistics\n",
    "import rcv_distribution"
   ]
  },
  {
   "cell_type": "code",
   "execution_count": null,
   "metadata": {},
   "outputs": [],
   "source": [
    "from voting_rules import *\n",
    "import parser \n",
    "\n",
    "\n",
    "ballots, candidates = parser.parse_election_data(\"csv file path\")\n",
    "election = voting_rules(ballots, candidates)\n",
    "print(election.irv())\n",
    "print(election.condorcet())\n"
   ]
  },
  {
   "cell_type": "code",
   "execution_count": null,
   "metadata": {},
   "outputs": [],
   "source": [
    "def freq(ballots, candidates):\n",
    "    result_freq = {}\n",
    "    result_first = {}\n",
    "\n",
    "    frequency = {}\n",
    "    first = {}\n",
    "    empty = 0\n",
    "    for c in candidates:\n",
    "        frequency[c] = 0\n",
    "        first[c] = 0\n",
    "    \n",
    "    for b in ballots:\n",
    "        if len(b) > 0:\n",
    "            first[b[0]] += ballots[b]\n",
    "        else:\n",
    "            empty += ballots[b]\n",
    "        for c in b:\n",
    "            frequency[c] += ballots[b]\n",
    "    \n",
    "    total = sum(ballots.values())\n",
    "    total -= empty \n",
    "    for c in sorted(frequency):\n",
    "        result_freq[c] = (frequency[c]/total) * 100\n",
    "    for c in sorted(first):\n",
    "        result_first[c] = (first[c]/total) * 100\n",
    "    \n",
    "   \n",
    "    return result_freq, result_first\n",
    "\n",
    "\n"
   ]
  },
  {
   "cell_type": "code",
   "execution_count": null,
   "metadata": {},
   "outputs": [],
   "source": [
    "ballots, candidates = rcv_distribution.parse_election_data(\"dataverse_files/Portland_06142022_SchoolboardAL.csv\")"
   ]
  },
  {
   "cell_type": "code",
   "execution_count": null,
   "metadata": {},
   "outputs": [],
   "source": [
    "frequency, first = freq(ballots, candidates)"
   ]
  },
  {
   "cell_type": "code",
   "execution_count": null,
   "metadata": {},
   "outputs": [],
   "source": [
    "election_analysis = pd.read_csv(\"election_analysis.csv\")\n",
    "directory = \"dataverse_files\"\n",
    "for filename in os.listdir(directory):\n",
    "    row_num = election_analysis[election_analysis[\"filename\"] == filename].index[0]\n",
    "    ballots, candidates = rcv_distribution.parse_election_data(os.path.join(directory, filename))\n",
    "    frequency, first = freq(ballots, candidates)\n",
    "    most_frequent = []\n",
    "    for c in sorted(frequency, key=frequency.get, reverse=True):\n",
    "        most_frequent.append(frequency[c])\n",
    "\n",
    "    for rank in range(1, min(6, len(candidates) + 1)):\n",
    "        column = '#' + str(rank) + \" candidate\"\n",
    "        election_analysis.loc[row_num, column] = most_frequent[rank - 1]"
   ]
  },
  {
   "cell_type": "code",
   "execution_count": null,
   "metadata": {},
   "outputs": [],
   "source": [
    "#\n",
    "\n",
    "election_analysis.to_csv(\"election_analysis_new.csv\")"
   ]
  },
  {
   "cell_type": "code",
   "execution_count": null,
   "metadata": {},
   "outputs": [],
   "source": [
    "import numpy as np\n",
    "from sklearn.manifold import MDS\n",
    "import matplotlib.pyplot as plt\n",
    "\n",
    "# Replace this with your own similarity matrix\n",
    "similarity_matrix = np.array([\n",
    "    [1.0, 0.8, 0.2, 0.5],\n",
    "    [0.8, 1.0, 0.7, 0.3],\n",
    "    [0.2, 0.7, 1.0, 0.9],\n",
    "    [0.5, 0.3, 0.9, 1.0]\n",
    "])\n",
    "\n",
    "# Convert similarity to dissimilarity (distance)\n",
    "dissimilarity_matrix = 1 - similarity_matrix\n",
    "\n",
    "# Initialize MDS with one dimension\n",
    "mds = MDS(n_components=1, dissimilarity='precomputed')\n",
    "\n",
    "# Perform MDS\n",
    "mds_result = mds.fit_transform(dissimilarity_matrix)\n",
    "\n",
    "# The MDS result in one dimension\n",
    "single_dimension_data = mds_result.flatten()\n",
    "\n",
    "# Plot the data on a single axis\n",
    "plt.scatter(single_dimension_data, [0] * len(single_dimension_data))\n",
    "plt.yticks([])  # Hide y-axis ticks and labels\n",
    "plt.xlabel('Single Dimension')\n",
    "plt.title('MDS Visualization in Single Dimension')\n",
    "plt.show()\n"
   ]
  },
  {
   "cell_type": "code",
   "execution_count": null,
   "metadata": {},
   "outputs": [],
   "source": []
  }
 ],
 "metadata": {
  "kernelspec": {
   "display_name": "Python 3",
   "language": "python",
   "name": "python3"
  },
  "language_info": {
   "codemirror_mode": {
    "name": "ipython",
    "version": 3
   },
   "file_extension": ".py",
   "mimetype": "text/x-python",
   "name": "python",
   "nbconvert_exporter": "python",
   "pygments_lexer": "ipython3",
   "version": "3.9.7"
  },
  "orig_nbformat": 4
 },
 "nbformat": 4,
 "nbformat_minor": 2
}
