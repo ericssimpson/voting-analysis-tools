{
 "cells": [
  {
   "cell_type": "code",
   "execution_count": 2,
   "metadata": {},
   "outputs": [],
   "source": [
    "import election_metrics as em\n",
    "import os \n",
    "import pandas as pd\n",
    "import numpy as np"
   ]
  },
  {
   "cell_type": "code",
   "execution_count": 3,
   "metadata": {},
   "outputs": [],
   "source": [
    "\n",
    "def parse(file):\n",
    "    data = pd.read_csv(str(file), low_memory=False)\n",
    "\n",
    "    candidates = []\n",
    "    \n",
    "    #number of voters\n",
    "    n = len(data)\n",
    "\n",
    "    ballots = {}\n",
    "    for i in range(1, n):\n",
    "        ranking = ()\n",
    "        j = 1\n",
    "        flag = True\n",
    "        while flag:\n",
    "            try:\n",
    "                c = data.at[i, \"rank\"+str(j)]\n",
    "                if c != \"skipped\" and c != \"Write-in\"  and c[0:5].lower() != \"write\" and c != \"overvote\" and c != \"undervote\":\n",
    "                    if c not in ranking:\n",
    "                        ranking += (c,)\n",
    "                    if c not in candidates:\n",
    "                        candidates.append(c)\n",
    "                j += 1\n",
    "            except:\n",
    "                flag = False\n",
    "    \n",
    "        if ranking not in ballots:\n",
    "            ballots[ranking] = 0\n",
    "        ballots[ranking] += 1\n",
    "    return ballots, candidates"
   ]
  },
  {
   "cell_type": "code",
   "execution_count": 4,
   "metadata": {},
   "outputs": [
    {
     "name": "stderr",
     "output_type": "stream",
     "text": [
      "<>:38: SyntaxWarning: list indices must be integers or slices, not str; perhaps you missed a comma?\n",
      "<>:38: SyntaxWarning: list indices must be integers or slices, not str; perhaps you missed a comma?\n"
     ]
    },
    {
     "name": "stdout",
     "output_type": "stream",
     "text": [
      "          Condorcet Condorcet_2  NA Chance of Condorcet\n",
      "irv              49           1   0                   0\n",
      "plurality        46           4   0                   0\n",
      "majority         28           0  22                   0\n",
      "condorcet        50           0   0                   0\n",
      "approval         49           1   0                   0\n",
      "borda            42           8   0                   0\n",
      "mini_max         50           0   0                   0\n",
      "black            50           0   0                   0\n",
      "bucklin          46           4   0                   0\n",
      "          Condorcet Condorcet_2  NA Chance of Condorcet\n",
      "irv              97           1   0                   0\n",
      "plurality        93           7   0                   0\n",
      "majority         51           0  49                   0\n",
      "condorcet       100           0   0                   0\n",
      "approval         96           3   0                   0\n",
      "borda            87          11   0                   0\n",
      "mini_max        100           0   0                   0\n",
      "black           100           0   0                   0\n",
      "bucklin          85          11   0                   0\n"
     ]
    }
   ],
   "source": [
    "directory = os.fsencode(\"dataverse_files\")\n",
    "\n",
    "total = 0\n",
    "nc = 0\n",
    "i = 0\n",
    "d = {}\n",
    "#df = pd.DataFrame()\n",
    "rules = [\"irv\", \"plurality\", \"majority\", \"condorcet\", \"approval\", \"borda\", \"mini_max\", \"black\", \"bucklin\"]\n",
    "criterion = [\"Condorcet\", \"Condorcet_2\", \"NA\", \"Chance of Condorcet\"]\n",
    "rules2 = [\"irv\", \"plurality\", \"majority\", \"condorcet\", \"approval\", \"borda\", \"total\",\"chance of irv\" ]\n",
    "df_rules = pd.DataFrame(index=rules, columns=criterion)\n",
    "df_topN = pd.DataFrame(index=rules2, columns=[i for i in range(1, 20)])\n",
    "for col in df_rules.columns:\n",
    "    df_rules[col].values[:] = 0\n",
    "for col in df_topN.columns:\n",
    "    df_topN[col].values[:] = 0\n",
    "for file in os.listdir(directory):\n",
    "    filename = os.fsdecode(file)\n",
    "    total += 1\n",
    "    ballots, candidates = parse(\"C:/Users/mahsh/Documents/GitHub/bugs-in-democracy/team_arrow/cvr_class/dataverse_files/\"+filename)\n",
    "  #  C:\\Users\\mahsh\\Documents\\GitHub\\bugs-in-democracy\\team_arrow\\cvr_class\\dataverse_files\\Alaska_04102020_PRESIDENTOFTHEUNITEDSTATES.csv\n",
    "\n",
    "    \n",
    "    e = em.election_metric(ballots, candidates)\n",
    "    n = len(candidates)\n",
    "    for r in rules:\n",
    "        func = getattr(e, r)\n",
    "        if func() == -1:\n",
    "            df_rules.loc[[r],[\"NA\"]] += 1\n",
    "        else:\n",
    "            if func() == e.condorcet():\n",
    "                df_rules.loc[[r],[\"Condorcet\"]] +=1 \n",
    "            if func() == e.condorcet_n(2):\n",
    "                df_rules.loc[[r],[\"Condorcet_2\"]] += 1\n",
    "    if total % 50 == 0:\n",
    "        print(df_rules)\n",
    "for r in rules:\n",
    "    df_rules[[r],[\"Chance of Condorcet\"]] = (df_rules[[r][\"Condorcet\"]]/total)*100\n",
    "\n",
    "print(df_rules)\n",
    "\n",
    "        "
   ]
  },
  {
   "cell_type": "code",
   "execution_count": null,
   "metadata": {},
   "outputs": [],
   "source": []
  }
 ],
 "metadata": {
  "kernelspec": {
   "display_name": "base",
   "language": "python",
   "name": "python3"
  },
  "language_info": {
   "codemirror_mode": {
    "name": "ipython",
    "version": 3
   },
   "file_extension": ".py",
   "mimetype": "text/x-python",
   "name": "python",
   "nbconvert_exporter": "python",
   "pygments_lexer": "ipython3",
   "version": "3.9.12"
  },
  "orig_nbformat": 4
 },
 "nbformat": 4,
 "nbformat_minor": 2
}
