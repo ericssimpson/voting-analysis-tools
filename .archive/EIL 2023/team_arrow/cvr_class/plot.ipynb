{
 "cells": [
  {
   "cell_type": "code",
   "execution_count": 1,
   "metadata": {},
   "outputs": [],
   "source": [
    "import parser \n",
    "import pandas as pd\n",
    "import itertools\n",
    "import numpy as np\n",
    "import os \n",
    "import matplotlib.pyplot as plt\n",
    "import seaborn as sns\n",
    "from voting_rules import voting_rules as vr\n",
    "import rcv_dimensionality\n",
    "import statistics\n",
    "import rcv_distribution"
   ]
  },
  {
   "cell_type": "code",
   "execution_count": 2,
   "metadata": {},
   "outputs": [],
   "source": [
    "def is_consistent(ballot):\n",
    "    if len(ballot) == 0: \n",
    "        return (True, None) \n",
    "    if len(ballot) == 1:\n",
    "        return (True, ballot[0]) \n",
    "    x = 0 \n",
    "    v = 0.25\n",
    "    i = 1\n",
    "    while (i < len(ballot)):\n",
    "        if ballot[i] < ballot[i - 1]:\n",
    "            x -= (v * min(abs(ballot[i] - ballot[0]), abs(ballot[i] - ballot[i - 1])))\n",
    "        else:\n",
    "            x += (v * min(abs(ballot[i] - ballot[0]), abs(ballot[i] - ballot[i - 1])))\n",
    "        v *= 0.5\n",
    "        i += 1\n",
    "    l = []\n",
    "    if abs(x) >= (ballot[1] - ballot[0])/2 or x == 0:\n",
    "        return (False, x + ballot[0]) \n",
    "    x += ballot[0]\n",
    "    for c in ballot:\n",
    "        l.append(abs(c - x))\n",
    "    if(all(l[i] <= l[i + 1] for i in range(len(l) -  1))):\n",
    "        return (True, x)\n",
    "    return (False, x)"
   ]
  },
  {
   "cell_type": "code",
   "execution_count": 3,
   "metadata": {},
   "outputs": [
    {
     "name": "stderr",
     "output_type": "stream",
     "text": [
      "/Users/Mahshad/Documents/GitHub/bugs-in-democracy/team_arrow/cvr_class/rcv_dimensionality.py:171: RuntimeWarning: divide by zero encountered in divide\n",
      "  distance = 1 / np.sqrt(freq_upper_triangle)\n"
     ]
    },
    {
     "name": "stdout",
     "output_type": "stream",
     "text": [
      "['Begich, Nick', 'Palin, Sarah', 'Peltola, Mary S.']\n"
     ]
    }
   ],
   "source": [
    "filename = \"dataverse_files/Alaska_08162022_HouseofRepresentativesSpecial.csv\"\n",
    "ballots, candidates = rcv_distribution.parse_election_data(filename)\n",
    "mds = rcv_dimensionality.perform_rcv_and_normalize(filename)\n"
   ]
  },
  {
   "cell_type": "code",
   "execution_count": 14,
   "metadata": {},
   "outputs": [
    {
     "name": "stdout",
     "output_type": "stream",
     "text": [
      "{'Palin, Sarah': 0.25, 'Begich, Nick': 0.5, 'Peltola, Mary S.': 0.75}\n"
     ]
    }
   ],
   "source": [
    "axis = mds.keys()\n",
    "order = mds.keys()\n",
    "temp = {}\n",
    "i = 1\n",
    "for c in order:\n",
    "    temp[c] = i\n",
    "    i += 1\n",
    "\n",
    "position = {}\n",
    "x = 1/(len(axis) + 1)\n",
    "v = x = 1/(len(axis) + 1)\n",
    "for c in axis:\n",
    "    position[c] = x\n",
    "    x += v\n",
    "print(position)\n",
    "X = position.values()\n",
    "#non bullet votes \n",
    "bullet = {}\n",
    "nb = {}\n",
    "for b in ballots:\n",
    "    ballot = []\n",
    "    for c in b:\n",
    "        ballot.append(temp[c])\n",
    "    if len(b) > 1 and is_consistent(ballot)[0] is True:\n",
    "        first = b[0]\n",
    "        x = is_consistent(ballot)[1]\n",
    "        if x < position[first]:\n",
    "            if position[first] - v/4 not in nb:\n",
    "                nb[position[first] - v/4] = 0\n",
    "            nb[position[first] - v/4] += ballots[b]\n",
    "        else:\n",
    "            if position[first] + v/4 not in nb:\n",
    "                nb[position[first] +v/4] = 0\n",
    "            nb[position[first] + v/4] += ballots[b]\n",
    "        \n",
    "    if len(b) == 1:\n",
    "        first = b[0]\n",
    "        if first not in nb:\n",
    "            bullet[first] = 0\n",
    "        bullet[first] += ballots[b]\n"
   ]
  },
  {
   "cell_type": "code",
   "execution_count": 15,
   "metadata": {},
   "outputs": [
    {
     "name": "stdout",
     "output_type": "stream",
     "text": [
      "{'Peltola, Mary S.': 23660, 'Palin, Sarah': 21186, 'Begich, Nick': 11208}\n",
      "{0.5625: 15507, 0.3125: 34899}\n"
     ]
    }
   ],
   "source": [
    "print(bullet)\n",
    "print(nb)"
   ]
  },
  {
   "cell_type": "code",
   "execution_count": null,
   "metadata": {},
   "outputs": [],
   "source": []
  }
 ],
 "metadata": {
  "kernelspec": {
   "display_name": "Python 3",
   "language": "python",
   "name": "python3"
  },
  "language_info": {
   "codemirror_mode": {
    "name": "ipython",
    "version": 3
   },
   "file_extension": ".py",
   "mimetype": "text/x-python",
   "name": "python",
   "nbconvert_exporter": "python",
   "pygments_lexer": "ipython3",
   "version": "3.9.7"
  },
  "orig_nbformat": 4
 },
 "nbformat": 4,
 "nbformat_minor": 2
}
