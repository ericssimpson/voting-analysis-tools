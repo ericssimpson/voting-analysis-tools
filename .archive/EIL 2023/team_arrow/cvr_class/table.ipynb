{
 "cells": [
  {
   "cell_type": "code",
   "execution_count": 27,
   "metadata": {},
   "outputs": [],
   "source": [
    "import pandas as pd\n",
    "\n",
    "elections = pd.read_csv('election_table_2.csv')\n",
    "\n",
    "grouped_partisan = elections.groupby(['partisan']).agg({\n",
    "    'filename': 'count'  # to get the total number of elections\n",
    "}).reset_index()\n",
    "\n",
    "grouped_partisan.columns = ['partisan',  \n",
    "                          'total number of elections']\n",
    "grouped_partisan[\"partisan\"].replace({'1': \"Yes\", '0': \"No\", \"DP\": \"Democratic Primary\", \"RP\": \"Republican Primary\"}, inplace=True)\n",
    "\n",
    "grouped_partisan.head()\n",
    "grouped_partisan.to_csv(\"partisan.csv\")"
   ]
  },
  {
   "cell_type": "code",
   "execution_count": 31,
   "metadata": {},
   "outputs": [],
   "source": [
    "grouped_level = elections.groupby([\"level\"]).agg({ \"filename\": \"count\"}).reset_index()\n",
    "grouped_level.columns = [\"level\", \"total number of elections\"]\n",
    "\n",
    "grouped_level[\"level\"].replace({1.0: \"local\", 2.0: \"state\", 3.0: \"federal\"}, inplace=True)\n",
    "\n",
    "grouped_level.head()\n",
    "grouped_level.to_csv(\"level.csv\")"
   ]
  },
  {
   "cell_type": "code",
   "execution_count": 29,
   "metadata": {},
   "outputs": [],
   "source": [
    "grouped_type = elections.groupby([\"type\"]).agg({ \"filename\": \"count\"}).reset_index()\n",
    "grouped_type.columns = [\"type\", \"total number of elections\"]\n",
    "grouped_type[\"type\"].replace({\"B\": \"Boards\", \"E\": \"Executives\", \"O\": \"Offices\", \"R\": \"Representatives\", \"S\":\"Senate\"}, inplace=True)\n",
    "\n",
    "grouped_type.head()\n",
    "grouped_type.to_csv(\"type.csv\")"
   ]
  },
  {
   "cell_type": "code",
   "execution_count": 30,
   "metadata": {},
   "outputs": [],
   "source": [
    "grouped_candidates = elections.groupby([\"candidates\"]).agg({ \"filename\": \"count\"}).reset_index()\n",
    "grouped_candidates.columns = [\"candidates\", \"total number of elections\"]\n",
    "\n",
    "grouped_candidates.head()\n",
    "grouped_candidates.to_csv(\"candidates.csv\")"
   ]
  },
  {
   "cell_type": "code",
   "execution_count": 37,
   "metadata": {},
   "outputs": [],
   "source": [
    "pl = elections.groupby([\"partisan\", \"level\"]).agg({ \"filename\": \"count\"}).reset_index()\n",
    "\n",
    "pl.columns = [\"partisan\", \"level\", \"total number of elections\"]\n",
    "pl[\"partisan\"].replace({'1': \"Yes\", '0': \"No\", \"DP\": \"Democratic Primary\", \"RP\": \"Republican Primary\"}, inplace=True)\n",
    "pl[\"level\"].replace({1.0: \"local\", 2.0: \"state\", 3.0: \"federal\"}, inplace=True)\n",
    "\n",
    "pl.head()\n",
    "pl.to_csv(\"partisan.csv\")"
   ]
  },
  {
   "cell_type": "code",
   "execution_count": 41,
   "metadata": {},
   "outputs": [],
   "source": [
    "pt = elections.groupby([\"partisan\", \"type\"]).agg({ \"filename\": \"count\"}).reset_index()\n",
    "pt.columns = [\"partisan\", \"type\", \"total number of elections\"]\n",
    "pt[\"partisan\"].replace({'1': \"Yes\", '0': \"No\", \"DP\": \"Democratic Primary\", \"RP\": \"Republican Primary\"}, inplace=True)\n",
    "pt[\"type\"].replace({\"B\": \"Boards\", \"E\": \"Executives\", \"O\": \"Offices\", \"R\": \"Representatives\", \"S\":\"Senate\"}, inplace=True)\n",
    "pt.head()\n",
    "pt.to_csv((\"partisan.csv\"))"
   ]
  },
  {
   "cell_type": "code",
   "execution_count": 43,
   "metadata": {},
   "outputs": [],
   "source": [
    "lt = elections.groupby([\"level\", \"type\"]).agg({ \"filename\": \"count\"}).reset_index()\n",
    "lt.columns = [\"level\", \"type\", \"total number of elections\"]\n",
    "lt[\"level\"].replace({1.0: \"local\", 2.0: \"state\", 3.0: \"federal\"}, inplace=True)\n",
    "lt[\"type\"].replace({\"B\": \"Boards\", \"E\": \"Executives\", \"O\": \"Offices\", \"R\": \"Representatives\", \"S\":\"Senate\"}, inplace=True)\n",
    "lt.head()\n",
    "lt.to_csv(\"partisan.csv\")"
   ]
  },
  {
   "cell_type": "code",
   "execution_count": null,
   "metadata": {},
   "outputs": [],
   "source": []
  }
 ],
 "metadata": {
  "kernelspec": {
   "display_name": "Python 3",
   "language": "python",
   "name": "python3"
  },
  "language_info": {
   "codemirror_mode": {
    "name": "ipython",
    "version": 3
   },
   "file_extension": ".py",
   "mimetype": "text/x-python",
   "name": "python",
   "nbconvert_exporter": "python",
   "pygments_lexer": "ipython3",
   "version": "3.9.7"
  },
  "orig_nbformat": 4
 },
 "nbformat": 4,
 "nbformat_minor": 2
}
