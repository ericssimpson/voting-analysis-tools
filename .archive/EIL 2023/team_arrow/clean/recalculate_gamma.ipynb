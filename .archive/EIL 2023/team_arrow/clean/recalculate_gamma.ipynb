{
 "cells": [
  {
   "cell_type": "code",
   "execution_count": null,
   "metadata": {},
   "outputs": [],
   "source": [
    "import pandas as pd \n",
    "import seaborn as sns\n",
    "from scipy.stats import kurtosis, skew\n",
    "import os \n",
    "\n",
    "from rcv_dimensionality import *\n",
    "from rcv_distribution import *\n",
    "from voting_rules import *"
   ]
  },
  {
   "cell_type": "code",
   "execution_count": 1,
   "metadata": {},
   "outputs": [
    {
     "ename": "NameError",
     "evalue": "name 'pd' is not defined",
     "output_type": "error",
     "traceback": [
      "\u001b[1;31m---------------------------------------------------------------------------\u001b[0m",
      "\u001b[1;31mNameError\u001b[0m                                 Traceback (most recent call last)",
      "Input \u001b[1;32mIn [1]\u001b[0m, in \u001b[0;36m<cell line: 2>\u001b[1;34m()\u001b[0m\n\u001b[0;32m      1\u001b[0m directory \u001b[38;5;241m=\u001b[39m \u001b[38;5;124m\"\u001b[39m\u001b[38;5;124mdataverse_files\u001b[39m\u001b[38;5;124m\"\u001b[39m\n\u001b[1;32m----> 2\u001b[0m new_gamma \u001b[38;5;241m=\u001b[39m \u001b[43mpd\u001b[49m\u001b[38;5;241m.\u001b[39mread_csv(\u001b[38;5;124m\"\u001b[39m\u001b[38;5;124mgamma.csv\u001b[39m\u001b[38;5;124m\"\u001b[39m)\n\u001b[0;32m      3\u001b[0m row_num \u001b[38;5;241m=\u001b[39m new_gamma[new_gamma[\u001b[38;5;124m\"\u001b[39m\u001b[38;5;124mfilename\u001b[39m\u001b[38;5;124m\"\u001b[39m] \u001b[38;5;241m==\u001b[39m \u001b[38;5;124m\"\u001b[39m\u001b[38;5;124mMinneapolis_11022021_CityCouncilWard.csv\u001b[39m\u001b[38;5;124m\"\u001b[39m]\u001b[38;5;241m.\u001b[39mindex[\u001b[38;5;241m0\u001b[39m]\n\u001b[0;32m      4\u001b[0m \u001b[38;5;28mprint\u001b[39m(row_num)\n",
      "\u001b[1;31mNameError\u001b[0m: name 'pd' is not defined"
     ]
    }
   ],
   "source": [
    "directory = \"dataverse_files\"\n",
    "new_gamma = pd.read_csv(\"gamma.csv\")\n",
    "row_num = new_gamma[new_gamma[\"filename\"] == \"Minneapolis_11022021_CityCouncilWard.csv\"].index[0]\n",
    "print(row_num)\n",
    "\n",
    "for filename in os.listdir(directory):\n",
    "    try:\n",
    "        row_num = new_gamma[new_gamma[\"filename\"] == filename].index[0]\n",
    "        ballots, candidates = parse_election_data(os.path.join(directory, filename))\n",
    "\n",
    "        test = perform_rcv_analysis(os.path.join(directory, filename), n_runs=1000)\n",
    "        mds_1d_coordinates, mds_2d_coordinates, most_common_order, order_frequencies, candidate_names = test\n",
    "\n",
    "        normalized_distances = get_distances_normalized(most_common_order, mds_1d_coordinates, candidate_names)\n",
    "\n",
    "        normalized_points = []\n",
    "        normalized_names = []\n",
    "        for name in normalized_distances:\n",
    "            normalized_names.append(name)\n",
    "            normalized_points.append(normalized_distances[name])\n",
    "        \n",
    "        gamma = get_gamma(normalized_distances, ballots)\n",
    "        if row_num % 50 == 0:\n",
    "            print(\"gamma for \", filename, \" is: \", gamma)\n",
    "        \n",
    "        new_gamma.loc[row_num, \"new_gamma\"] = gamma\n",
    "    except:\n",
    "        print(\"an exception occured:  \", filename)\n",
    "\n",
    "new_gamma.to_csv(\"recalculate_gamma.csv\")\n"
   ]
  },
  {
   "cell_type": "code",
   "execution_count": 7,
   "metadata": {},
   "outputs": [
    {
     "name": "stdout",
     "output_type": "stream",
     "text": [
      "     Unnamed: 0                                           filename     gamma  \\\n",
      "0             0     Alaska_04102020_PRESIDENTOFTHEUNITEDSTATES.csv  0.565292   \n",
      "1             1  Alaska_08162022_HouseofRepresentativesSpecial.csv  0.955330   \n",
      "2             2     Alaska_11082022_GovernorLieutenantGovernor.csv  0.744512   \n",
      "3             3                 Alaska_11082022_HouseDistrict1.csv  1.000000   \n",
      "4             4                 Alaska_11082022_HouseDistrict2.csv  1.000000   \n",
      "..          ...                                                ...       ...   \n",
      "406         406                      TakomaPark_11082022_Mayor.csv  0.576512   \n",
      "407         407                        Vineyard_11022021_Mayor.csv  0.793754   \n",
      "408         408                  Vineyard_11052019_CityCouncil.csv  0.184573   \n",
      "409         409                   WoodlandHills_11022021_Mayor.csv  0.832061   \n",
      "410         410    Wyoming_04172020_PRESIDENTOFTHEUNITEDSTATES.csv  0.633100   \n",
      "\n",
      "     new_gamma  \n",
      "0     0.487742  \n",
      "1     0.955330  \n",
      "2     0.814705  \n",
      "3     1.000000  \n",
      "4     1.000000  \n",
      "..         ...  \n",
      "406   0.562489  \n",
      "407   0.793754  \n",
      "408   0.139578  \n",
      "409   0.832061  \n",
      "410   0.556356  \n",
      "\n",
      "[411 rows x 4 columns]\n"
     ]
    }
   ],
   "source": [
    "print(new_gamma)"
   ]
  },
  {
   "cell_type": "code",
   "execution_count": 14,
   "metadata": {},
   "outputs": [
    {
     "name": "stdout",
     "output_type": "stream",
     "text": [
      "Berkeley_11062012_Mayor.csv  gamma:  0.7355862562904046  new gamma:  0.48939819439470755\n",
      "Easthampton_11022021_Mayor.csv  gamma:  0.8432799611838914  new gamma:  0.608927704997574\n",
      "Hawaii_05232020_PresidentoftheUnitedStateCD1CD2.csv  gamma:  0.7479414455626715  new gamma:  0.44473353156450135\n",
      "Hawaii_05232020_PresidentoftheUnitedStateCD2.csv  gamma:  0.727553572304222  new gamma:  0.41730005394007746\n",
      "Minneapolis_11022021_Mayor.csv  gamma:  0.7278546111613038  new gamma:  0.2821113350476058\n",
      "Minneapolis_11052013_Mayor.csv  gamma:  0.6102446521706266  new gamma:  0.16752752651868275\n",
      "Minneapolis_11052013_Ward9CityCouncil.csv  gamma:  0.5887154861944778  new gamma:  0.329171668667467\n",
      "Minneapolis_11062009_Mayor.csv  gamma:  0.813830141363929  new gamma:  0.5950156454583786\n",
      "Minneapolis_11062009_Ward1CityCouncil.csv  gamma:  0.7830141129032258  new gamma:  0.5589717741935484\n",
      "Minneapolis_11062009_Ward8CityCouncil.csv  gamma:  0.806660200452635  new gamma:  0.4901390236016812\n",
      "Minneapolis_11072017_Mayor.csv  gamma:  0.5455738018863407  new gamma:  0.15836644802987504\n",
      "NewYorkCity_06222021_DEMBoroughPresidentKings.csv  gamma:  0.564548451072122  new gamma:  0.3512089446006924\n",
      "NewYorkCity_06222021_DEMCouncilMember1stCouncilDistrict.csv  gamma:  0.5630752323824351  new gamma:  0.3515270845734695\n",
      "NewYorkCity_06222021_DEMCouncilMember22ndCouncilDistrict.csv  gamma:  0.5264454159226648  new gamma:  0.31377378240256143\n",
      "Oakland_11022010_CityCouncilDistrict4.csv  gamma:  0.5585753111142898  new gamma:  0.27320841081390357\n",
      "Oakland_11022010_Mayor.csv  gamma:  0.4746503350433634  new gamma:  0.18571929883194357\n",
      "Oakland_11042014_Mayor.csv  gamma:  0.5545975326021076  new gamma:  0.25287895673255517\n",
      "Oakland_11062012_CityCouncilDistrict1.csv  gamma:  0.6032566915927039  new gamma:  0.35208609965755816\n",
      "Oakland_11062018_CityCouncilDistrict4.csv  gamma:  0.6093218327134605  new gamma:  0.28115850280921106\n",
      "Oakland_11082016_CouncilAtLrg.csv  gamma:  0.6035789224629063  new gamma:  0.3867452850747477\n",
      "Oakland_11082022_Mayor.csv  gamma:  0.4307127849728747  new gamma:  0.2076342939571639\n",
      "Portland_06142022_SchoolboardAL.csv  gamma:  0.5449337227589306  new gamma:  0.12154572006290722\n",
      "SanFrancisco_06052018_Mayor.csv  gamma:  0.6071846235849132  new gamma:  0.32396041336844367\n",
      "SanFrancisco_11022004_BoardofSupervisorsDistrict5.csv  gamma:  0.4274402574838361  new gamma:  0.12464040559400723\n",
      "SanFrancisco_11022004_BoardofSupervisorsDistrict7.csv  gamma:  0.5541894497297639  new gamma:  0.2107525522298429\n",
      "SanFrancisco_11022004_BoardofSupervisorsDistrict11.csv  gamma:  0.5630393510528132  new gamma:  0.3297808077321367\n",
      "SanFrancisco_11022010_BoardofSupervisorsDistrict6.csv  gamma:  0.5246581801037247  new gamma:  0.31645450259311647\n",
      "SanFrancisco_11022010_BoardofSupervisorsDistrict10.csv  gamma:  0.5343965325627917  new gamma:  0.31662591687041564\n",
      "SanFrancisco_11042008_BoardofSupervisorsDistrict1.csv  gamma:  0.6524694783573807  new gamma:  0.3031007214206437\n",
      "SanFrancisco_11042008_BoardofSupervisorsDistrict11.csv  gamma:  0.5820715206185567  new gamma:  0.2721891108247423\n",
      "SanFrancisco_11062012_BoardofSupervisorsDistrict5.csv  gamma:  0.6221856745874214  new gamma:  0.3203085124482504\n",
      "SanFrancisco_11062018_BoardofSupervisorsDistrict4.csv  gamma:  0.6076690990738142  new gamma:  0.37605248386191414\n",
      "SanFrancisco_11082011_Mayor.csv  gamma:  0.5164194126497517  new gamma:  0.23329687427787962\n",
      "SanFrancisco_11082016_BoardofSupervisorsDistrict1.csv  gamma:  0.620253562777236  new gamma:  0.2842671532387454\n",
      "34\n"
     ]
    }
   ],
   "source": [
    "total = 0\n",
    "for index, row in new_gamma.iterrows():\n",
    "    if abs(row['gamma']-row['new_gamma']) >= 0.2:\n",
    "        total += 1\n",
    "        print(row['filename'], \" gamma: \", row['gamma'], \" new gamma: \", row['new_gamma'])\n",
    "print(total)"
   ]
  },
  {
   "cell_type": "code",
   "execution_count": null,
   "metadata": {},
   "outputs": [],
   "source": []
  }
 ],
 "metadata": {
  "kernelspec": {
   "display_name": "Python 3",
   "language": "python",
   "name": "python3"
  },
  "language_info": {
   "codemirror_mode": {
    "name": "ipython",
    "version": 3
   },
   "file_extension": ".py",
   "mimetype": "text/x-python",
   "name": "python",
   "nbconvert_exporter": "python",
   "pygments_lexer": "ipython3",
   "version": "3.9.12"
  },
  "orig_nbformat": 4
 },
 "nbformat": 4,
 "nbformat_minor": 2
}
