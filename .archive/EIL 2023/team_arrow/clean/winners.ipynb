{
 "cells": [
  {
   "cell_type": "code",
   "execution_count": null,
   "metadata": {},
   "outputs": [],
   "source": [
    "import seaborn as sns\n",
    "\n",
    "from scipy.stats import kurtosis, skew\n",
    "import pandas as pd\n",
    "from rcv_distribution import *\n",
    "from rcv_dimensionality import *\n",
    "from voting_rules import *\n",
    "import pandas as pd\n",
    "import os "
   ]
  },
  {
   "cell_type": "code",
   "execution_count": 1,
   "metadata": {},
   "outputs": [
    {
     "ename": "NameError",
     "evalue": "name 'pd' is not defined",
     "output_type": "error",
     "traceback": [
      "\u001b[1;31m---------------------------------------------------------------------------\u001b[0m",
      "\u001b[1;31mNameError\u001b[0m                                 Traceback (most recent call last)",
      "Input \u001b[1;32mIn [1]\u001b[0m, in \u001b[0;36m<cell line: 1>\u001b[1;34m()\u001b[0m\n\u001b[1;32m----> 1\u001b[0m winners \u001b[38;5;241m=\u001b[39m \u001b[43mpd\u001b[49m\u001b[38;5;241m.\u001b[39mDataFrame(columns\u001b[38;5;241m=\u001b[39m[\u001b[38;5;124m\"\u001b[39m\u001b[38;5;124mfilename\u001b[39m\u001b[38;5;124m\"\u001b[39m, \u001b[38;5;124m\"\u001b[39m\u001b[38;5;124mdiff\u001b[39m\u001b[38;5;124m\"\u001b[39m, \u001b[38;5;124m\"\u001b[39m\u001b[38;5;124mIRV1\u001b[39m\u001b[38;5;124m\"\u001b[39m, \u001b[38;5;124m\"\u001b[39m\u001b[38;5;124mCondorcet1\u001b[39m\u001b[38;5;124m\"\u001b[39m, \u001b[38;5;124m\"\u001b[39m\u001b[38;5;124mPlurality1\u001b[39m\u001b[38;5;124m\"\u001b[39m, \u001b[38;5;124m\"\u001b[39m\u001b[38;5;124mApproval1\u001b[39m\u001b[38;5;124m\"\u001b[39m \u001b[38;5;124m\"\u001b[39m\u001b[38;5;124mIRV2\u001b[39m\u001b[38;5;124m\"\u001b[39m, \u001b[38;5;124m\"\u001b[39m\u001b[38;5;124mCondorcet2\u001b[39m\u001b[38;5;124m\"\u001b[39m, \u001b[38;5;124m\"\u001b[39m\u001b[38;5;124mPlurality2\u001b[39m\u001b[38;5;124m\"\u001b[39m, \u001b[38;5;124m\"\u001b[39m\u001b[38;5;124mApproval2\u001b[39m\u001b[38;5;124m\"\u001b[39m])\n\u001b[0;32m      2\u001b[0m \u001b[38;5;28mprint\u001b[39m(winners)\n\u001b[0;32m      3\u001b[0m \u001b[38;5;66;03m#winners.columns = [\"filename\", \"IRV1\", \"Condorcet1\"]\u001b[39;00m\n",
      "\u001b[1;31mNameError\u001b[0m: name 'pd' is not defined"
     ]
    }
   ],
   "source": [
    "winners = pd.DataFrame(columns=[\"filename\", \"diff\", \"IRV1\", \"Condorcet1\", \"Plurality1\", \"Approval1\" \"IRV2\", \"Condorcet2\", \"Plurality2\", \"Approval2\"])\n",
    "print(winners)\n",
    "#winners.columns = [\"filename\", \"IRV1\", \"Condorcet1\"]\n",
    "directory = \"dataverse_files\"\n",
    "for filename in os.listdir(directory):\n",
    "    try:\n",
    "        diff = []\n",
    "        #winners[\"filename\"].index[0] = filename\n",
    "        print(filename)\n",
    "        csv = os.path.join(directory, filename)\n",
    "        ballots, candidates = parse_election_data(csv)\n",
    "        #frequency, first = freq(ballots, candidates)\n",
    "        \n",
    "        # Perform the RCV analysis\n",
    "        test = perform_rcv_analysis(csv, n_runs=1000)\n",
    "        mds_1d_coordinates, mds_2d_coordinates, most_common_order, order_frequencies, candidate_names = test\n",
    "\n",
    "        # Print the normalized distances between candidates and plot the MDS analysis\n",
    "        normalized_distances = get_distances_normalized(most_common_order, mds_1d_coordinates, candidate_names)\n",
    "\n",
    "        election = voting_rules(ballots, candidates)\n",
    "        irv1 = election.irv()\n",
    "        condorcet1 = election.condorcet()\n",
    "        plurality1 = election.plurality()\n",
    "        approval1 = election.approval()\n",
    "        \n",
    "        #print({'filename': filename, 'IRV1': irv_winner, 'Condorcet1': condorcet_winner})\n",
    "        #print(winners)\n",
    "        consistent_ballots = {}\n",
    "        most_consistent_permutation = []\n",
    "        permutation_numbers = []\n",
    "        for candidate in normalized_distances:\n",
    "            most_consistent_permutation.append(candidate)\n",
    "            permutation_numbers.append(normalized_distances[candidate])\n",
    "\n",
    "        points = {}\n",
    "\n",
    "        equal = {}\n",
    "        for i in range(len(most_consistent_permutation)):\n",
    "            equal[most_consistent_permutation[i]] = i\n",
    "\n",
    "        for ballot in ballots:\n",
    "            equal_distances = []\n",
    "            for candidate in ballot:\n",
    "                equal_distances.append(equal[candidate])\n",
    "\n",
    "            mds_distances = []\n",
    "            for candidate in ballot:\n",
    "                mds_distances.append(normalized_distances[candidate])\n",
    "\n",
    "            #checking if the ballot is consistent with the mds permutation but assuming they are equaly distances \n",
    "            check_consistency = evaluate_ballot_consistency(equal_distances, len(candidates))\n",
    "            if check_consistency[0] is True:\n",
    "                consistent_ballots[ballot] = ballots[ballot]\n",
    "\n",
    "        election = voting_rules(consistent_ballots, candidates)\n",
    "        irv2 = election.irv()\n",
    "        condorcet2 = election.condorcet()\n",
    "        plurality2 = election.plurality()\n",
    "        approval2 = election.approval()\n",
    "        if (irv1 != irv2):\n",
    "            diff.append(\"IRV\")\n",
    "        if (condorcet1 != condorcet2):\n",
    "            diff.append(\"Condorcet\")\n",
    "        if (plurality1 != plurality2):\n",
    "            diff.append(\"Plurality\")\n",
    "        if (approval1 != approval2):\n",
    "            diff.append(\"Approval\")\n",
    "        winners = winners.append({'filename': filename, 'diff': diff, 'IRV1': irv1, 'Condorcet1': condorcet1,\n",
    "                                'Plurality1': plurality1, 'Approval1': approval1,\n",
    "                                'IRV2': irv2, \"Condorcet2\": condorcet2, \n",
    "                                'Plurality2':plurality2, 'Approval2': approval2}, ignore_index=True)\n",
    "        #print({'filename': filename, 'IRV1': irv_winner, 'Condorcet1': condorcet_winner, 'IRV2': irv2, \"Condorcet2\": condorcet2})\n",
    "    except:\n",
    "        print(filename, \" threw an error\")\n",
    "winners.to_csv('interval_winners.csv', index=False)\n"
   ]
  },
  {
   "cell_type": "code",
   "execution_count": 29,
   "metadata": {},
   "outputs": [
    {
     "name": "stdout",
     "output_type": "stream",
     "text": [
      "                                     filename               IRV1  \\\n",
      "0         Alaska_11082022_SenateDistrictR.csv      Bishop, Click   \n",
      "1         Alaska_11082022_SenateDistrictS.csv  Hoffman, Lyman F.   \n",
      "2  Berkeley_11062012_CityCouncilDistrict5.csv   LAURIE CAPITELLI   \n",
      "3  Berkeley_11062012_CityCouncilDistrict6.csv      SUSAN WENGRAF   \n",
      "\n",
      "          Condorcet1                     IRV2               Condorcet2  \n",
      "0      Bishop, Click  Williams, Robert \"Bert\"  Williams, Robert \"Bert\"  \n",
      "1  Hoffman, Lyman F.            Keppel, Willy            Keppel, Willy  \n",
      "2   LAURIE CAPITELLI              SOPHIE HAHN              SOPHIE HAHN  \n",
      "3      SUSAN WENGRAF            SUSAN WENGRAF            SUSAN WENGRAF  \n"
     ]
    }
   ],
   "source": [
    "print(winners)"
   ]
  },
  {
   "cell_type": "code",
   "execution_count": 31,
   "metadata": {},
   "outputs": [],
   "source": [
    "winners.to_csv('winners.csv', index=False)"
   ]
  },
  {
   "cell_type": "code",
   "execution_count": null,
   "metadata": {},
   "outputs": [],
   "source": []
  }
 ],
 "metadata": {
  "kernelspec": {
   "display_name": "base",
   "language": "python",
   "name": "python3"
  },
  "language_info": {
   "codemirror_mode": {
    "name": "ipython",
    "version": 3
   },
   "file_extension": ".py",
   "mimetype": "text/x-python",
   "name": "python",
   "nbconvert_exporter": "python",
   "pygments_lexer": "ipython3",
   "version": "3.9.12"
  }
 },
 "nbformat": 4,
 "nbformat_minor": 2
}
