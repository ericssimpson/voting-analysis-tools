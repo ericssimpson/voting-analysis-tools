{
 "cells": [
  {
   "cell_type": "code",
   "execution_count": 1,
   "metadata": {},
   "outputs": [],
   "source": [
    "import consistency\n",
    "from Mahshad_dim import *\n",
    "from rcv_distribution import *"
   ]
  },
  {
   "cell_type": "code",
   "execution_count": 2,
   "metadata": {},
   "outputs": [
    {
     "name": "stdout",
     "output_type": "stream",
     "text": [
      "['REP Poliquin, Bruce', 'DEM Golden, Jared F.', 'Bond, Tiffany L.', 'Hoar, William R.S.']\n",
      "('REP Poliquin, Bruce',)   [0, nan, nan, nan]\n",
      "('DEM Golden, Jared F.', 'Bond, Tiffany L.')   [1, 2, nan, nan]\n",
      "('REP Poliquin, Bruce', 'DEM Golden, Jared F.', 'Bond, Tiffany L.', 'Hoar, William R.S.')   [0, 1, 2, 3]\n",
      "('Hoar, William R.S.', 'REP Poliquin, Bruce', 'Bond, Tiffany L.', 'DEM Golden, Jared F.')   [3, 0, 2, 1]\n",
      "()   [nan, nan, nan, nan]\n",
      "('DEM Golden, Jared F.', 'Bond, Tiffany L.', 'Hoar, William R.S.', 'REP Poliquin, Bruce')   [1, 2, 3, 0]\n",
      "('REP Poliquin, Bruce', 'Hoar, William R.S.', 'Bond, Tiffany L.', 'DEM Golden, Jared F.')   [0, 3, 2, 1]\n",
      "('Hoar, William R.S.', 'Bond, Tiffany L.', 'REP Poliquin, Bruce', 'DEM Golden, Jared F.')   [3, 2, 0, 1]\n",
      "('DEM Golden, Jared F.',)   [1, nan, nan, nan]\n",
      "('Hoar, William R.S.', 'REP Poliquin, Bruce', 'DEM Golden, Jared F.', 'Bond, Tiffany L.')   [3, 0, 1, 2]\n",
      "('DEM Golden, Jared F.', 'Hoar, William R.S.', 'REP Poliquin, Bruce')   [1, 3, 0, nan]\n",
      "('DEM Golden, Jared F.', 'Bond, Tiffany L.', 'Hoar, William R.S.')   [1, 2, 3, nan]\n",
      "('Bond, Tiffany L.', 'DEM Golden, Jared F.', 'Hoar, William R.S.')   [2, 1, 3, nan]\n",
      "('REP Poliquin, Bruce', 'Hoar, William R.S.')   [0, 3, nan, nan]\n",
      "('Bond, Tiffany L.', 'Hoar, William R.S.')   [2, 3, nan, nan]\n",
      "('REP Poliquin, Bruce', 'Hoar, William R.S.', 'Bond, Tiffany L.')   [0, 3, 2, nan]\n",
      "('Bond, Tiffany L.', 'Hoar, William R.S.', 'REP Poliquin, Bruce', 'DEM Golden, Jared F.')   [2, 3, 0, 1]\n",
      "('REP Poliquin, Bruce', 'DEM Golden, Jared F.')   [0, 1, nan, nan]\n",
      "('REP Poliquin, Bruce', 'Hoar, William R.S.', 'DEM Golden, Jared F.')   [0, 3, 1, nan]\n",
      "('DEM Golden, Jared F.', 'Hoar, William R.S.', 'Bond, Tiffany L.', 'REP Poliquin, Bruce')   [1, 3, 2, 0]\n",
      "('Bond, Tiffany L.', 'DEM Golden, Jared F.', 'Hoar, William R.S.', 'REP Poliquin, Bruce')   [2, 1, 3, 0]\n",
      "('Bond, Tiffany L.', 'REP Poliquin, Bruce', 'DEM Golden, Jared F.', 'Hoar, William R.S.')   [2, 0, 1, 3]\n",
      "('DEM Golden, Jared F.', 'Hoar, William R.S.')   [1, 3, nan, nan]\n",
      "('DEM Golden, Jared F.', 'REP Poliquin, Bruce', 'Bond, Tiffany L.', 'Hoar, William R.S.')   [1, 0, 2, 3]\n",
      "('Bond, Tiffany L.',)   [2, nan, nan, nan]\n",
      "('Bond, Tiffany L.', 'Hoar, William R.S.', 'DEM Golden, Jared F.', 'REP Poliquin, Bruce')   [2, 3, 1, 0]\n",
      "('REP Poliquin, Bruce', 'Bond, Tiffany L.')   [0, 2, nan, nan]\n",
      "('REP Poliquin, Bruce', 'Bond, Tiffany L.', 'Hoar, William R.S.', 'DEM Golden, Jared F.')   [0, 2, 3, 1]\n",
      "('REP Poliquin, Bruce', 'Bond, Tiffany L.', 'DEM Golden, Jared F.')   [0, 2, 1, nan]\n",
      "('DEM Golden, Jared F.', 'Hoar, William R.S.', 'Bond, Tiffany L.')   [1, 3, 2, nan]\n",
      "('REP Poliquin, Bruce', 'Bond, Tiffany L.', 'DEM Golden, Jared F.', 'Hoar, William R.S.')   [0, 2, 1, 3]\n",
      "('Bond, Tiffany L.', 'DEM Golden, Jared F.', 'REP Poliquin, Bruce', 'Hoar, William R.S.')   [2, 1, 0, 3]\n",
      "('DEM Golden, Jared F.', 'Hoar, William R.S.', 'REP Poliquin, Bruce', 'Bond, Tiffany L.')   [1, 3, 0, 2]\n",
      "('DEM Golden, Jared F.', 'Bond, Tiffany L.', 'REP Poliquin, Bruce', 'Hoar, William R.S.')   [1, 2, 0, 3]\n",
      "('DEM Golden, Jared F.', 'Bond, Tiffany L.', 'REP Poliquin, Bruce')   [1, 2, 0, nan]\n",
      "('REP Poliquin, Bruce', 'DEM Golden, Jared F.', 'Hoar, William R.S.', 'Bond, Tiffany L.')   [0, 1, 3, 2]\n",
      "('Hoar, William R.S.', 'Bond, Tiffany L.', 'DEM Golden, Jared F.', 'REP Poliquin, Bruce')   [3, 2, 1, 0]\n",
      "('Hoar, William R.S.', 'DEM Golden, Jared F.', 'Bond, Tiffany L.', 'REP Poliquin, Bruce')   [3, 1, 2, 0]\n",
      "('REP Poliquin, Bruce', 'Bond, Tiffany L.', 'Hoar, William R.S.')   [0, 2, 3, nan]\n",
      "('DEM Golden, Jared F.', 'REP Poliquin, Bruce')   [1, 0, nan, nan]\n",
      "('DEM Golden, Jared F.', 'REP Poliquin, Bruce', 'Hoar, William R.S.', 'Bond, Tiffany L.')   [1, 0, 3, 2]\n",
      "('Hoar, William R.S.',)   [3, nan, nan, nan]\n",
      "('REP Poliquin, Bruce', 'DEM Golden, Jared F.', 'Bond, Tiffany L.')   [0, 1, 2, nan]\n",
      "('Bond, Tiffany L.', 'DEM Golden, Jared F.')   [2, 1, nan, nan]\n",
      "('REP Poliquin, Bruce', 'Hoar, William R.S.', 'DEM Golden, Jared F.', 'Bond, Tiffany L.')   [0, 3, 1, 2]\n",
      "('Hoar, William R.S.', 'REP Poliquin, Bruce')   [3, 0, nan, nan]\n",
      "('Hoar, William R.S.', 'DEM Golden, Jared F.')   [3, 1, nan, nan]\n",
      "('Bond, Tiffany L.', 'Hoar, William R.S.', 'DEM Golden, Jared F.')   [2, 3, 1, nan]\n",
      "('Bond, Tiffany L.', 'DEM Golden, Jared F.', 'REP Poliquin, Bruce')   [2, 1, 0, nan]\n",
      "('DEM Golden, Jared F.', 'REP Poliquin, Bruce', 'Hoar, William R.S.')   [1, 0, 3, nan]\n",
      "('Bond, Tiffany L.', 'Hoar, William R.S.', 'REP Poliquin, Bruce')   [2, 3, 0, nan]\n",
      "('Hoar, William R.S.', 'Bond, Tiffany L.', 'DEM Golden, Jared F.')   [3, 2, 1, nan]\n",
      "('Hoar, William R.S.', 'Bond, Tiffany L.', 'REP Poliquin, Bruce')   [3, 2, 0, nan]\n",
      "('Hoar, William R.S.', 'DEM Golden, Jared F.', 'REP Poliquin, Bruce')   [3, 1, 0, nan]\n",
      "('REP Poliquin, Bruce', 'DEM Golden, Jared F.', 'Hoar, William R.S.')   [0, 1, 3, nan]\n",
      "('Bond, Tiffany L.', 'REP Poliquin, Bruce')   [2, 0, nan, nan]\n",
      "('Hoar, William R.S.', 'REP Poliquin, Bruce', 'DEM Golden, Jared F.')   [3, 0, 1, nan]\n",
      "('DEM Golden, Jared F.', 'REP Poliquin, Bruce', 'Bond, Tiffany L.')   [1, 0, 2, nan]\n",
      "('Bond, Tiffany L.', 'REP Poliquin, Bruce', 'Hoar, William R.S.', 'DEM Golden, Jared F.')   [2, 0, 3, 1]\n",
      "('Hoar, William R.S.', 'DEM Golden, Jared F.', 'REP Poliquin, Bruce', 'Bond, Tiffany L.')   [3, 1, 0, 2]\n",
      "('Hoar, William R.S.', 'Bond, Tiffany L.')   [3, 2, nan, nan]\n",
      "('Bond, Tiffany L.', 'REP Poliquin, Bruce', 'DEM Golden, Jared F.')   [2, 0, 1, nan]\n",
      "('Hoar, William R.S.', 'DEM Golden, Jared F.', 'Bond, Tiffany L.')   [3, 1, 2, nan]\n",
      "('Hoar, William R.S.', 'REP Poliquin, Bruce', 'Bond, Tiffany L.')   [3, 0, 2, nan]\n",
      "('Bond, Tiffany L.', 'REP Poliquin, Bruce', 'Hoar, William R.S.')   [2, 0, 3, nan]\n"
     ]
    },
    {
     "name": "stderr",
     "output_type": "stream",
     "text": [
      "c:\\Users\\mahsh\\Documents\\GitHub\\bugs-in-democracy\\EIL summer 2023\\Mahshad_dim.py:160: RuntimeWarning: divide by zero encountered in true_divide\n",
      "  distance = 1 / np.sqrt(freq_upper_triangle)\n"
     ]
    },
    {
     "name": "stdout",
     "output_type": "stream",
     "text": [
      "Normalized distances: {'DEM Golden, Jared F.': 0.0, 'Bond, Tiffany L.': 0.9547802202493554, 'Hoar, William R.S.': 1.7625378597245533, 'REP Poliquin, Bruce': 3.0}\n"
     ]
    }
   ],
   "source": [
    "csv =  \"dataverse_files/Maine_11062018_CongressionalDistrict2.csv\"\n",
    "ballots, candidates = parse_election_data(csv)\n",
    "print(candidates)\n",
    "\n",
    "# Perform the RCV analysis\n",
    "test = perform_rcv_analysis(ballots, candidates, 1000)\n",
    "mds_1d_coordinates, mds_2d_coordinates, most_common_order, order_frequencies, candidate_names = test\n",
    "\n",
    "normalized_distances = get_distances_normalized(most_common_order, mds_1d_coordinates, candidate_names)\n",
    "print(\"Normalized distances:\", normalized_distances)"
   ]
  },
  {
   "cell_type": "code",
   "execution_count": 3,
   "metadata": {},
   "outputs": [
    {
     "name": "stdout",
     "output_type": "stream",
     "text": [
      "0.8437871576328024\n",
      "0.8033906716893734\n"
     ]
    }
   ],
   "source": [
    "gamma_per = consistency.get_interval_consistent_ballots(ballots, normalized_distances)[1]\n",
    "gamma_strict = consistency.get_strict_gamma(ballots, candidates, normalized_distances)\n",
    "print(gamma_per)\n",
    "print(gamma_strict)"
   ]
  },
  {
   "cell_type": "code",
   "execution_count": 10,
   "metadata": {},
   "outputs": [
    {
     "name": "stdout",
     "output_type": "stream",
     "text": [
      "0.7182516569073132\n",
      "0.6296661370537207\n"
     ]
    }
   ],
   "source": [
    "normalized_distances = {'REP Poliquin, Bruce': 0.0, 'Hoar, William R.S.': 2, 'DEM Golden, Jared F.' : 1, 'Bond, Tiffany L.': 3.0}\n",
    "gamma_per = consistency.get_interval_consistent_ballots(ballots, normalized_distances)[1]\n",
    "gamma_strict = consistency.get_strict_gamma(ballots, candidates, normalized_distances)\n",
    "print(gamma_per)\n",
    "print(gamma_strict)"
   ]
  },
  {
   "cell_type": "code",
   "execution_count": null,
   "metadata": {},
   "outputs": [],
   "source": []
  }
 ],
 "metadata": {
  "kernelspec": {
   "display_name": "base",
   "language": "python",
   "name": "python3"
  },
  "language_info": {
   "codemirror_mode": {
    "name": "ipython",
    "version": 3
   },
   "file_extension": ".py",
   "mimetype": "text/x-python",
   "name": "python",
   "nbconvert_exporter": "python",
   "pygments_lexer": "ipython3",
   "version": "3.9.12"
  }
 },
 "nbformat": 4,
 "nbformat_minor": 2
}
