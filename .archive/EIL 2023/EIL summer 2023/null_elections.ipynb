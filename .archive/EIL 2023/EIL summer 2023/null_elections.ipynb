{
 "cells": [
  {
   "cell_type": "code",
   "execution_count": 11,
   "metadata": {},
   "outputs": [],
   "source": [
    "import seaborn as sns\n",
    "from scipy.optimize import linprog\n",
    "from scipy.stats import kurtosis, skew\n",
    "import os \n",
    "from rcv_distribution import *\n",
    "from rcv_dimensionality import *\n",
    "from voting_rules import *\n",
    "from null_elections import *\n",
    "import random"
   ]
  },
  {
   "cell_type": "code",
   "execution_count": null,
   "metadata": {},
   "outputs": [],
   "source": [
    "#winners = pd.DataFrame(columns=[\"filename\", \"diff\", \"interval gamma\", \"#candidates\",\"IRV1\", \"Condorcet1\", \"Plurality1\", \"Approval1\" \"IRV2\", \"Condorcet2\", \"Plurality2\", \"Approval2\"])\n",
    "directory = \"dataverse_files\"\n",
    "count = 0\n",
    "for filename in os.listdir(directory):\n",
    "    df = pd.DataFrame(columns=['candidate', 'position', 'first place count', 'first place freq'])\n",
    "    count += 1\n",
    "    if (count % 10 == 0):\n",
    "        print(count, \" \", filename)\n",
    "        print(df)\n",
    "    try:\n",
    "        csv =  os.path.join(directory, filename)\n",
    "        total = 0\n",
    "        ballots, candidates = parse_election_data(csv)\n",
    "        df['candidate'] = candidates\n",
    "        df['first place count'] = [-1 for candidate in candidates]\n",
    "        df['first place freq'] = [-1 for candidate in candidates]\n",
    "        for i in range (len(candidates)):\n",
    "            df['len_' + str(i+1)] = [-1 for candidate in candidates]\n",
    "\n",
    "        for b in ballots:\n",
    "            if len(b) > 0:\n",
    "                first_place = b[0]\n",
    "                total += ballots[b]\n",
    "                #print(df.loc[df['candidate']==first_place, 'len_1'].values)\n",
    "                if df.loc[df['candidate']==first_place, 'first place count'].values[0] == -1:\n",
    "                    df.loc[df['candidate']==first_place, 'first place count'] = 0\n",
    "                df.loc[df['candidate']==first_place, 'first place count'] += ballots[b]\n",
    "                length = len(b)\n",
    "                if (length > 0):\n",
    "                    if df.loc[df['candidate']==first_place, 'len_'+str(length)].values[0] == -1:\n",
    "                        df.loc[df['candidate']==first_place, 'len_'+str(length)] = 0\n",
    "                    df.loc[df['candidate']==first_place, 'len_'+str(length)] += ballots[b]\n",
    "\n",
    "        # Perform the RCV analysis\n",
    "        test = perform_rcv_analysis(csv, n_runs=1000)\n",
    "        mds_1d_coordinates, mds_2d_coordinates, most_common_order, order_frequencies, candidate_names = test\n",
    "\n",
    "        # Print the normalized distances between candidates and plot the MDS analysis\n",
    "        normalized_distances = get_distances_normalized(most_common_order, mds_1d_coordinates, candidate_names)\n",
    "        for c in candidates:\n",
    "            df.loc[df['candidate']==c, 'position'] = normalized_distances[c]\n",
    "            df.loc[df['candidate']==c, 'first place freq'] = df.loc[df['candidate']==c, 'first place count']/total\n",
    "        df.to_csv(os.path.join(\"null_elections\", filename))\n",
    "        if (count % 10 == 0):\n",
    "            print(count, \" \", filename)\n",
    "            print(df)\n",
    "    except:\n",
    "        print(filename, \" threw an exception\")\n"
   ]
  },
  {
   "cell_type": "code",
   "execution_count": null,
   "metadata": {},
   "outputs": [],
   "source": [
    "csv = \"dataverse_files/Maine_11062018_CongressionalDistrict2.csv\"\n",
    "ballots, candidates = parse_election_data(csv)\n",
    "df = pd.DataFrame(columns=['candidate', 'position', 'first place count', 'fist place freq'])\n",
    "df['candidate'] = candidates\n",
    "for i in range (len(candidates)):\n",
    "    df['len_' + str(i+1)] = [None for candidate in candidates]\n",
    "print(df)"
   ]
  },
  {
   "cell_type": "code",
   "execution_count": null,
   "metadata": {},
   "outputs": [],
   "source": [
    "#df = pd.DataFrame(columns=['candidate', 'position'])\n",
    "df['candidate'] = candidates\n",
    "\n",
    "for i in range (len(candidates)):\n",
    "    df['len_' + str(i+1)] = [-1 for candidate in candidates]\n",
    "total = 0\n",
    "for b in ballots:\n",
    "    if len(b) > 0:\n",
    "        #print(b)\n",
    "        total += ballots[b]\n",
    "        first_place = b[0]\n",
    "        #print(df.loc[df['candidate']==first_place, 'len_1'].values)\n",
    "        if df.loc[df['candidate']==first_place, 'len_1'].values[0] == -1:\n",
    "            df.loc[df['candidate']==first_place, 'len_1'] = 0\n",
    "        df.loc[df['candidate']==first_place, 'len_1'] += ballots[b]\n",
    "        length = len(b)\n",
    "        if (length > 1):\n",
    "            if df.loc[df['candidate']==first_place, 'len_'+str(length)].values[0] == -1:\n",
    "                df.loc[df['candidate']==first_place, 'len_'+str(length)] = 0\n",
    "            df.loc[df['candidate']==first_place, 'len_'+str(length)] += ballots[b]\n",
    "print(df)\n",
    "print(total)"
   ]
  },
  {
   "cell_type": "code",
   "execution_count": null,
   "metadata": {},
   "outputs": [],
   "source": []
  },
  {
   "cell_type": "code",
   "execution_count": null,
   "metadata": {},
   "outputs": [],
   "source": [
    "filename = \"dataverse_files/Maine_11062018_CongressionalDistrict2.csv\"\n",
    "df = pd.DataFrame(columns=['candidate', 'position', 'first place count', 'first place freq'])\n",
    "\n",
    "\n",
    "#csv =  os.path.join(directory, filename)\n",
    "total = 0\n",
    "ballots, candidates = parse_election_data(csv)\n",
    "df['candidate'] = candidates\n",
    "df['first place count'] = [-1 for candidate in candidates]\n",
    "df['first place freq'] = [-1 for candidate in candidates]\n",
    "for i in range (len(candidates)):\n",
    "    df['len_' + str(i+1)] = [-1 for candidate in candidates]\n",
    "\n",
    "for b in ballots:\n",
    "    if len(b) > 0:\n",
    "        first_place = b[0]\n",
    "        total += ballots[b]\n",
    "        #print(df.loc[df['candidate']==first_place, 'len_1'].values)\n",
    "        if df.loc[df['candidate']==first_place, 'first place count'].values[0] == -1:\n",
    "            df.loc[df['candidate']==first_place, 'first place count'] = 0\n",
    "        df.loc[df['candidate']==first_place, 'first place count'] += ballots[b]\n",
    "        length = len(b)\n",
    "        if (length > 0):\n",
    "            if df.loc[df['candidate']==first_place, 'len_'+str(length)].values[0] == -1:\n",
    "                df.loc[df['candidate']==first_place, 'len_'+str(length)] = 0\n",
    "            df.loc[df['candidate']==first_place, 'len_'+str(length)] += ballots[b]\n",
    "\n",
    "# Perform the RCV analysis\n",
    "test = perform_rcv_analysis(csv, n_runs=1000)\n",
    "mds_1d_coordinates, mds_2d_coordinates, most_common_order, order_frequencies, candidate_names = test\n",
    "\n",
    "# Print the normalized distances between candidates and plot the MDS analysis\n",
    "normalized_distances = get_distances_normalized(most_common_order, mds_1d_coordinates, candidate_names)\n",
    "for c in candidates:\n",
    "    df.loc[df['candidate']==c, 'position'] = normalized_distances[c]\n",
    "    df.loc[df['candidate']==c, 'first place freq'] = df.loc[df['candidate']==c, 'first place count']/total\n",
    "#df.to_csv(os.path.join(\"null_elections\", filename))\n",
    "print(df)\n",
    "\n"
   ]
  },
  {
   "cell_type": "code",
   "execution_count": null,
   "metadata": {},
   "outputs": [],
   "source": [
    "df = pd.read_csv(\"null_elections/Maine_11062018_CongressionalDistrict2.csv\")\n",
    "print(df)"
   ]
  },
  {
   "cell_type": "code",
   "execution_count": null,
   "metadata": {},
   "outputs": [],
   "source": [
    "ballots = {}\n",
    "candidates = df['candidate'].values\n",
    "\n",
    "\n",
    "for c in candidates:\n",
    "    ballots[(c,)] = df.loc[df['candidate']==c, 'len_1'].values[0]\n",
    "    b = (c,)\n",
    "    #print(\"candidate: \", c, ballots)\n",
    "    for i in range(2, len(candidates) + 1):\n",
    "        if df.loc[df['candidate']==c, 'len_'+str(i)].values[0] != -1:\n",
    "            count_i = df.loc[df['candidate']==c, 'len_'+str(i)].values[0]\n",
    "            \n",
    "            while(len(b) < i):\n",
    "                random_candidate = random.choice(candidates)\n",
    "                if random_candidate not in b:\n",
    "                    b += (random_candidate,)\n",
    "           # print(\"len_\"+str(i), \": \", b)\n",
    "            ballots[b] = count_i\n",
    "print(ballots)\n",
    "print(df)\n"
   ]
  },
  {
   "cell_type": "code",
   "execution_count": 3,
   "metadata": {},
   "outputs": [],
   "source": [
    "def calculate_intervals(numbers):\n",
    "    midpoints = []\n",
    "    for i in range(len(numbers)):\n",
    "        for j in range(i + 1, len(numbers)):\n",
    "            midpoints.append((numbers[i] + numbers[j])/2)\n",
    "\n",
    "    intervals = []\n",
    "    midpoints = sorted(midpoints)\n",
    "    for i in range(len(midpoints)):\n",
    "        for j in range(i + 1, len(midpoints)):\n",
    "            intervals.append((midpoints[i], midpoints[j]))\n",
    "    return midpoints, intervals"
   ]
  },
  {
   "cell_type": "code",
   "execution_count": 4,
   "metadata": {},
   "outputs": [],
   "source": [
    "def ballot_to_num(ballot, normalized_distances):\n",
    "    b_num = []\n",
    "    for c in ballot:\n",
    "        b_num.append(normalized_distances[c])\n",
    "    return b_num"
   ]
  },
  {
   "cell_type": "code",
   "execution_count": 6,
   "metadata": {},
   "outputs": [],
   "source": [
    "def solve_lp(b_num, midpoints, intervals, n):\n",
    "    \n",
    "    obj = [1]\n",
    "    lhs_ineq = []\n",
    "    rhs_ineq = []\n",
    "    e = 0.000000001\n",
    "    for i in range(len(b_num)):\n",
    "        for j in range(i + 1, len(b_num)):\n",
    "            mid = (b_num[i]+b_num[j])/2\n",
    "            if (b_num[i] > b_num[j]):\n",
    "                lhs_ineq.append([-1])\n",
    "                rhs_ineq.append(-(e+mid))\n",
    "            if (b_num[i] < b_num[j]):\n",
    "                lhs_ineq.append([1])\n",
    "                rhs_ineq.append(e+mid)\n",
    "    bnd = [0, n-1]\n",
    "    opt = linprog(c=obj, A_ub=lhs_ineq, b_ub=rhs_ineq, bounds=bnd,\n",
    "              method=\"revised simplex\")\n",
    "    return (opt[\"success\"] is True)\n",
    "        \n",
    "\n",
    "    "
   ]
  },
  {
   "cell_type": "code",
   "execution_count": 8,
   "metadata": {},
   "outputs": [],
   "source": [
    "def get_interval_consistent_ballots(ballots, normalized_distances):\n",
    "    \"\"\"\n",
    "    Args:\n",
    "        ballots: a dictionary of ballots paired with the number of voters voting fo that ranking.\n",
    "        normalized_distances: \n",
    "    Return:\n",
    "        consistent_ballots: a dictionary of all consistent ballots.\n",
    "        gamma: the fraction of the consistent ballots.\n",
    "        \n",
    "    \"\"\"\n",
    "    midpoints, intervals = calculate_intervals(list(normalized_distances.values()))\n",
    "\n",
    "    total = 0\n",
    "    consistent = 0\n",
    "    consistent_ballots = {}\n",
    "    for b in ballots:\n",
    "        if (len(b) != 0):\n",
    "            total += ballots[b]\n",
    "            if (len(b) <= 2):\n",
    "                consistent += ballots[b]\n",
    "                consistent_ballots[b] = ballots[b]\n",
    "            else:\n",
    "                b_num = ballot_to_num(b, normalized_distances)\n",
    "                lp = solve_lp(b_num, midpoints, intervals, len(normalized_distances))\n",
    "                if (lp):\n",
    "                    consistent_ballots[b] = ballots[b]\n",
    "                    consistent += ballots[b]\n",
    "    \n",
    "    gamma = consistent/total\n",
    "    return consistent_ballots, gamma\n",
    "        "
   ]
  },
  {
   "cell_type": "code",
   "execution_count": null,
   "metadata": {},
   "outputs": [],
   "source": [
    "normalized_distances = {}\n",
    "for c in candidates:\n",
    "    position = df.loc[df['candidate']==c, 'position']\n",
    "    normalized_distances[c] = position.values[0]\n",
    "print(normalized_distances)\n",
    "consistent_ballots, gamma = get_interval_consistent_ballots(ballots, normalized_distances)"
   ]
  },
  {
   "cell_type": "code",
   "execution_count": null,
   "metadata": {},
   "outputs": [],
   "source": [
    "print(gamma)"
   ]
  },
  {
   "cell_type": "code",
   "execution_count": null,
   "metadata": {},
   "outputs": [],
   "source": [
    "from null_elections import *\n",
    "from interval_consistency import *"
   ]
  },
  {
   "cell_type": "code",
   "execution_count": 12,
   "metadata": {},
   "outputs": [
    {
     "name": "stdout",
     "output_type": "stream",
     "text": [
      "0.7273844162826689\n"
     ]
    }
   ],
   "source": [
    "filename = \"Maine_11062018_CongressionalDistrict2.csv\"\n",
    "runs = 1000\n",
    "sum_gamma = 0\n",
    "for i in range(runs):\n",
    "    gamma = get_null_gamma(filename)[1]\n",
    "    sum_gamma += gamma\n",
    "\n",
    "print(sum_gamma/1000)"
   ]
  },
  {
   "cell_type": "code",
   "execution_count": null,
   "metadata": {},
   "outputs": [],
   "source": [
    "strict = pd.read_csv(\"strict.csv\")\n",
    "permissive = pd.read_csv(\"permissive.csv\")\n",
    "filename = \"Maine_11062018_CongressionalDistrict2.csv\"\n",
    "strict_gamma = strict.loc[strict['filename']==filename, 'gamma']\n",
    "permissive_gamma = permissive.loc[permissive['filename']==filename, 'gamma']\n",
    "print(strict_gamma.values[0])\n",
    "print(permissive_gamma.values[0])"
   ]
  },
  {
   "cell_type": "code",
   "execution_count": 13,
   "metadata": {},
   "outputs": [
    {
     "name": "stderr",
     "output_type": "stream",
     "text": [
      "C:\\Users\\mahsh\\AppData\\Local\\Temp\\ipykernel_19920\\3161752069.py:18: FutureWarning: The frame.append method is deprecated and will be removed from pandas in a future version. Use pandas.concat instead.\n",
      "  df = df.append(new_row, ignore_index=True)\n",
      "C:\\Users\\mahsh\\AppData\\Local\\Temp\\ipykernel_19920\\3161752069.py:18: FutureWarning: The frame.append method is deprecated and will be removed from pandas in a future version. Use pandas.concat instead.\n",
      "  df = df.append(new_row, ignore_index=True)\n",
      "C:\\Users\\mahsh\\AppData\\Local\\Temp\\ipykernel_19920\\3161752069.py:18: FutureWarning: The frame.append method is deprecated and will be removed from pandas in a future version. Use pandas.concat instead.\n",
      "  df = df.append(new_row, ignore_index=True)\n",
      "C:\\Users\\mahsh\\AppData\\Local\\Temp\\ipykernel_19920\\3161752069.py:18: FutureWarning: The frame.append method is deprecated and will be removed from pandas in a future version. Use pandas.concat instead.\n",
      "  df = df.append(new_row, ignore_index=True)\n",
      "C:\\Users\\mahsh\\AppData\\Local\\Temp\\ipykernel_19920\\3161752069.py:18: FutureWarning: The frame.append method is deprecated and will be removed from pandas in a future version. Use pandas.concat instead.\n",
      "  df = df.append(new_row, ignore_index=True)\n",
      "C:\\Users\\mahsh\\AppData\\Local\\Temp\\ipykernel_19920\\3161752069.py:18: FutureWarning: The frame.append method is deprecated and will be removed from pandas in a future version. Use pandas.concat instead.\n",
      "  df = df.append(new_row, ignore_index=True)\n",
      "C:\\Users\\mahsh\\AppData\\Local\\Temp\\ipykernel_19920\\3161752069.py:18: FutureWarning: The frame.append method is deprecated and will be removed from pandas in a future version. Use pandas.concat instead.\n",
      "  df = df.append(new_row, ignore_index=True)\n",
      "C:\\Users\\mahsh\\AppData\\Local\\Temp\\ipykernel_19920\\3161752069.py:18: FutureWarning: The frame.append method is deprecated and will be removed from pandas in a future version. Use pandas.concat instead.\n",
      "  df = df.append(new_row, ignore_index=True)\n",
      "C:\\Users\\mahsh\\AppData\\Local\\Temp\\ipykernel_19920\\3161752069.py:18: FutureWarning: The frame.append method is deprecated and will be removed from pandas in a future version. Use pandas.concat instead.\n",
      "  df = df.append(new_row, ignore_index=True)\n",
      "C:\\Users\\mahsh\\AppData\\Local\\Temp\\ipykernel_19920\\3161752069.py:18: FutureWarning: The frame.append method is deprecated and will be removed from pandas in a future version. Use pandas.concat instead.\n",
      "  df = df.append(new_row, ignore_index=True)\n",
      "C:\\Users\\mahsh\\AppData\\Local\\Temp\\ipykernel_19920\\3161752069.py:18: FutureWarning: The frame.append method is deprecated and will be removed from pandas in a future version. Use pandas.concat instead.\n",
      "  df = df.append(new_row, ignore_index=True)\n",
      "C:\\Users\\mahsh\\AppData\\Local\\Temp\\ipykernel_19920\\3161752069.py:18: FutureWarning: The frame.append method is deprecated and will be removed from pandas in a future version. Use pandas.concat instead.\n",
      "  df = df.append(new_row, ignore_index=True)\n",
      "C:\\Users\\mahsh\\AppData\\Local\\Temp\\ipykernel_19920\\3161752069.py:18: FutureWarning: The frame.append method is deprecated and will be removed from pandas in a future version. Use pandas.concat instead.\n",
      "  df = df.append(new_row, ignore_index=True)\n",
      "C:\\Users\\mahsh\\AppData\\Local\\Temp\\ipykernel_19920\\3161752069.py:18: FutureWarning: The frame.append method is deprecated and will be removed from pandas in a future version. Use pandas.concat instead.\n",
      "  df = df.append(new_row, ignore_index=True)\n",
      "C:\\Users\\mahsh\\AppData\\Local\\Temp\\ipykernel_19920\\3161752069.py:18: FutureWarning: The frame.append method is deprecated and will be removed from pandas in a future version. Use pandas.concat instead.\n",
      "  df = df.append(new_row, ignore_index=True)\n",
      "C:\\Users\\mahsh\\AppData\\Local\\Temp\\ipykernel_19920\\3161752069.py:18: FutureWarning: The frame.append method is deprecated and will be removed from pandas in a future version. Use pandas.concat instead.\n",
      "  df = df.append(new_row, ignore_index=True)\n",
      "C:\\Users\\mahsh\\AppData\\Local\\Temp\\ipykernel_19920\\3161752069.py:18: FutureWarning: The frame.append method is deprecated and will be removed from pandas in a future version. Use pandas.concat instead.\n",
      "  df = df.append(new_row, ignore_index=True)\n",
      "C:\\Users\\mahsh\\AppData\\Local\\Temp\\ipykernel_19920\\3161752069.py:18: FutureWarning: The frame.append method is deprecated and will be removed from pandas in a future version. Use pandas.concat instead.\n",
      "  df = df.append(new_row, ignore_index=True)\n",
      "C:\\Users\\mahsh\\AppData\\Local\\Temp\\ipykernel_19920\\3161752069.py:18: FutureWarning: The frame.append method is deprecated and will be removed from pandas in a future version. Use pandas.concat instead.\n",
      "  df = df.append(new_row, ignore_index=True)\n",
      "C:\\Users\\mahsh\\AppData\\Local\\Temp\\ipykernel_19920\\3161752069.py:18: FutureWarning: The frame.append method is deprecated and will be removed from pandas in a future version. Use pandas.concat instead.\n",
      "  df = df.append(new_row, ignore_index=True)\n",
      "C:\\Users\\mahsh\\AppData\\Local\\Temp\\ipykernel_19920\\3161752069.py:18: FutureWarning: The frame.append method is deprecated and will be removed from pandas in a future version. Use pandas.concat instead.\n",
      "  df = df.append(new_row, ignore_index=True)\n",
      "C:\\Users\\mahsh\\AppData\\Local\\Temp\\ipykernel_19920\\3161752069.py:18: FutureWarning: The frame.append method is deprecated and will be removed from pandas in a future version. Use pandas.concat instead.\n",
      "  df = df.append(new_row, ignore_index=True)\n",
      "C:\\Users\\mahsh\\AppData\\Local\\Temp\\ipykernel_19920\\3161752069.py:18: FutureWarning: The frame.append method is deprecated and will be removed from pandas in a future version. Use pandas.concat instead.\n",
      "  df = df.append(new_row, ignore_index=True)\n",
      "C:\\Users\\mahsh\\AppData\\Local\\Temp\\ipykernel_19920\\3161752069.py:18: FutureWarning: The frame.append method is deprecated and will be removed from pandas in a future version. Use pandas.concat instead.\n",
      "  df = df.append(new_row, ignore_index=True)\n",
      "C:\\Users\\mahsh\\AppData\\Local\\Temp\\ipykernel_19920\\3161752069.py:18: FutureWarning: The frame.append method is deprecated and will be removed from pandas in a future version. Use pandas.concat instead.\n",
      "  df = df.append(new_row, ignore_index=True)\n"
     ]
    },
    {
     "name": "stdout",
     "output_type": "stream",
     "text": [
      "Alaska_11082022_HouseDistrict3.csv  threw an exception\n"
     ]
    },
    {
     "name": "stderr",
     "output_type": "stream",
     "text": [
      "C:\\Users\\mahsh\\AppData\\Local\\Temp\\ipykernel_19920\\3161752069.py:18: FutureWarning: The frame.append method is deprecated and will be removed from pandas in a future version. Use pandas.concat instead.\n",
      "  df = df.append(new_row, ignore_index=True)\n",
      "C:\\Users\\mahsh\\AppData\\Local\\Temp\\ipykernel_19920\\3161752069.py:18: FutureWarning: The frame.append method is deprecated and will be removed from pandas in a future version. Use pandas.concat instead.\n",
      "  df = df.append(new_row, ignore_index=True)\n",
      "C:\\Users\\mahsh\\AppData\\Local\\Temp\\ipykernel_19920\\3161752069.py:18: FutureWarning: The frame.append method is deprecated and will be removed from pandas in a future version. Use pandas.concat instead.\n",
      "  df = df.append(new_row, ignore_index=True)\n"
     ]
    },
    {
     "name": "stdout",
     "output_type": "stream",
     "text": [
      "Alaska_11082022_HouseDistrict33.csv  threw an exception\n"
     ]
    },
    {
     "name": "stderr",
     "output_type": "stream",
     "text": [
      "C:\\Users\\mahsh\\AppData\\Local\\Temp\\ipykernel_19920\\3161752069.py:18: FutureWarning: The frame.append method is deprecated and will be removed from pandas in a future version. Use pandas.concat instead.\n",
      "  df = df.append(new_row, ignore_index=True)\n",
      "C:\\Users\\mahsh\\AppData\\Local\\Temp\\ipykernel_19920\\3161752069.py:18: FutureWarning: The frame.append method is deprecated and will be removed from pandas in a future version. Use pandas.concat instead.\n",
      "  df = df.append(new_row, ignore_index=True)\n",
      "C:\\Users\\mahsh\\AppData\\Local\\Temp\\ipykernel_19920\\3161752069.py:18: FutureWarning: The frame.append method is deprecated and will be removed from pandas in a future version. Use pandas.concat instead.\n",
      "  df = df.append(new_row, ignore_index=True)\n"
     ]
    },
    {
     "name": "stdout",
     "output_type": "stream",
     "text": [
      "Alaska_11082022_HouseDistrict37.csv  threw an exception\n",
      "Alaska_11082022_HouseDistrict38.csv  threw an exception\n"
     ]
    },
    {
     "name": "stderr",
     "output_type": "stream",
     "text": [
      "C:\\Users\\mahsh\\AppData\\Local\\Temp\\ipykernel_19920\\3161752069.py:18: FutureWarning: The frame.append method is deprecated and will be removed from pandas in a future version. Use pandas.concat instead.\n",
      "  df = df.append(new_row, ignore_index=True)\n",
      "C:\\Users\\mahsh\\AppData\\Local\\Temp\\ipykernel_19920\\3161752069.py:18: FutureWarning: The frame.append method is deprecated and will be removed from pandas in a future version. Use pandas.concat instead.\n",
      "  df = df.append(new_row, ignore_index=True)\n"
     ]
    },
    {
     "name": "stdout",
     "output_type": "stream",
     "text": [
      "Alaska_11082022_HouseDistrict40.csv  threw an exception\n"
     ]
    },
    {
     "name": "stderr",
     "output_type": "stream",
     "text": [
      "C:\\Users\\mahsh\\AppData\\Local\\Temp\\ipykernel_19920\\3161752069.py:18: FutureWarning: The frame.append method is deprecated and will be removed from pandas in a future version. Use pandas.concat instead.\n",
      "  df = df.append(new_row, ignore_index=True)\n",
      "C:\\Users\\mahsh\\AppData\\Local\\Temp\\ipykernel_19920\\3161752069.py:18: FutureWarning: The frame.append method is deprecated and will be removed from pandas in a future version. Use pandas.concat instead.\n",
      "  df = df.append(new_row, ignore_index=True)\n",
      "C:\\Users\\mahsh\\AppData\\Local\\Temp\\ipykernel_19920\\3161752069.py:18: FutureWarning: The frame.append method is deprecated and will be removed from pandas in a future version. Use pandas.concat instead.\n",
      "  df = df.append(new_row, ignore_index=True)\n"
     ]
    },
    {
     "name": "stdout",
     "output_type": "stream",
     "text": [
      "Alaska_11082022_HouseDistrict8.csv  threw an exception\n"
     ]
    },
    {
     "name": "stderr",
     "output_type": "stream",
     "text": [
      "C:\\Users\\mahsh\\AppData\\Local\\Temp\\ipykernel_19920\\3161752069.py:18: FutureWarning: The frame.append method is deprecated and will be removed from pandas in a future version. Use pandas.concat instead.\n",
      "  df = df.append(new_row, ignore_index=True)\n",
      "C:\\Users\\mahsh\\AppData\\Local\\Temp\\ipykernel_19920\\3161752069.py:18: FutureWarning: The frame.append method is deprecated and will be removed from pandas in a future version. Use pandas.concat instead.\n",
      "  df = df.append(new_row, ignore_index=True)\n"
     ]
    },
    {
     "name": "stdout",
     "output_type": "stream",
     "text": [
      "Alaska_11082022_SenateDistrictB.csv  threw an exception\n"
     ]
    },
    {
     "name": "stderr",
     "output_type": "stream",
     "text": [
      "C:\\Users\\mahsh\\AppData\\Local\\Temp\\ipykernel_19920\\3161752069.py:18: FutureWarning: The frame.append method is deprecated and will be removed from pandas in a future version. Use pandas.concat instead.\n",
      "  df = df.append(new_row, ignore_index=True)\n",
      "C:\\Users\\mahsh\\AppData\\Local\\Temp\\ipykernel_19920\\3161752069.py:18: FutureWarning: The frame.append method is deprecated and will be removed from pandas in a future version. Use pandas.concat instead.\n",
      "  df = df.append(new_row, ignore_index=True)\n",
      "C:\\Users\\mahsh\\AppData\\Local\\Temp\\ipykernel_19920\\3161752069.py:18: FutureWarning: The frame.append method is deprecated and will be removed from pandas in a future version. Use pandas.concat instead.\n",
      "  df = df.append(new_row, ignore_index=True)\n",
      "C:\\Users\\mahsh\\AppData\\Local\\Temp\\ipykernel_19920\\3161752069.py:18: FutureWarning: The frame.append method is deprecated and will be removed from pandas in a future version. Use pandas.concat instead.\n",
      "  df = df.append(new_row, ignore_index=True)\n",
      "C:\\Users\\mahsh\\AppData\\Local\\Temp\\ipykernel_19920\\3161752069.py:18: FutureWarning: The frame.append method is deprecated and will be removed from pandas in a future version. Use pandas.concat instead.\n",
      "  df = df.append(new_row, ignore_index=True)\n",
      "C:\\Users\\mahsh\\AppData\\Local\\Temp\\ipykernel_19920\\3161752069.py:18: FutureWarning: The frame.append method is deprecated and will be removed from pandas in a future version. Use pandas.concat instead.\n",
      "  df = df.append(new_row, ignore_index=True)\n",
      "C:\\Users\\mahsh\\AppData\\Local\\Temp\\ipykernel_19920\\3161752069.py:18: FutureWarning: The frame.append method is deprecated and will be removed from pandas in a future version. Use pandas.concat instead.\n",
      "  df = df.append(new_row, ignore_index=True)\n",
      "C:\\Users\\mahsh\\AppData\\Local\\Temp\\ipykernel_19920\\3161752069.py:18: FutureWarning: The frame.append method is deprecated and will be removed from pandas in a future version. Use pandas.concat instead.\n",
      "  df = df.append(new_row, ignore_index=True)\n",
      "C:\\Users\\mahsh\\AppData\\Local\\Temp\\ipykernel_19920\\3161752069.py:18: FutureWarning: The frame.append method is deprecated and will be removed from pandas in a future version. Use pandas.concat instead.\n",
      "  df = df.append(new_row, ignore_index=True)\n",
      "C:\\Users\\mahsh\\AppData\\Local\\Temp\\ipykernel_19920\\3161752069.py:18: FutureWarning: The frame.append method is deprecated and will be removed from pandas in a future version. Use pandas.concat instead.\n",
      "  df = df.append(new_row, ignore_index=True)\n",
      "C:\\Users\\mahsh\\AppData\\Local\\Temp\\ipykernel_19920\\3161752069.py:18: FutureWarning: The frame.append method is deprecated and will be removed from pandas in a future version. Use pandas.concat instead.\n",
      "  df = df.append(new_row, ignore_index=True)\n",
      "C:\\Users\\mahsh\\AppData\\Local\\Temp\\ipykernel_19920\\3161752069.py:18: FutureWarning: The frame.append method is deprecated and will be removed from pandas in a future version. Use pandas.concat instead.\n",
      "  df = df.append(new_row, ignore_index=True)\n",
      "C:\\Users\\mahsh\\AppData\\Local\\Temp\\ipykernel_19920\\3161752069.py:18: FutureWarning: The frame.append method is deprecated and will be removed from pandas in a future version. Use pandas.concat instead.\n",
      "  df = df.append(new_row, ignore_index=True)\n",
      "C:\\Users\\mahsh\\AppData\\Local\\Temp\\ipykernel_19920\\3161752069.py:18: FutureWarning: The frame.append method is deprecated and will be removed from pandas in a future version. Use pandas.concat instead.\n",
      "  df = df.append(new_row, ignore_index=True)\n",
      "C:\\Users\\mahsh\\AppData\\Local\\Temp\\ipykernel_19920\\3161752069.py:18: FutureWarning: The frame.append method is deprecated and will be removed from pandas in a future version. Use pandas.concat instead.\n",
      "  df = df.append(new_row, ignore_index=True)\n",
      "C:\\Users\\mahsh\\AppData\\Local\\Temp\\ipykernel_19920\\3161752069.py:18: FutureWarning: The frame.append method is deprecated and will be removed from pandas in a future version. Use pandas.concat instead.\n",
      "  df = df.append(new_row, ignore_index=True)\n",
      "C:\\Users\\mahsh\\AppData\\Local\\Temp\\ipykernel_19920\\3161752069.py:18: FutureWarning: The frame.append method is deprecated and will be removed from pandas in a future version. Use pandas.concat instead.\n",
      "  df = df.append(new_row, ignore_index=True)\n",
      "C:\\Users\\mahsh\\AppData\\Local\\Temp\\ipykernel_19920\\3161752069.py:18: FutureWarning: The frame.append method is deprecated and will be removed from pandas in a future version. Use pandas.concat instead.\n",
      "  df = df.append(new_row, ignore_index=True)\n",
      "C:\\Users\\mahsh\\AppData\\Local\\Temp\\ipykernel_19920\\3161752069.py:18: FutureWarning: The frame.append method is deprecated and will be removed from pandas in a future version. Use pandas.concat instead.\n",
      "  df = df.append(new_row, ignore_index=True)\n",
      "C:\\Users\\mahsh\\AppData\\Local\\Temp\\ipykernel_19920\\3161752069.py:18: FutureWarning: The frame.append method is deprecated and will be removed from pandas in a future version. Use pandas.concat instead.\n",
      "  df = df.append(new_row, ignore_index=True)\n",
      "C:\\Users\\mahsh\\AppData\\Local\\Temp\\ipykernel_19920\\3161752069.py:18: FutureWarning: The frame.append method is deprecated and will be removed from pandas in a future version. Use pandas.concat instead.\n",
      "  df = df.append(new_row, ignore_index=True)\n"
     ]
    },
    {
     "name": "stdout",
     "output_type": "stream",
     "text": [
      "Albany_11082022_FAKECityCouncil.csv  threw an exception\n"
     ]
    },
    {
     "name": "stderr",
     "output_type": "stream",
     "text": [
      "C:\\Users\\mahsh\\AppData\\Local\\Temp\\ipykernel_19920\\3161752069.py:18: FutureWarning: The frame.append method is deprecated and will be removed from pandas in a future version. Use pandas.concat instead.\n",
      "  df = df.append(new_row, ignore_index=True)\n"
     ]
    },
    {
     "name": "stdout",
     "output_type": "stream",
     "text": [
      "Berkeley_11022010_CityAuditor.csv  threw an exception\n"
     ]
    },
    {
     "name": "stderr",
     "output_type": "stream",
     "text": [
      "C:\\Users\\mahsh\\AppData\\Local\\Temp\\ipykernel_19920\\3161752069.py:18: FutureWarning: The frame.append method is deprecated and will be removed from pandas in a future version. Use pandas.concat instead.\n",
      "  df = df.append(new_row, ignore_index=True)\n",
      "C:\\Users\\mahsh\\AppData\\Local\\Temp\\ipykernel_19920\\3161752069.py:18: FutureWarning: The frame.append method is deprecated and will be removed from pandas in a future version. Use pandas.concat instead.\n",
      "  df = df.append(new_row, ignore_index=True)\n",
      "C:\\Users\\mahsh\\AppData\\Local\\Temp\\ipykernel_19920\\3161752069.py:18: FutureWarning: The frame.append method is deprecated and will be removed from pandas in a future version. Use pandas.concat instead.\n",
      "  df = df.append(new_row, ignore_index=True)\n",
      "C:\\Users\\mahsh\\AppData\\Local\\Temp\\ipykernel_19920\\3161752069.py:18: FutureWarning: The frame.append method is deprecated and will be removed from pandas in a future version. Use pandas.concat instead.\n",
      "  df = df.append(new_row, ignore_index=True)\n",
      "C:\\Users\\mahsh\\AppData\\Local\\Temp\\ipykernel_19920\\3161752069.py:18: FutureWarning: The frame.append method is deprecated and will be removed from pandas in a future version. Use pandas.concat instead.\n",
      "  df = df.append(new_row, ignore_index=True)\n",
      "C:\\Users\\mahsh\\AppData\\Local\\Temp\\ipykernel_19920\\3161752069.py:18: FutureWarning: The frame.append method is deprecated and will be removed from pandas in a future version. Use pandas.concat instead.\n",
      "  df = df.append(new_row, ignore_index=True)\n",
      "C:\\Users\\mahsh\\AppData\\Local\\Temp\\ipykernel_19920\\3161752069.py:18: FutureWarning: The frame.append method is deprecated and will be removed from pandas in a future version. Use pandas.concat instead.\n",
      "  df = df.append(new_row, ignore_index=True)\n",
      "C:\\Users\\mahsh\\AppData\\Local\\Temp\\ipykernel_19920\\3161752069.py:18: FutureWarning: The frame.append method is deprecated and will be removed from pandas in a future version. Use pandas.concat instead.\n",
      "  df = df.append(new_row, ignore_index=True)\n",
      "C:\\Users\\mahsh\\AppData\\Local\\Temp\\ipykernel_19920\\3161752069.py:18: FutureWarning: The frame.append method is deprecated and will be removed from pandas in a future version. Use pandas.concat instead.\n",
      "  df = df.append(new_row, ignore_index=True)\n"
     ]
    },
    {
     "name": "stdout",
     "output_type": "stream",
     "text": [
      "Berkeley_11042014_CityAuditor.csv  threw an exception\n"
     ]
    },
    {
     "name": "stderr",
     "output_type": "stream",
     "text": [
      "C:\\Users\\mahsh\\AppData\\Local\\Temp\\ipykernel_19920\\3161752069.py:18: FutureWarning: The frame.append method is deprecated and will be removed from pandas in a future version. Use pandas.concat instead.\n",
      "  df = df.append(new_row, ignore_index=True)\n",
      "C:\\Users\\mahsh\\AppData\\Local\\Temp\\ipykernel_19920\\3161752069.py:18: FutureWarning: The frame.append method is deprecated and will be removed from pandas in a future version. Use pandas.concat instead.\n",
      "  df = df.append(new_row, ignore_index=True)\n",
      "C:\\Users\\mahsh\\AppData\\Local\\Temp\\ipykernel_19920\\3161752069.py:18: FutureWarning: The frame.append method is deprecated and will be removed from pandas in a future version. Use pandas.concat instead.\n",
      "  df = df.append(new_row, ignore_index=True)\n",
      "C:\\Users\\mahsh\\AppData\\Local\\Temp\\ipykernel_19920\\3161752069.py:18: FutureWarning: The frame.append method is deprecated and will be removed from pandas in a future version. Use pandas.concat instead.\n",
      "  df = df.append(new_row, ignore_index=True)\n",
      "C:\\Users\\mahsh\\AppData\\Local\\Temp\\ipykernel_19920\\3161752069.py:18: FutureWarning: The frame.append method is deprecated and will be removed from pandas in a future version. Use pandas.concat instead.\n",
      "  df = df.append(new_row, ignore_index=True)\n",
      "C:\\Users\\mahsh\\AppData\\Local\\Temp\\ipykernel_19920\\3161752069.py:18: FutureWarning: The frame.append method is deprecated and will be removed from pandas in a future version. Use pandas.concat instead.\n",
      "  df = df.append(new_row, ignore_index=True)\n",
      "C:\\Users\\mahsh\\AppData\\Local\\Temp\\ipykernel_19920\\3161752069.py:18: FutureWarning: The frame.append method is deprecated and will be removed from pandas in a future version. Use pandas.concat instead.\n",
      "  df = df.append(new_row, ignore_index=True)\n",
      "C:\\Users\\mahsh\\AppData\\Local\\Temp\\ipykernel_19920\\3161752069.py:18: FutureWarning: The frame.append method is deprecated and will be removed from pandas in a future version. Use pandas.concat instead.\n",
      "  df = df.append(new_row, ignore_index=True)\n",
      "C:\\Users\\mahsh\\AppData\\Local\\Temp\\ipykernel_19920\\3161752069.py:18: FutureWarning: The frame.append method is deprecated and will be removed from pandas in a future version. Use pandas.concat instead.\n",
      "  df = df.append(new_row, ignore_index=True)\n",
      "C:\\Users\\mahsh\\AppData\\Local\\Temp\\ipykernel_19920\\3161752069.py:18: FutureWarning: The frame.append method is deprecated and will be removed from pandas in a future version. Use pandas.concat instead.\n",
      "  df = df.append(new_row, ignore_index=True)\n",
      "C:\\Users\\mahsh\\AppData\\Local\\Temp\\ipykernel_19920\\3161752069.py:18: FutureWarning: The frame.append method is deprecated and will be removed from pandas in a future version. Use pandas.concat instead.\n",
      "  df = df.append(new_row, ignore_index=True)\n",
      "C:\\Users\\mahsh\\AppData\\Local\\Temp\\ipykernel_19920\\3161752069.py:18: FutureWarning: The frame.append method is deprecated and will be removed from pandas in a future version. Use pandas.concat instead.\n",
      "  df = df.append(new_row, ignore_index=True)\n",
      "C:\\Users\\mahsh\\AppData\\Local\\Temp\\ipykernel_19920\\3161752069.py:18: FutureWarning: The frame.append method is deprecated and will be removed from pandas in a future version. Use pandas.concat instead.\n",
      "  df = df.append(new_row, ignore_index=True)\n",
      "C:\\Users\\mahsh\\AppData\\Local\\Temp\\ipykernel_19920\\3161752069.py:18: FutureWarning: The frame.append method is deprecated and will be removed from pandas in a future version. Use pandas.concat instead.\n",
      "  df = df.append(new_row, ignore_index=True)\n",
      "C:\\Users\\mahsh\\AppData\\Local\\Temp\\ipykernel_19920\\3161752069.py:18: FutureWarning: The frame.append method is deprecated and will be removed from pandas in a future version. Use pandas.concat instead.\n",
      "  df = df.append(new_row, ignore_index=True)\n",
      "C:\\Users\\mahsh\\AppData\\Local\\Temp\\ipykernel_19920\\3161752069.py:18: FutureWarning: The frame.append method is deprecated and will be removed from pandas in a future version. Use pandas.concat instead.\n",
      "  df = df.append(new_row, ignore_index=True)\n",
      "C:\\Users\\mahsh\\AppData\\Local\\Temp\\ipykernel_19920\\3161752069.py:18: FutureWarning: The frame.append method is deprecated and will be removed from pandas in a future version. Use pandas.concat instead.\n",
      "  df = df.append(new_row, ignore_index=True)\n",
      "C:\\Users\\mahsh\\AppData\\Local\\Temp\\ipykernel_19920\\3161752069.py:18: FutureWarning: The frame.append method is deprecated and will be removed from pandas in a future version. Use pandas.concat instead.\n",
      "  df = df.append(new_row, ignore_index=True)\n",
      "C:\\Users\\mahsh\\AppData\\Local\\Temp\\ipykernel_19920\\3161752069.py:18: FutureWarning: The frame.append method is deprecated and will be removed from pandas in a future version. Use pandas.concat instead.\n",
      "  df = df.append(new_row, ignore_index=True)\n",
      "C:\\Users\\mahsh\\AppData\\Local\\Temp\\ipykernel_19920\\3161752069.py:18: FutureWarning: The frame.append method is deprecated and will be removed from pandas in a future version. Use pandas.concat instead.\n",
      "  df = df.append(new_row, ignore_index=True)\n",
      "C:\\Users\\mahsh\\AppData\\Local\\Temp\\ipykernel_19920\\3161752069.py:18: FutureWarning: The frame.append method is deprecated and will be removed from pandas in a future version. Use pandas.concat instead.\n",
      "  df = df.append(new_row, ignore_index=True)\n",
      "C:\\Users\\mahsh\\AppData\\Local\\Temp\\ipykernel_19920\\3161752069.py:18: FutureWarning: The frame.append method is deprecated and will be removed from pandas in a future version. Use pandas.concat instead.\n",
      "  df = df.append(new_row, ignore_index=True)\n"
     ]
    },
    {
     "name": "stdout",
     "output_type": "stream",
     "text": [
      "Burlington_03072023_CityCouncilNorthDistrict.csv  threw an exception\n"
     ]
    },
    {
     "name": "stderr",
     "output_type": "stream",
     "text": [
      "C:\\Users\\mahsh\\AppData\\Local\\Temp\\ipykernel_19920\\3161752069.py:18: FutureWarning: The frame.append method is deprecated and will be removed from pandas in a future version. Use pandas.concat instead.\n",
      "  df = df.append(new_row, ignore_index=True)\n",
      "C:\\Users\\mahsh\\AppData\\Local\\Temp\\ipykernel_19920\\3161752069.py:18: FutureWarning: The frame.append method is deprecated and will be removed from pandas in a future version. Use pandas.concat instead.\n",
      "  df = df.append(new_row, ignore_index=True)\n",
      "C:\\Users\\mahsh\\AppData\\Local\\Temp\\ipykernel_19920\\3161752069.py:18: FutureWarning: The frame.append method is deprecated and will be removed from pandas in a future version. Use pandas.concat instead.\n",
      "  df = df.append(new_row, ignore_index=True)\n",
      "C:\\Users\\mahsh\\AppData\\Local\\Temp\\ipykernel_19920\\3161752069.py:18: FutureWarning: The frame.append method is deprecated and will be removed from pandas in a future version. Use pandas.concat instead.\n",
      "  df = df.append(new_row, ignore_index=True)\n",
      "C:\\Users\\mahsh\\AppData\\Local\\Temp\\ipykernel_19920\\3161752069.py:18: FutureWarning: The frame.append method is deprecated and will be removed from pandas in a future version. Use pandas.concat instead.\n",
      "  df = df.append(new_row, ignore_index=True)\n",
      "C:\\Users\\mahsh\\AppData\\Local\\Temp\\ipykernel_19920\\3161752069.py:18: FutureWarning: The frame.append method is deprecated and will be removed from pandas in a future version. Use pandas.concat instead.\n",
      "  df = df.append(new_row, ignore_index=True)\n",
      "C:\\Users\\mahsh\\AppData\\Local\\Temp\\ipykernel_19920\\3161752069.py:18: FutureWarning: The frame.append method is deprecated and will be removed from pandas in a future version. Use pandas.concat instead.\n",
      "  df = df.append(new_row, ignore_index=True)\n",
      "C:\\Users\\mahsh\\AppData\\Local\\Temp\\ipykernel_19920\\3161752069.py:18: FutureWarning: The frame.append method is deprecated and will be removed from pandas in a future version. Use pandas.concat instead.\n",
      "  df = df.append(new_row, ignore_index=True)\n",
      "C:\\Users\\mahsh\\AppData\\Local\\Temp\\ipykernel_19920\\3161752069.py:18: FutureWarning: The frame.append method is deprecated and will be removed from pandas in a future version. Use pandas.concat instead.\n",
      "  df = df.append(new_row, ignore_index=True)\n",
      "C:\\Users\\mahsh\\AppData\\Local\\Temp\\ipykernel_19920\\3161752069.py:18: FutureWarning: The frame.append method is deprecated and will be removed from pandas in a future version. Use pandas.concat instead.\n",
      "  df = df.append(new_row, ignore_index=True)\n",
      "C:\\Users\\mahsh\\AppData\\Local\\Temp\\ipykernel_19920\\3161752069.py:18: FutureWarning: The frame.append method is deprecated and will be removed from pandas in a future version. Use pandas.concat instead.\n",
      "  df = df.append(new_row, ignore_index=True)\n",
      "C:\\Users\\mahsh\\AppData\\Local\\Temp\\ipykernel_19920\\3161752069.py:18: FutureWarning: The frame.append method is deprecated and will be removed from pandas in a future version. Use pandas.concat instead.\n",
      "  df = df.append(new_row, ignore_index=True)\n",
      "C:\\Users\\mahsh\\AppData\\Local\\Temp\\ipykernel_19920\\3161752069.py:18: FutureWarning: The frame.append method is deprecated and will be removed from pandas in a future version. Use pandas.concat instead.\n",
      "  df = df.append(new_row, ignore_index=True)\n",
      "C:\\Users\\mahsh\\AppData\\Local\\Temp\\ipykernel_19920\\3161752069.py:18: FutureWarning: The frame.append method is deprecated and will be removed from pandas in a future version. Use pandas.concat instead.\n",
      "  df = df.append(new_row, ignore_index=True)\n"
     ]
    },
    {
     "name": "stdout",
     "output_type": "stream",
     "text": [
      "Maine_06122018_DemocraticPrimaryforGovernor.csv  threw an exception\n"
     ]
    },
    {
     "name": "stderr",
     "output_type": "stream",
     "text": [
      "C:\\Users\\mahsh\\AppData\\Local\\Temp\\ipykernel_19920\\3161752069.py:18: FutureWarning: The frame.append method is deprecated and will be removed from pandas in a future version. Use pandas.concat instead.\n",
      "  df = df.append(new_row, ignore_index=True)\n",
      "C:\\Users\\mahsh\\AppData\\Local\\Temp\\ipykernel_19920\\3161752069.py:18: FutureWarning: The frame.append method is deprecated and will be removed from pandas in a future version. Use pandas.concat instead.\n",
      "  df = df.append(new_row, ignore_index=True)\n",
      "C:\\Users\\mahsh\\AppData\\Local\\Temp\\ipykernel_19920\\3161752069.py:18: FutureWarning: The frame.append method is deprecated and will be removed from pandas in a future version. Use pandas.concat instead.\n",
      "  df = df.append(new_row, ignore_index=True)\n",
      "C:\\Users\\mahsh\\AppData\\Local\\Temp\\ipykernel_19920\\3161752069.py:18: FutureWarning: The frame.append method is deprecated and will be removed from pandas in a future version. Use pandas.concat instead.\n",
      "  df = df.append(new_row, ignore_index=True)\n",
      "C:\\Users\\mahsh\\AppData\\Local\\Temp\\ipykernel_19920\\3161752069.py:18: FutureWarning: The frame.append method is deprecated and will be removed from pandas in a future version. Use pandas.concat instead.\n",
      "  df = df.append(new_row, ignore_index=True)\n",
      "C:\\Users\\mahsh\\AppData\\Local\\Temp\\ipykernel_19920\\3161752069.py:18: FutureWarning: The frame.append method is deprecated and will be removed from pandas in a future version. Use pandas.concat instead.\n",
      "  df = df.append(new_row, ignore_index=True)\n",
      "C:\\Users\\mahsh\\AppData\\Local\\Temp\\ipykernel_19920\\3161752069.py:18: FutureWarning: The frame.append method is deprecated and will be removed from pandas in a future version. Use pandas.concat instead.\n",
      "  df = df.append(new_row, ignore_index=True)\n",
      "C:\\Users\\mahsh\\AppData\\Local\\Temp\\ipykernel_19920\\3161752069.py:18: FutureWarning: The frame.append method is deprecated and will be removed from pandas in a future version. Use pandas.concat instead.\n",
      "  df = df.append(new_row, ignore_index=True)\n",
      "C:\\Users\\mahsh\\AppData\\Local\\Temp\\ipykernel_19920\\3161752069.py:18: FutureWarning: The frame.append method is deprecated and will be removed from pandas in a future version. Use pandas.concat instead.\n",
      "  df = df.append(new_row, ignore_index=True)\n",
      "C:\\Users\\mahsh\\AppData\\Local\\Temp\\ipykernel_19920\\3161752069.py:18: FutureWarning: The frame.append method is deprecated and will be removed from pandas in a future version. Use pandas.concat instead.\n",
      "  df = df.append(new_row, ignore_index=True)\n",
      "C:\\Users\\mahsh\\AppData\\Local\\Temp\\ipykernel_19920\\3161752069.py:18: FutureWarning: The frame.append method is deprecated and will be removed from pandas in a future version. Use pandas.concat instead.\n",
      "  df = df.append(new_row, ignore_index=True)\n",
      "C:\\Users\\mahsh\\AppData\\Local\\Temp\\ipykernel_19920\\3161752069.py:18: FutureWarning: The frame.append method is deprecated and will be removed from pandas in a future version. Use pandas.concat instead.\n",
      "  df = df.append(new_row, ignore_index=True)\n",
      "C:\\Users\\mahsh\\AppData\\Local\\Temp\\ipykernel_19920\\3161752069.py:18: FutureWarning: The frame.append method is deprecated and will be removed from pandas in a future version. Use pandas.concat instead.\n",
      "  df = df.append(new_row, ignore_index=True)\n",
      "C:\\Users\\mahsh\\AppData\\Local\\Temp\\ipykernel_19920\\3161752069.py:18: FutureWarning: The frame.append method is deprecated and will be removed from pandas in a future version. Use pandas.concat instead.\n",
      "  df = df.append(new_row, ignore_index=True)\n",
      "C:\\Users\\mahsh\\AppData\\Local\\Temp\\ipykernel_19920\\3161752069.py:18: FutureWarning: The frame.append method is deprecated and will be removed from pandas in a future version. Use pandas.concat instead.\n",
      "  df = df.append(new_row, ignore_index=True)\n",
      "C:\\Users\\mahsh\\AppData\\Local\\Temp\\ipykernel_19920\\3161752069.py:18: FutureWarning: The frame.append method is deprecated and will be removed from pandas in a future version. Use pandas.concat instead.\n",
      "  df = df.append(new_row, ignore_index=True)\n",
      "C:\\Users\\mahsh\\AppData\\Local\\Temp\\ipykernel_19920\\3161752069.py:18: FutureWarning: The frame.append method is deprecated and will be removed from pandas in a future version. Use pandas.concat instead.\n",
      "  df = df.append(new_row, ignore_index=True)\n",
      "C:\\Users\\mahsh\\AppData\\Local\\Temp\\ipykernel_19920\\3161752069.py:18: FutureWarning: The frame.append method is deprecated and will be removed from pandas in a future version. Use pandas.concat instead.\n",
      "  df = df.append(new_row, ignore_index=True)\n",
      "C:\\Users\\mahsh\\AppData\\Local\\Temp\\ipykernel_19920\\3161752069.py:18: FutureWarning: The frame.append method is deprecated and will be removed from pandas in a future version. Use pandas.concat instead.\n",
      "  df = df.append(new_row, ignore_index=True)\n",
      "C:\\Users\\mahsh\\AppData\\Local\\Temp\\ipykernel_19920\\3161752069.py:18: FutureWarning: The frame.append method is deprecated and will be removed from pandas in a future version. Use pandas.concat instead.\n",
      "  df = df.append(new_row, ignore_index=True)\n",
      "C:\\Users\\mahsh\\AppData\\Local\\Temp\\ipykernel_19920\\3161752069.py:18: FutureWarning: The frame.append method is deprecated and will be removed from pandas in a future version. Use pandas.concat instead.\n",
      "  df = df.append(new_row, ignore_index=True)\n",
      "C:\\Users\\mahsh\\AppData\\Local\\Temp\\ipykernel_19920\\3161752069.py:18: FutureWarning: The frame.append method is deprecated and will be removed from pandas in a future version. Use pandas.concat instead.\n",
      "  df = df.append(new_row, ignore_index=True)\n",
      "C:\\Users\\mahsh\\AppData\\Local\\Temp\\ipykernel_19920\\3161752069.py:18: FutureWarning: The frame.append method is deprecated and will be removed from pandas in a future version. Use pandas.concat instead.\n",
      "  df = df.append(new_row, ignore_index=True)\n",
      "C:\\Users\\mahsh\\AppData\\Local\\Temp\\ipykernel_19920\\3161752069.py:18: FutureWarning: The frame.append method is deprecated and will be removed from pandas in a future version. Use pandas.concat instead.\n",
      "  df = df.append(new_row, ignore_index=True)\n"
     ]
    },
    {
     "name": "stdout",
     "output_type": "stream",
     "text": [
      "Minneapolis_11022021_ParkBoardDistrict1.csv  threw an exception\n"
     ]
    },
    {
     "name": "stderr",
     "output_type": "stream",
     "text": [
      "C:\\Users\\mahsh\\AppData\\Local\\Temp\\ipykernel_19920\\3161752069.py:18: FutureWarning: The frame.append method is deprecated and will be removed from pandas in a future version. Use pandas.concat instead.\n",
      "  df = df.append(new_row, ignore_index=True)\n",
      "C:\\Users\\mahsh\\AppData\\Local\\Temp\\ipykernel_19920\\3161752069.py:18: FutureWarning: The frame.append method is deprecated and will be removed from pandas in a future version. Use pandas.concat instead.\n",
      "  df = df.append(new_row, ignore_index=True)\n",
      "C:\\Users\\mahsh\\AppData\\Local\\Temp\\ipykernel_19920\\3161752069.py:18: FutureWarning: The frame.append method is deprecated and will be removed from pandas in a future version. Use pandas.concat instead.\n",
      "  df = df.append(new_row, ignore_index=True)\n",
      "C:\\Users\\mahsh\\AppData\\Local\\Temp\\ipykernel_19920\\3161752069.py:18: FutureWarning: The frame.append method is deprecated and will be removed from pandas in a future version. Use pandas.concat instead.\n",
      "  df = df.append(new_row, ignore_index=True)\n",
      "C:\\Users\\mahsh\\AppData\\Local\\Temp\\ipykernel_19920\\3161752069.py:18: FutureWarning: The frame.append method is deprecated and will be removed from pandas in a future version. Use pandas.concat instead.\n",
      "  df = df.append(new_row, ignore_index=True)\n",
      "C:\\Users\\mahsh\\AppData\\Local\\Temp\\ipykernel_19920\\3161752069.py:18: FutureWarning: The frame.append method is deprecated and will be removed from pandas in a future version. Use pandas.concat instead.\n",
      "  df = df.append(new_row, ignore_index=True)\n",
      "C:\\Users\\mahsh\\AppData\\Local\\Temp\\ipykernel_19920\\3161752069.py:18: FutureWarning: The frame.append method is deprecated and will be removed from pandas in a future version. Use pandas.concat instead.\n",
      "  df = df.append(new_row, ignore_index=True)\n",
      "C:\\Users\\mahsh\\AppData\\Local\\Temp\\ipykernel_19920\\3161752069.py:18: FutureWarning: The frame.append method is deprecated and will be removed from pandas in a future version. Use pandas.concat instead.\n",
      "  df = df.append(new_row, ignore_index=True)\n",
      "C:\\Users\\mahsh\\AppData\\Local\\Temp\\ipykernel_19920\\3161752069.py:18: FutureWarning: The frame.append method is deprecated and will be removed from pandas in a future version. Use pandas.concat instead.\n",
      "  df = df.append(new_row, ignore_index=True)\n",
      "C:\\Users\\mahsh\\AppData\\Local\\Temp\\ipykernel_19920\\3161752069.py:18: FutureWarning: The frame.append method is deprecated and will be removed from pandas in a future version. Use pandas.concat instead.\n",
      "  df = df.append(new_row, ignore_index=True)\n",
      "C:\\Users\\mahsh\\AppData\\Local\\Temp\\ipykernel_19920\\3161752069.py:18: FutureWarning: The frame.append method is deprecated and will be removed from pandas in a future version. Use pandas.concat instead.\n",
      "  df = df.append(new_row, ignore_index=True)\n",
      "C:\\Users\\mahsh\\AppData\\Local\\Temp\\ipykernel_19920\\3161752069.py:18: FutureWarning: The frame.append method is deprecated and will be removed from pandas in a future version. Use pandas.concat instead.\n",
      "  df = df.append(new_row, ignore_index=True)\n",
      "C:\\Users\\mahsh\\AppData\\Local\\Temp\\ipykernel_19920\\3161752069.py:18: FutureWarning: The frame.append method is deprecated and will be removed from pandas in a future version. Use pandas.concat instead.\n",
      "  df = df.append(new_row, ignore_index=True)\n",
      "C:\\Users\\mahsh\\AppData\\Local\\Temp\\ipykernel_19920\\3161752069.py:18: FutureWarning: The frame.append method is deprecated and will be removed from pandas in a future version. Use pandas.concat instead.\n",
      "  df = df.append(new_row, ignore_index=True)\n",
      "C:\\Users\\mahsh\\AppData\\Local\\Temp\\ipykernel_19920\\3161752069.py:18: FutureWarning: The frame.append method is deprecated and will be removed from pandas in a future version. Use pandas.concat instead.\n",
      "  df = df.append(new_row, ignore_index=True)\n"
     ]
    },
    {
     "name": "stdout",
     "output_type": "stream",
     "text": [
      "Minneapolis_11062009_PRBoardDistrict4.csv  threw an exception\n"
     ]
    },
    {
     "name": "stderr",
     "output_type": "stream",
     "text": [
      "C:\\Users\\mahsh\\AppData\\Local\\Temp\\ipykernel_19920\\3161752069.py:18: FutureWarning: The frame.append method is deprecated and will be removed from pandas in a future version. Use pandas.concat instead.\n",
      "  df = df.append(new_row, ignore_index=True)\n",
      "C:\\Users\\mahsh\\AppData\\Local\\Temp\\ipykernel_19920\\3161752069.py:18: FutureWarning: The frame.append method is deprecated and will be removed from pandas in a future version. Use pandas.concat instead.\n",
      "  df = df.append(new_row, ignore_index=True)\n",
      "C:\\Users\\mahsh\\AppData\\Local\\Temp\\ipykernel_19920\\3161752069.py:18: FutureWarning: The frame.append method is deprecated and will be removed from pandas in a future version. Use pandas.concat instead.\n",
      "  df = df.append(new_row, ignore_index=True)\n",
      "C:\\Users\\mahsh\\AppData\\Local\\Temp\\ipykernel_19920\\3161752069.py:18: FutureWarning: The frame.append method is deprecated and will be removed from pandas in a future version. Use pandas.concat instead.\n",
      "  df = df.append(new_row, ignore_index=True)\n",
      "C:\\Users\\mahsh\\AppData\\Local\\Temp\\ipykernel_19920\\3161752069.py:18: FutureWarning: The frame.append method is deprecated and will be removed from pandas in a future version. Use pandas.concat instead.\n",
      "  df = df.append(new_row, ignore_index=True)\n",
      "C:\\Users\\mahsh\\AppData\\Local\\Temp\\ipykernel_19920\\3161752069.py:18: FutureWarning: The frame.append method is deprecated and will be removed from pandas in a future version. Use pandas.concat instead.\n",
      "  df = df.append(new_row, ignore_index=True)\n",
      "C:\\Users\\mahsh\\AppData\\Local\\Temp\\ipykernel_19920\\3161752069.py:18: FutureWarning: The frame.append method is deprecated and will be removed from pandas in a future version. Use pandas.concat instead.\n",
      "  df = df.append(new_row, ignore_index=True)\n",
      "C:\\Users\\mahsh\\AppData\\Local\\Temp\\ipykernel_19920\\3161752069.py:18: FutureWarning: The frame.append method is deprecated and will be removed from pandas in a future version. Use pandas.concat instead.\n",
      "  df = df.append(new_row, ignore_index=True)\n",
      "C:\\Users\\mahsh\\AppData\\Local\\Temp\\ipykernel_19920\\3161752069.py:18: FutureWarning: The frame.append method is deprecated and will be removed from pandas in a future version. Use pandas.concat instead.\n",
      "  df = df.append(new_row, ignore_index=True)\n",
      "C:\\Users\\mahsh\\AppData\\Local\\Temp\\ipykernel_19920\\3161752069.py:18: FutureWarning: The frame.append method is deprecated and will be removed from pandas in a future version. Use pandas.concat instead.\n",
      "  df = df.append(new_row, ignore_index=True)\n",
      "C:\\Users\\mahsh\\AppData\\Local\\Temp\\ipykernel_19920\\3161752069.py:18: FutureWarning: The frame.append method is deprecated and will be removed from pandas in a future version. Use pandas.concat instead.\n",
      "  df = df.append(new_row, ignore_index=True)\n",
      "C:\\Users\\mahsh\\AppData\\Local\\Temp\\ipykernel_19920\\3161752069.py:18: FutureWarning: The frame.append method is deprecated and will be removed from pandas in a future version. Use pandas.concat instead.\n",
      "  df = df.append(new_row, ignore_index=True)\n",
      "C:\\Users\\mahsh\\AppData\\Local\\Temp\\ipykernel_19920\\3161752069.py:18: FutureWarning: The frame.append method is deprecated and will be removed from pandas in a future version. Use pandas.concat instead.\n",
      "  df = df.append(new_row, ignore_index=True)\n",
      "C:\\Users\\mahsh\\AppData\\Local\\Temp\\ipykernel_19920\\3161752069.py:18: FutureWarning: The frame.append method is deprecated and will be removed from pandas in a future version. Use pandas.concat instead.\n",
      "  df = df.append(new_row, ignore_index=True)\n",
      "C:\\Users\\mahsh\\AppData\\Local\\Temp\\ipykernel_19920\\3161752069.py:18: FutureWarning: The frame.append method is deprecated and will be removed from pandas in a future version. Use pandas.concat instead.\n",
      "  df = df.append(new_row, ignore_index=True)\n"
     ]
    },
    {
     "name": "stdout",
     "output_type": "stream",
     "text": [
      "Minneapolis_11072017_Mayor.csv  threw an exception\n"
     ]
    },
    {
     "name": "stderr",
     "output_type": "stream",
     "text": [
      "C:\\Users\\mahsh\\AppData\\Local\\Temp\\ipykernel_19920\\3161752069.py:18: FutureWarning: The frame.append method is deprecated and will be removed from pandas in a future version. Use pandas.concat instead.\n",
      "  df = df.append(new_row, ignore_index=True)\n",
      "C:\\Users\\mahsh\\AppData\\Local\\Temp\\ipykernel_19920\\3161752069.py:18: FutureWarning: The frame.append method is deprecated and will be removed from pandas in a future version. Use pandas.concat instead.\n",
      "  df = df.append(new_row, ignore_index=True)\n",
      "C:\\Users\\mahsh\\AppData\\Local\\Temp\\ipykernel_19920\\3161752069.py:18: FutureWarning: The frame.append method is deprecated and will be removed from pandas in a future version. Use pandas.concat instead.\n",
      "  df = df.append(new_row, ignore_index=True)\n",
      "C:\\Users\\mahsh\\AppData\\Local\\Temp\\ipykernel_19920\\3161752069.py:18: FutureWarning: The frame.append method is deprecated and will be removed from pandas in a future version. Use pandas.concat instead.\n",
      "  df = df.append(new_row, ignore_index=True)\n",
      "C:\\Users\\mahsh\\AppData\\Local\\Temp\\ipykernel_19920\\3161752069.py:18: FutureWarning: The frame.append method is deprecated and will be removed from pandas in a future version. Use pandas.concat instead.\n",
      "  df = df.append(new_row, ignore_index=True)\n",
      "C:\\Users\\mahsh\\AppData\\Local\\Temp\\ipykernel_19920\\3161752069.py:18: FutureWarning: The frame.append method is deprecated and will be removed from pandas in a future version. Use pandas.concat instead.\n",
      "  df = df.append(new_row, ignore_index=True)\n",
      "C:\\Users\\mahsh\\AppData\\Local\\Temp\\ipykernel_19920\\3161752069.py:18: FutureWarning: The frame.append method is deprecated and will be removed from pandas in a future version. Use pandas.concat instead.\n",
      "  df = df.append(new_row, ignore_index=True)\n",
      "C:\\Users\\mahsh\\AppData\\Local\\Temp\\ipykernel_19920\\3161752069.py:18: FutureWarning: The frame.append method is deprecated and will be removed from pandas in a future version. Use pandas.concat instead.\n",
      "  df = df.append(new_row, ignore_index=True)\n",
      "C:\\Users\\mahsh\\AppData\\Local\\Temp\\ipykernel_19920\\3161752069.py:18: FutureWarning: The frame.append method is deprecated and will be removed from pandas in a future version. Use pandas.concat instead.\n",
      "  df = df.append(new_row, ignore_index=True)\n",
      "C:\\Users\\mahsh\\AppData\\Local\\Temp\\ipykernel_19920\\3161752069.py:18: FutureWarning: The frame.append method is deprecated and will be removed from pandas in a future version. Use pandas.concat instead.\n",
      "  df = df.append(new_row, ignore_index=True)\n",
      "C:\\Users\\mahsh\\AppData\\Local\\Temp\\ipykernel_19920\\3161752069.py:18: FutureWarning: The frame.append method is deprecated and will be removed from pandas in a future version. Use pandas.concat instead.\n",
      "  df = df.append(new_row, ignore_index=True)\n"
     ]
    },
    {
     "name": "stdout",
     "output_type": "stream",
     "text": [
      "Minneapolis_11072017_Ward2CityCouncil.csv  threw an exception\n"
     ]
    },
    {
     "name": "stderr",
     "output_type": "stream",
     "text": [
      "C:\\Users\\mahsh\\AppData\\Local\\Temp\\ipykernel_19920\\3161752069.py:18: FutureWarning: The frame.append method is deprecated and will be removed from pandas in a future version. Use pandas.concat instead.\n",
      "  df = df.append(new_row, ignore_index=True)\n",
      "C:\\Users\\mahsh\\AppData\\Local\\Temp\\ipykernel_19920\\3161752069.py:18: FutureWarning: The frame.append method is deprecated and will be removed from pandas in a future version. Use pandas.concat instead.\n",
      "  df = df.append(new_row, ignore_index=True)\n",
      "C:\\Users\\mahsh\\AppData\\Local\\Temp\\ipykernel_19920\\3161752069.py:18: FutureWarning: The frame.append method is deprecated and will be removed from pandas in a future version. Use pandas.concat instead.\n",
      "  df = df.append(new_row, ignore_index=True)\n",
      "C:\\Users\\mahsh\\AppData\\Local\\Temp\\ipykernel_19920\\3161752069.py:18: FutureWarning: The frame.append method is deprecated and will be removed from pandas in a future version. Use pandas.concat instead.\n",
      "  df = df.append(new_row, ignore_index=True)\n",
      "C:\\Users\\mahsh\\AppData\\Local\\Temp\\ipykernel_19920\\3161752069.py:18: FutureWarning: The frame.append method is deprecated and will be removed from pandas in a future version. Use pandas.concat instead.\n",
      "  df = df.append(new_row, ignore_index=True)\n",
      "C:\\Users\\mahsh\\AppData\\Local\\Temp\\ipykernel_19920\\3161752069.py:18: FutureWarning: The frame.append method is deprecated and will be removed from pandas in a future version. Use pandas.concat instead.\n",
      "  df = df.append(new_row, ignore_index=True)\n",
      "C:\\Users\\mahsh\\AppData\\Local\\Temp\\ipykernel_19920\\3161752069.py:18: FutureWarning: The frame.append method is deprecated and will be removed from pandas in a future version. Use pandas.concat instead.\n",
      "  df = df.append(new_row, ignore_index=True)\n",
      "C:\\Users\\mahsh\\AppData\\Local\\Temp\\ipykernel_19920\\3161752069.py:18: FutureWarning: The frame.append method is deprecated and will be removed from pandas in a future version. Use pandas.concat instead.\n",
      "  df = df.append(new_row, ignore_index=True)\n",
      "C:\\Users\\mahsh\\AppData\\Local\\Temp\\ipykernel_19920\\3161752069.py:18: FutureWarning: The frame.append method is deprecated and will be removed from pandas in a future version. Use pandas.concat instead.\n",
      "  df = df.append(new_row, ignore_index=True)\n",
      "C:\\Users\\mahsh\\AppData\\Local\\Temp\\ipykernel_19920\\3161752069.py:18: FutureWarning: The frame.append method is deprecated and will be removed from pandas in a future version. Use pandas.concat instead.\n",
      "  df = df.append(new_row, ignore_index=True)\n",
      "C:\\Users\\mahsh\\AppData\\Local\\Temp\\ipykernel_19920\\3161752069.py:18: FutureWarning: The frame.append method is deprecated and will be removed from pandas in a future version. Use pandas.concat instead.\n",
      "  df = df.append(new_row, ignore_index=True)\n",
      "C:\\Users\\mahsh\\AppData\\Local\\Temp\\ipykernel_19920\\3161752069.py:18: FutureWarning: The frame.append method is deprecated and will be removed from pandas in a future version. Use pandas.concat instead.\n",
      "  df = df.append(new_row, ignore_index=True)\n",
      "C:\\Users\\mahsh\\AppData\\Local\\Temp\\ipykernel_19920\\3161752069.py:18: FutureWarning: The frame.append method is deprecated and will be removed from pandas in a future version. Use pandas.concat instead.\n",
      "  df = df.append(new_row, ignore_index=True)\n",
      "C:\\Users\\mahsh\\AppData\\Local\\Temp\\ipykernel_19920\\3161752069.py:18: FutureWarning: The frame.append method is deprecated and will be removed from pandas in a future version. Use pandas.concat instead.\n",
      "  df = df.append(new_row, ignore_index=True)\n",
      "C:\\Users\\mahsh\\AppData\\Local\\Temp\\ipykernel_19920\\3161752069.py:18: FutureWarning: The frame.append method is deprecated and will be removed from pandas in a future version. Use pandas.concat instead.\n",
      "  df = df.append(new_row, ignore_index=True)\n",
      "C:\\Users\\mahsh\\AppData\\Local\\Temp\\ipykernel_19920\\3161752069.py:18: FutureWarning: The frame.append method is deprecated and will be removed from pandas in a future version. Use pandas.concat instead.\n",
      "  df = df.append(new_row, ignore_index=True)\n",
      "C:\\Users\\mahsh\\AppData\\Local\\Temp\\ipykernel_19920\\3161752069.py:18: FutureWarning: The frame.append method is deprecated and will be removed from pandas in a future version. Use pandas.concat instead.\n",
      "  df = df.append(new_row, ignore_index=True)\n",
      "C:\\Users\\mahsh\\AppData\\Local\\Temp\\ipykernel_19920\\3161752069.py:18: FutureWarning: The frame.append method is deprecated and will be removed from pandas in a future version. Use pandas.concat instead.\n",
      "  df = df.append(new_row, ignore_index=True)\n",
      "C:\\Users\\mahsh\\AppData\\Local\\Temp\\ipykernel_19920\\3161752069.py:18: FutureWarning: The frame.append method is deprecated and will be removed from pandas in a future version. Use pandas.concat instead.\n",
      "  df = df.append(new_row, ignore_index=True)\n",
      "C:\\Users\\mahsh\\AppData\\Local\\Temp\\ipykernel_19920\\3161752069.py:18: FutureWarning: The frame.append method is deprecated and will be removed from pandas in a future version. Use pandas.concat instead.\n",
      "  df = df.append(new_row, ignore_index=True)\n",
      "C:\\Users\\mahsh\\AppData\\Local\\Temp\\ipykernel_19920\\3161752069.py:18: FutureWarning: The frame.append method is deprecated and will be removed from pandas in a future version. Use pandas.concat instead.\n",
      "  df = df.append(new_row, ignore_index=True)\n",
      "C:\\Users\\mahsh\\AppData\\Local\\Temp\\ipykernel_19920\\3161752069.py:18: FutureWarning: The frame.append method is deprecated and will be removed from pandas in a future version. Use pandas.concat instead.\n",
      "  df = df.append(new_row, ignore_index=True)\n",
      "C:\\Users\\mahsh\\AppData\\Local\\Temp\\ipykernel_19920\\3161752069.py:18: FutureWarning: The frame.append method is deprecated and will be removed from pandas in a future version. Use pandas.concat instead.\n",
      "  df = df.append(new_row, ignore_index=True)\n",
      "C:\\Users\\mahsh\\AppData\\Local\\Temp\\ipykernel_19920\\3161752069.py:18: FutureWarning: The frame.append method is deprecated and will be removed from pandas in a future version. Use pandas.concat instead.\n",
      "  df = df.append(new_row, ignore_index=True)\n",
      "C:\\Users\\mahsh\\AppData\\Local\\Temp\\ipykernel_19920\\3161752069.py:18: FutureWarning: The frame.append method is deprecated and will be removed from pandas in a future version. Use pandas.concat instead.\n",
      "  df = df.append(new_row, ignore_index=True)\n",
      "C:\\Users\\mahsh\\AppData\\Local\\Temp\\ipykernel_19920\\3161752069.py:18: FutureWarning: The frame.append method is deprecated and will be removed from pandas in a future version. Use pandas.concat instead.\n",
      "  df = df.append(new_row, ignore_index=True)\n",
      "C:\\Users\\mahsh\\AppData\\Local\\Temp\\ipykernel_19920\\3161752069.py:18: FutureWarning: The frame.append method is deprecated and will be removed from pandas in a future version. Use pandas.concat instead.\n",
      "  df = df.append(new_row, ignore_index=True)\n",
      "C:\\Users\\mahsh\\AppData\\Local\\Temp\\ipykernel_19920\\3161752069.py:18: FutureWarning: The frame.append method is deprecated and will be removed from pandas in a future version. Use pandas.concat instead.\n",
      "  df = df.append(new_row, ignore_index=True)\n",
      "C:\\Users\\mahsh\\AppData\\Local\\Temp\\ipykernel_19920\\3161752069.py:18: FutureWarning: The frame.append method is deprecated and will be removed from pandas in a future version. Use pandas.concat instead.\n",
      "  df = df.append(new_row, ignore_index=True)\n",
      "C:\\Users\\mahsh\\AppData\\Local\\Temp\\ipykernel_19920\\3161752069.py:18: FutureWarning: The frame.append method is deprecated and will be removed from pandas in a future version. Use pandas.concat instead.\n",
      "  df = df.append(new_row, ignore_index=True)\n",
      "C:\\Users\\mahsh\\AppData\\Local\\Temp\\ipykernel_19920\\3161752069.py:18: FutureWarning: The frame.append method is deprecated and will be removed from pandas in a future version. Use pandas.concat instead.\n",
      "  df = df.append(new_row, ignore_index=True)\n",
      "C:\\Users\\mahsh\\AppData\\Local\\Temp\\ipykernel_19920\\3161752069.py:18: FutureWarning: The frame.append method is deprecated and will be removed from pandas in a future version. Use pandas.concat instead.\n",
      "  df = df.append(new_row, ignore_index=True)\n",
      "C:\\Users\\mahsh\\AppData\\Local\\Temp\\ipykernel_19920\\3161752069.py:18: FutureWarning: The frame.append method is deprecated and will be removed from pandas in a future version. Use pandas.concat instead.\n",
      "  df = df.append(new_row, ignore_index=True)\n",
      "C:\\Users\\mahsh\\AppData\\Local\\Temp\\ipykernel_19920\\3161752069.py:18: FutureWarning: The frame.append method is deprecated and will be removed from pandas in a future version. Use pandas.concat instead.\n",
      "  df = df.append(new_row, ignore_index=True)\n",
      "C:\\Users\\mahsh\\AppData\\Local\\Temp\\ipykernel_19920\\3161752069.py:18: FutureWarning: The frame.append method is deprecated and will be removed from pandas in a future version. Use pandas.concat instead.\n",
      "  df = df.append(new_row, ignore_index=True)\n",
      "C:\\Users\\mahsh\\AppData\\Local\\Temp\\ipykernel_19920\\3161752069.py:18: FutureWarning: The frame.append method is deprecated and will be removed from pandas in a future version. Use pandas.concat instead.\n",
      "  df = df.append(new_row, ignore_index=True)\n",
      "C:\\Users\\mahsh\\AppData\\Local\\Temp\\ipykernel_19920\\3161752069.py:18: FutureWarning: The frame.append method is deprecated and will be removed from pandas in a future version. Use pandas.concat instead.\n",
      "  df = df.append(new_row, ignore_index=True)\n",
      "C:\\Users\\mahsh\\AppData\\Local\\Temp\\ipykernel_19920\\3161752069.py:18: FutureWarning: The frame.append method is deprecated and will be removed from pandas in a future version. Use pandas.concat instead.\n",
      "  df = df.append(new_row, ignore_index=True)\n",
      "C:\\Users\\mahsh\\AppData\\Local\\Temp\\ipykernel_19920\\3161752069.py:18: FutureWarning: The frame.append method is deprecated and will be removed from pandas in a future version. Use pandas.concat instead.\n",
      "  df = df.append(new_row, ignore_index=True)\n",
      "C:\\Users\\mahsh\\AppData\\Local\\Temp\\ipykernel_19920\\3161752069.py:18: FutureWarning: The frame.append method is deprecated and will be removed from pandas in a future version. Use pandas.concat instead.\n",
      "  df = df.append(new_row, ignore_index=True)\n",
      "C:\\Users\\mahsh\\AppData\\Local\\Temp\\ipykernel_19920\\3161752069.py:18: FutureWarning: The frame.append method is deprecated and will be removed from pandas in a future version. Use pandas.concat instead.\n",
      "  df = df.append(new_row, ignore_index=True)\n",
      "C:\\Users\\mahsh\\AppData\\Local\\Temp\\ipykernel_19920\\3161752069.py:18: FutureWarning: The frame.append method is deprecated and will be removed from pandas in a future version. Use pandas.concat instead.\n",
      "  df = df.append(new_row, ignore_index=True)\n",
      "C:\\Users\\mahsh\\AppData\\Local\\Temp\\ipykernel_19920\\3161752069.py:18: FutureWarning: The frame.append method is deprecated and will be removed from pandas in a future version. Use pandas.concat instead.\n",
      "  df = df.append(new_row, ignore_index=True)\n",
      "C:\\Users\\mahsh\\AppData\\Local\\Temp\\ipykernel_19920\\3161752069.py:18: FutureWarning: The frame.append method is deprecated and will be removed from pandas in a future version. Use pandas.concat instead.\n",
      "  df = df.append(new_row, ignore_index=True)\n",
      "C:\\Users\\mahsh\\AppData\\Local\\Temp\\ipykernel_19920\\3161752069.py:18: FutureWarning: The frame.append method is deprecated and will be removed from pandas in a future version. Use pandas.concat instead.\n",
      "  df = df.append(new_row, ignore_index=True)\n",
      "C:\\Users\\mahsh\\AppData\\Local\\Temp\\ipykernel_19920\\3161752069.py:18: FutureWarning: The frame.append method is deprecated and will be removed from pandas in a future version. Use pandas.concat instead.\n",
      "  df = df.append(new_row, ignore_index=True)\n",
      "C:\\Users\\mahsh\\AppData\\Local\\Temp\\ipykernel_19920\\3161752069.py:18: FutureWarning: The frame.append method is deprecated and will be removed from pandas in a future version. Use pandas.concat instead.\n",
      "  df = df.append(new_row, ignore_index=True)\n",
      "C:\\Users\\mahsh\\AppData\\Local\\Temp\\ipykernel_19920\\3161752069.py:18: FutureWarning: The frame.append method is deprecated and will be removed from pandas in a future version. Use pandas.concat instead.\n",
      "  df = df.append(new_row, ignore_index=True)\n",
      "C:\\Users\\mahsh\\AppData\\Local\\Temp\\ipykernel_19920\\3161752069.py:18: FutureWarning: The frame.append method is deprecated and will be removed from pandas in a future version. Use pandas.concat instead.\n",
      "  df = df.append(new_row, ignore_index=True)\n",
      "C:\\Users\\mahsh\\AppData\\Local\\Temp\\ipykernel_19920\\3161752069.py:18: FutureWarning: The frame.append method is deprecated and will be removed from pandas in a future version. Use pandas.concat instead.\n",
      "  df = df.append(new_row, ignore_index=True)\n",
      "C:\\Users\\mahsh\\AppData\\Local\\Temp\\ipykernel_19920\\3161752069.py:18: FutureWarning: The frame.append method is deprecated and will be removed from pandas in a future version. Use pandas.concat instead.\n",
      "  df = df.append(new_row, ignore_index=True)\n",
      "C:\\Users\\mahsh\\AppData\\Local\\Temp\\ipykernel_19920\\3161752069.py:18: FutureWarning: The frame.append method is deprecated and will be removed from pandas in a future version. Use pandas.concat instead.\n",
      "  df = df.append(new_row, ignore_index=True)\n",
      "C:\\Users\\mahsh\\AppData\\Local\\Temp\\ipykernel_19920\\3161752069.py:18: FutureWarning: The frame.append method is deprecated and will be removed from pandas in a future version. Use pandas.concat instead.\n",
      "  df = df.append(new_row, ignore_index=True)\n",
      "C:\\Users\\mahsh\\AppData\\Local\\Temp\\ipykernel_19920\\3161752069.py:18: FutureWarning: The frame.append method is deprecated and will be removed from pandas in a future version. Use pandas.concat instead.\n",
      "  df = df.append(new_row, ignore_index=True)\n",
      "C:\\Users\\mahsh\\AppData\\Local\\Temp\\ipykernel_19920\\3161752069.py:18: FutureWarning: The frame.append method is deprecated and will be removed from pandas in a future version. Use pandas.concat instead.\n",
      "  df = df.append(new_row, ignore_index=True)\n",
      "C:\\Users\\mahsh\\AppData\\Local\\Temp\\ipykernel_19920\\3161752069.py:18: FutureWarning: The frame.append method is deprecated and will be removed from pandas in a future version. Use pandas.concat instead.\n",
      "  df = df.append(new_row, ignore_index=True)\n",
      "C:\\Users\\mahsh\\AppData\\Local\\Temp\\ipykernel_19920\\3161752069.py:18: FutureWarning: The frame.append method is deprecated and will be removed from pandas in a future version. Use pandas.concat instead.\n",
      "  df = df.append(new_row, ignore_index=True)\n",
      "C:\\Users\\mahsh\\AppData\\Local\\Temp\\ipykernel_19920\\3161752069.py:18: FutureWarning: The frame.append method is deprecated and will be removed from pandas in a future version. Use pandas.concat instead.\n",
      "  df = df.append(new_row, ignore_index=True)\n",
      "C:\\Users\\mahsh\\AppData\\Local\\Temp\\ipykernel_19920\\3161752069.py:18: FutureWarning: The frame.append method is deprecated and will be removed from pandas in a future version. Use pandas.concat instead.\n",
      "  df = df.append(new_row, ignore_index=True)\n",
      "C:\\Users\\mahsh\\AppData\\Local\\Temp\\ipykernel_19920\\3161752069.py:18: FutureWarning: The frame.append method is deprecated and will be removed from pandas in a future version. Use pandas.concat instead.\n",
      "  df = df.append(new_row, ignore_index=True)\n",
      "C:\\Users\\mahsh\\AppData\\Local\\Temp\\ipykernel_19920\\3161752069.py:18: FutureWarning: The frame.append method is deprecated and will be removed from pandas in a future version. Use pandas.concat instead.\n",
      "  df = df.append(new_row, ignore_index=True)\n",
      "C:\\Users\\mahsh\\AppData\\Local\\Temp\\ipykernel_19920\\3161752069.py:18: FutureWarning: The frame.append method is deprecated and will be removed from pandas in a future version. Use pandas.concat instead.\n",
      "  df = df.append(new_row, ignore_index=True)\n",
      "C:\\Users\\mahsh\\AppData\\Local\\Temp\\ipykernel_19920\\3161752069.py:18: FutureWarning: The frame.append method is deprecated and will be removed from pandas in a future version. Use pandas.concat instead.\n",
      "  df = df.append(new_row, ignore_index=True)\n",
      "C:\\Users\\mahsh\\AppData\\Local\\Temp\\ipykernel_19920\\3161752069.py:18: FutureWarning: The frame.append method is deprecated and will be removed from pandas in a future version. Use pandas.concat instead.\n",
      "  df = df.append(new_row, ignore_index=True)\n",
      "C:\\Users\\mahsh\\AppData\\Local\\Temp\\ipykernel_19920\\3161752069.py:18: FutureWarning: The frame.append method is deprecated and will be removed from pandas in a future version. Use pandas.concat instead.\n",
      "  df = df.append(new_row, ignore_index=True)\n",
      "C:\\Users\\mahsh\\AppData\\Local\\Temp\\ipykernel_19920\\3161752069.py:18: FutureWarning: The frame.append method is deprecated and will be removed from pandas in a future version. Use pandas.concat instead.\n",
      "  df = df.append(new_row, ignore_index=True)\n",
      "C:\\Users\\mahsh\\AppData\\Local\\Temp\\ipykernel_19920\\3161752069.py:18: FutureWarning: The frame.append method is deprecated and will be removed from pandas in a future version. Use pandas.concat instead.\n",
      "  df = df.append(new_row, ignore_index=True)\n",
      "C:\\Users\\mahsh\\AppData\\Local\\Temp\\ipykernel_19920\\3161752069.py:18: FutureWarning: The frame.append method is deprecated and will be removed from pandas in a future version. Use pandas.concat instead.\n",
      "  df = df.append(new_row, ignore_index=True)\n",
      "C:\\Users\\mahsh\\AppData\\Local\\Temp\\ipykernel_19920\\3161752069.py:18: FutureWarning: The frame.append method is deprecated and will be removed from pandas in a future version. Use pandas.concat instead.\n",
      "  df = df.append(new_row, ignore_index=True)\n",
      "C:\\Users\\mahsh\\AppData\\Local\\Temp\\ipykernel_19920\\3161752069.py:18: FutureWarning: The frame.append method is deprecated and will be removed from pandas in a future version. Use pandas.concat instead.\n",
      "  df = df.append(new_row, ignore_index=True)\n",
      "C:\\Users\\mahsh\\AppData\\Local\\Temp\\ipykernel_19920\\3161752069.py:18: FutureWarning: The frame.append method is deprecated and will be removed from pandas in a future version. Use pandas.concat instead.\n",
      "  df = df.append(new_row, ignore_index=True)\n",
      "C:\\Users\\mahsh\\AppData\\Local\\Temp\\ipykernel_19920\\3161752069.py:18: FutureWarning: The frame.append method is deprecated and will be removed from pandas in a future version. Use pandas.concat instead.\n",
      "  df = df.append(new_row, ignore_index=True)\n",
      "C:\\Users\\mahsh\\AppData\\Local\\Temp\\ipykernel_19920\\3161752069.py:18: FutureWarning: The frame.append method is deprecated and will be removed from pandas in a future version. Use pandas.concat instead.\n",
      "  df = df.append(new_row, ignore_index=True)\n",
      "C:\\Users\\mahsh\\AppData\\Local\\Temp\\ipykernel_19920\\3161752069.py:18: FutureWarning: The frame.append method is deprecated and will be removed from pandas in a future version. Use pandas.concat instead.\n",
      "  df = df.append(new_row, ignore_index=True)\n",
      "C:\\Users\\mahsh\\AppData\\Local\\Temp\\ipykernel_19920\\3161752069.py:18: FutureWarning: The frame.append method is deprecated and will be removed from pandas in a future version. Use pandas.concat instead.\n",
      "  df = df.append(new_row, ignore_index=True)\n",
      "C:\\Users\\mahsh\\AppData\\Local\\Temp\\ipykernel_19920\\3161752069.py:18: FutureWarning: The frame.append method is deprecated and will be removed from pandas in a future version. Use pandas.concat instead.\n",
      "  df = df.append(new_row, ignore_index=True)\n",
      "C:\\Users\\mahsh\\AppData\\Local\\Temp\\ipykernel_19920\\3161752069.py:18: FutureWarning: The frame.append method is deprecated and will be removed from pandas in a future version. Use pandas.concat instead.\n",
      "  df = df.append(new_row, ignore_index=True)\n",
      "C:\\Users\\mahsh\\AppData\\Local\\Temp\\ipykernel_19920\\3161752069.py:18: FutureWarning: The frame.append method is deprecated and will be removed from pandas in a future version. Use pandas.concat instead.\n",
      "  df = df.append(new_row, ignore_index=True)\n",
      "C:\\Users\\mahsh\\AppData\\Local\\Temp\\ipykernel_19920\\3161752069.py:18: FutureWarning: The frame.append method is deprecated and will be removed from pandas in a future version. Use pandas.concat instead.\n",
      "  df = df.append(new_row, ignore_index=True)\n"
     ]
    },
    {
     "name": "stdout",
     "output_type": "stream",
     "text": [
      "Oakland_11022010_SchoolDirectorDistrict2.csv  threw an exception\n"
     ]
    },
    {
     "name": "stderr",
     "output_type": "stream",
     "text": [
      "C:\\Users\\mahsh\\AppData\\Local\\Temp\\ipykernel_19920\\3161752069.py:18: FutureWarning: The frame.append method is deprecated and will be removed from pandas in a future version. Use pandas.concat instead.\n",
      "  df = df.append(new_row, ignore_index=True)\n"
     ]
    },
    {
     "name": "stdout",
     "output_type": "stream",
     "text": [
      "Oakland_11022010_SchoolDirectorDistrict6.csv  threw an exception\n"
     ]
    },
    {
     "name": "stderr",
     "output_type": "stream",
     "text": [
      "C:\\Users\\mahsh\\AppData\\Local\\Temp\\ipykernel_19920\\3161752069.py:18: FutureWarning: The frame.append method is deprecated and will be removed from pandas in a future version. Use pandas.concat instead.\n",
      "  df = df.append(new_row, ignore_index=True)\n",
      "C:\\Users\\mahsh\\AppData\\Local\\Temp\\ipykernel_19920\\3161752069.py:18: FutureWarning: The frame.append method is deprecated and will be removed from pandas in a future version. Use pandas.concat instead.\n",
      "  df = df.append(new_row, ignore_index=True)\n",
      "C:\\Users\\mahsh\\AppData\\Local\\Temp\\ipykernel_19920\\3161752069.py:18: FutureWarning: The frame.append method is deprecated and will be removed from pandas in a future version. Use pandas.concat instead.\n",
      "  df = df.append(new_row, ignore_index=True)\n",
      "C:\\Users\\mahsh\\AppData\\Local\\Temp\\ipykernel_19920\\3161752069.py:18: FutureWarning: The frame.append method is deprecated and will be removed from pandas in a future version. Use pandas.concat instead.\n",
      "  df = df.append(new_row, ignore_index=True)\n",
      "C:\\Users\\mahsh\\AppData\\Local\\Temp\\ipykernel_19920\\3161752069.py:18: FutureWarning: The frame.append method is deprecated and will be removed from pandas in a future version. Use pandas.concat instead.\n",
      "  df = df.append(new_row, ignore_index=True)\n",
      "C:\\Users\\mahsh\\AppData\\Local\\Temp\\ipykernel_19920\\3161752069.py:18: FutureWarning: The frame.append method is deprecated and will be removed from pandas in a future version. Use pandas.concat instead.\n",
      "  df = df.append(new_row, ignore_index=True)\n",
      "C:\\Users\\mahsh\\AppData\\Local\\Temp\\ipykernel_19920\\3161752069.py:18: FutureWarning: The frame.append method is deprecated and will be removed from pandas in a future version. Use pandas.concat instead.\n",
      "  df = df.append(new_row, ignore_index=True)\n",
      "C:\\Users\\mahsh\\AppData\\Local\\Temp\\ipykernel_19920\\3161752069.py:18: FutureWarning: The frame.append method is deprecated and will be removed from pandas in a future version. Use pandas.concat instead.\n",
      "  df = df.append(new_row, ignore_index=True)\n",
      "C:\\Users\\mahsh\\AppData\\Local\\Temp\\ipykernel_19920\\3161752069.py:18: FutureWarning: The frame.append method is deprecated and will be removed from pandas in a future version. Use pandas.concat instead.\n",
      "  df = df.append(new_row, ignore_index=True)\n",
      "C:\\Users\\mahsh\\AppData\\Local\\Temp\\ipykernel_19920\\3161752069.py:18: FutureWarning: The frame.append method is deprecated and will be removed from pandas in a future version. Use pandas.concat instead.\n",
      "  df = df.append(new_row, ignore_index=True)\n",
      "C:\\Users\\mahsh\\AppData\\Local\\Temp\\ipykernel_19920\\3161752069.py:18: FutureWarning: The frame.append method is deprecated and will be removed from pandas in a future version. Use pandas.concat instead.\n",
      "  df = df.append(new_row, ignore_index=True)\n",
      "C:\\Users\\mahsh\\AppData\\Local\\Temp\\ipykernel_19920\\3161752069.py:18: FutureWarning: The frame.append method is deprecated and will be removed from pandas in a future version. Use pandas.concat instead.\n",
      "  df = df.append(new_row, ignore_index=True)\n",
      "C:\\Users\\mahsh\\AppData\\Local\\Temp\\ipykernel_19920\\3161752069.py:18: FutureWarning: The frame.append method is deprecated and will be removed from pandas in a future version. Use pandas.concat instead.\n",
      "  df = df.append(new_row, ignore_index=True)\n",
      "C:\\Users\\mahsh\\AppData\\Local\\Temp\\ipykernel_19920\\3161752069.py:18: FutureWarning: The frame.append method is deprecated and will be removed from pandas in a future version. Use pandas.concat instead.\n",
      "  df = df.append(new_row, ignore_index=True)\n",
      "C:\\Users\\mahsh\\AppData\\Local\\Temp\\ipykernel_19920\\3161752069.py:18: FutureWarning: The frame.append method is deprecated and will be removed from pandas in a future version. Use pandas.concat instead.\n",
      "  df = df.append(new_row, ignore_index=True)\n",
      "C:\\Users\\mahsh\\AppData\\Local\\Temp\\ipykernel_19920\\3161752069.py:18: FutureWarning: The frame.append method is deprecated and will be removed from pandas in a future version. Use pandas.concat instead.\n",
      "  df = df.append(new_row, ignore_index=True)\n",
      "C:\\Users\\mahsh\\AppData\\Local\\Temp\\ipykernel_19920\\3161752069.py:18: FutureWarning: The frame.append method is deprecated and will be removed from pandas in a future version. Use pandas.concat instead.\n",
      "  df = df.append(new_row, ignore_index=True)\n",
      "C:\\Users\\mahsh\\AppData\\Local\\Temp\\ipykernel_19920\\3161752069.py:18: FutureWarning: The frame.append method is deprecated and will be removed from pandas in a future version. Use pandas.concat instead.\n",
      "  df = df.append(new_row, ignore_index=True)\n",
      "C:\\Users\\mahsh\\AppData\\Local\\Temp\\ipykernel_19920\\3161752069.py:18: FutureWarning: The frame.append method is deprecated and will be removed from pandas in a future version. Use pandas.concat instead.\n",
      "  df = df.append(new_row, ignore_index=True)\n",
      "C:\\Users\\mahsh\\AppData\\Local\\Temp\\ipykernel_19920\\3161752069.py:18: FutureWarning: The frame.append method is deprecated and will be removed from pandas in a future version. Use pandas.concat instead.\n",
      "  df = df.append(new_row, ignore_index=True)\n",
      "C:\\Users\\mahsh\\AppData\\Local\\Temp\\ipykernel_19920\\3161752069.py:18: FutureWarning: The frame.append method is deprecated and will be removed from pandas in a future version. Use pandas.concat instead.\n",
      "  df = df.append(new_row, ignore_index=True)\n",
      "C:\\Users\\mahsh\\AppData\\Local\\Temp\\ipykernel_19920\\3161752069.py:18: FutureWarning: The frame.append method is deprecated and will be removed from pandas in a future version. Use pandas.concat instead.\n",
      "  df = df.append(new_row, ignore_index=True)\n",
      "C:\\Users\\mahsh\\AppData\\Local\\Temp\\ipykernel_19920\\3161752069.py:18: FutureWarning: The frame.append method is deprecated and will be removed from pandas in a future version. Use pandas.concat instead.\n",
      "  df = df.append(new_row, ignore_index=True)\n",
      "C:\\Users\\mahsh\\AppData\\Local\\Temp\\ipykernel_19920\\3161752069.py:18: FutureWarning: The frame.append method is deprecated and will be removed from pandas in a future version. Use pandas.concat instead.\n",
      "  df = df.append(new_row, ignore_index=True)\n",
      "C:\\Users\\mahsh\\AppData\\Local\\Temp\\ipykernel_19920\\3161752069.py:18: FutureWarning: The frame.append method is deprecated and will be removed from pandas in a future version. Use pandas.concat instead.\n",
      "  df = df.append(new_row, ignore_index=True)\n",
      "C:\\Users\\mahsh\\AppData\\Local\\Temp\\ipykernel_19920\\3161752069.py:18: FutureWarning: The frame.append method is deprecated and will be removed from pandas in a future version. Use pandas.concat instead.\n",
      "  df = df.append(new_row, ignore_index=True)\n",
      "C:\\Users\\mahsh\\AppData\\Local\\Temp\\ipykernel_19920\\3161752069.py:18: FutureWarning: The frame.append method is deprecated and will be removed from pandas in a future version. Use pandas.concat instead.\n",
      "  df = df.append(new_row, ignore_index=True)\n",
      "C:\\Users\\mahsh\\AppData\\Local\\Temp\\ipykernel_19920\\3161752069.py:18: FutureWarning: The frame.append method is deprecated and will be removed from pandas in a future version. Use pandas.concat instead.\n",
      "  df = df.append(new_row, ignore_index=True)\n",
      "C:\\Users\\mahsh\\AppData\\Local\\Temp\\ipykernel_19920\\3161752069.py:18: FutureWarning: The frame.append method is deprecated and will be removed from pandas in a future version. Use pandas.concat instead.\n",
      "  df = df.append(new_row, ignore_index=True)\n",
      "C:\\Users\\mahsh\\AppData\\Local\\Temp\\ipykernel_19920\\3161752069.py:18: FutureWarning: The frame.append method is deprecated and will be removed from pandas in a future version. Use pandas.concat instead.\n",
      "  df = df.append(new_row, ignore_index=True)\n",
      "C:\\Users\\mahsh\\AppData\\Local\\Temp\\ipykernel_19920\\3161752069.py:18: FutureWarning: The frame.append method is deprecated and will be removed from pandas in a future version. Use pandas.concat instead.\n",
      "  df = df.append(new_row, ignore_index=True)\n",
      "C:\\Users\\mahsh\\AppData\\Local\\Temp\\ipykernel_19920\\3161752069.py:18: FutureWarning: The frame.append method is deprecated and will be removed from pandas in a future version. Use pandas.concat instead.\n",
      "  df = df.append(new_row, ignore_index=True)\n",
      "C:\\Users\\mahsh\\AppData\\Local\\Temp\\ipykernel_19920\\3161752069.py:18: FutureWarning: The frame.append method is deprecated and will be removed from pandas in a future version. Use pandas.concat instead.\n",
      "  df = df.append(new_row, ignore_index=True)\n"
     ]
    },
    {
     "name": "stdout",
     "output_type": "stream",
     "text": [
      "Oakland_11062018_SchoolDirectorDistrict2.csv  threw an exception\n"
     ]
    },
    {
     "name": "stderr",
     "output_type": "stream",
     "text": [
      "C:\\Users\\mahsh\\AppData\\Local\\Temp\\ipykernel_19920\\3161752069.py:18: FutureWarning: The frame.append method is deprecated and will be removed from pandas in a future version. Use pandas.concat instead.\n",
      "  df = df.append(new_row, ignore_index=True)\n",
      "C:\\Users\\mahsh\\AppData\\Local\\Temp\\ipykernel_19920\\3161752069.py:18: FutureWarning: The frame.append method is deprecated and will be removed from pandas in a future version. Use pandas.concat instead.\n",
      "  df = df.append(new_row, ignore_index=True)\n"
     ]
    },
    {
     "name": "stdout",
     "output_type": "stream",
     "text": [
      "Oakland_11082016_CityAttorney.csv  threw an exception\n"
     ]
    },
    {
     "name": "stderr",
     "output_type": "stream",
     "text": [
      "C:\\Users\\mahsh\\AppData\\Local\\Temp\\ipykernel_19920\\3161752069.py:18: FutureWarning: The frame.append method is deprecated and will be removed from pandas in a future version. Use pandas.concat instead.\n",
      "  df = df.append(new_row, ignore_index=True)\n",
      "C:\\Users\\mahsh\\AppData\\Local\\Temp\\ipykernel_19920\\3161752069.py:18: FutureWarning: The frame.append method is deprecated and will be removed from pandas in a future version. Use pandas.concat instead.\n",
      "  df = df.append(new_row, ignore_index=True)\n",
      "C:\\Users\\mahsh\\AppData\\Local\\Temp\\ipykernel_19920\\3161752069.py:18: FutureWarning: The frame.append method is deprecated and will be removed from pandas in a future version. Use pandas.concat instead.\n",
      "  df = df.append(new_row, ignore_index=True)\n",
      "C:\\Users\\mahsh\\AppData\\Local\\Temp\\ipykernel_19920\\3161752069.py:18: FutureWarning: The frame.append method is deprecated and will be removed from pandas in a future version. Use pandas.concat instead.\n",
      "  df = df.append(new_row, ignore_index=True)\n",
      "C:\\Users\\mahsh\\AppData\\Local\\Temp\\ipykernel_19920\\3161752069.py:18: FutureWarning: The frame.append method is deprecated and will be removed from pandas in a future version. Use pandas.concat instead.\n",
      "  df = df.append(new_row, ignore_index=True)\n",
      "C:\\Users\\mahsh\\AppData\\Local\\Temp\\ipykernel_19920\\3161752069.py:18: FutureWarning: The frame.append method is deprecated and will be removed from pandas in a future version. Use pandas.concat instead.\n",
      "  df = df.append(new_row, ignore_index=True)\n",
      "C:\\Users\\mahsh\\AppData\\Local\\Temp\\ipykernel_19920\\3161752069.py:18: FutureWarning: The frame.append method is deprecated and will be removed from pandas in a future version. Use pandas.concat instead.\n",
      "  df = df.append(new_row, ignore_index=True)\n",
      "C:\\Users\\mahsh\\AppData\\Local\\Temp\\ipykernel_19920\\3161752069.py:18: FutureWarning: The frame.append method is deprecated and will be removed from pandas in a future version. Use pandas.concat instead.\n",
      "  df = df.append(new_row, ignore_index=True)\n",
      "C:\\Users\\mahsh\\AppData\\Local\\Temp\\ipykernel_19920\\3161752069.py:18: FutureWarning: The frame.append method is deprecated and will be removed from pandas in a future version. Use pandas.concat instead.\n",
      "  df = df.append(new_row, ignore_index=True)\n"
     ]
    },
    {
     "name": "stdout",
     "output_type": "stream",
     "text": [
      "Oakland_11082022_CityAuditor.csv  threw an exception\n"
     ]
    },
    {
     "name": "stderr",
     "output_type": "stream",
     "text": [
      "C:\\Users\\mahsh\\AppData\\Local\\Temp\\ipykernel_19920\\3161752069.py:18: FutureWarning: The frame.append method is deprecated and will be removed from pandas in a future version. Use pandas.concat instead.\n",
      "  df = df.append(new_row, ignore_index=True)\n",
      "C:\\Users\\mahsh\\AppData\\Local\\Temp\\ipykernel_19920\\3161752069.py:18: FutureWarning: The frame.append method is deprecated and will be removed from pandas in a future version. Use pandas.concat instead.\n",
      "  df = df.append(new_row, ignore_index=True)\n",
      "C:\\Users\\mahsh\\AppData\\Local\\Temp\\ipykernel_19920\\3161752069.py:18: FutureWarning: The frame.append method is deprecated and will be removed from pandas in a future version. Use pandas.concat instead.\n",
      "  df = df.append(new_row, ignore_index=True)\n",
      "C:\\Users\\mahsh\\AppData\\Local\\Temp\\ipykernel_19920\\3161752069.py:18: FutureWarning: The frame.append method is deprecated and will be removed from pandas in a future version. Use pandas.concat instead.\n",
      "  df = df.append(new_row, ignore_index=True)\n",
      "C:\\Users\\mahsh\\AppData\\Local\\Temp\\ipykernel_19920\\3161752069.py:18: FutureWarning: The frame.append method is deprecated and will be removed from pandas in a future version. Use pandas.concat instead.\n",
      "  df = df.append(new_row, ignore_index=True)\n",
      "C:\\Users\\mahsh\\AppData\\Local\\Temp\\ipykernel_19920\\3161752069.py:18: FutureWarning: The frame.append method is deprecated and will be removed from pandas in a future version. Use pandas.concat instead.\n",
      "  df = df.append(new_row, ignore_index=True)\n",
      "C:\\Users\\mahsh\\AppData\\Local\\Temp\\ipykernel_19920\\3161752069.py:18: FutureWarning: The frame.append method is deprecated and will be removed from pandas in a future version. Use pandas.concat instead.\n",
      "  df = df.append(new_row, ignore_index=True)\n",
      "C:\\Users\\mahsh\\AppData\\Local\\Temp\\ipykernel_19920\\3161752069.py:18: FutureWarning: The frame.append method is deprecated and will be removed from pandas in a future version. Use pandas.concat instead.\n",
      "  df = df.append(new_row, ignore_index=True)\n",
      "C:\\Users\\mahsh\\AppData\\Local\\Temp\\ipykernel_19920\\3161752069.py:18: FutureWarning: The frame.append method is deprecated and will be removed from pandas in a future version. Use pandas.concat instead.\n",
      "  df = df.append(new_row, ignore_index=True)\n",
      "C:\\Users\\mahsh\\AppData\\Local\\Temp\\ipykernel_19920\\3161752069.py:18: FutureWarning: The frame.append method is deprecated and will be removed from pandas in a future version. Use pandas.concat instead.\n",
      "  df = df.append(new_row, ignore_index=True)\n",
      "C:\\Users\\mahsh\\AppData\\Local\\Temp\\ipykernel_19920\\3161752069.py:18: FutureWarning: The frame.append method is deprecated and will be removed from pandas in a future version. Use pandas.concat instead.\n",
      "  df = df.append(new_row, ignore_index=True)\n",
      "C:\\Users\\mahsh\\AppData\\Local\\Temp\\ipykernel_19920\\3161752069.py:18: FutureWarning: The frame.append method is deprecated and will be removed from pandas in a future version. Use pandas.concat instead.\n",
      "  df = df.append(new_row, ignore_index=True)\n",
      "C:\\Users\\mahsh\\AppData\\Local\\Temp\\ipykernel_19920\\3161752069.py:18: FutureWarning: The frame.append method is deprecated and will be removed from pandas in a future version. Use pandas.concat instead.\n",
      "  df = df.append(new_row, ignore_index=True)\n"
     ]
    },
    {
     "name": "stdout",
     "output_type": "stream",
     "text": [
      "Portland_06142022_SchoolboardAL.csv  threw an exception\n"
     ]
    },
    {
     "name": "stderr",
     "output_type": "stream",
     "text": [
      "C:\\Users\\mahsh\\AppData\\Local\\Temp\\ipykernel_19920\\3161752069.py:18: FutureWarning: The frame.append method is deprecated and will be removed from pandas in a future version. Use pandas.concat instead.\n",
      "  df = df.append(new_row, ignore_index=True)\n"
     ]
    },
    {
     "name": "stdout",
     "output_type": "stream",
     "text": [
      "Portland_06142022_Schoolboarddistrict5.csv  threw an exception\n"
     ]
    },
    {
     "name": "stderr",
     "output_type": "stream",
     "text": [
      "C:\\Users\\mahsh\\AppData\\Local\\Temp\\ipykernel_19920\\3161752069.py:18: FutureWarning: The frame.append method is deprecated and will be removed from pandas in a future version. Use pandas.concat instead.\n",
      "  df = df.append(new_row, ignore_index=True)\n",
      "C:\\Users\\mahsh\\AppData\\Local\\Temp\\ipykernel_19920\\3161752069.py:18: FutureWarning: The frame.append method is deprecated and will be removed from pandas in a future version. Use pandas.concat instead.\n",
      "  df = df.append(new_row, ignore_index=True)\n",
      "C:\\Users\\mahsh\\AppData\\Local\\Temp\\ipykernel_19920\\3161752069.py:18: FutureWarning: The frame.append method is deprecated and will be removed from pandas in a future version. Use pandas.concat instead.\n",
      "  df = df.append(new_row, ignore_index=True)\n",
      "C:\\Users\\mahsh\\AppData\\Local\\Temp\\ipykernel_19920\\3161752069.py:18: FutureWarning: The frame.append method is deprecated and will be removed from pandas in a future version. Use pandas.concat instead.\n",
      "  df = df.append(new_row, ignore_index=True)\n",
      "C:\\Users\\mahsh\\AppData\\Local\\Temp\\ipykernel_19920\\3161752069.py:18: FutureWarning: The frame.append method is deprecated and will be removed from pandas in a future version. Use pandas.concat instead.\n",
      "  df = df.append(new_row, ignore_index=True)\n",
      "C:\\Users\\mahsh\\AppData\\Local\\Temp\\ipykernel_19920\\3161752069.py:18: FutureWarning: The frame.append method is deprecated and will be removed from pandas in a future version. Use pandas.concat instead.\n",
      "  df = df.append(new_row, ignore_index=True)\n",
      "C:\\Users\\mahsh\\AppData\\Local\\Temp\\ipykernel_19920\\3161752069.py:18: FutureWarning: The frame.append method is deprecated and will be removed from pandas in a future version. Use pandas.concat instead.\n",
      "  df = df.append(new_row, ignore_index=True)\n",
      "C:\\Users\\mahsh\\AppData\\Local\\Temp\\ipykernel_19920\\3161752069.py:18: FutureWarning: The frame.append method is deprecated and will be removed from pandas in a future version. Use pandas.concat instead.\n",
      "  df = df.append(new_row, ignore_index=True)\n",
      "C:\\Users\\mahsh\\AppData\\Local\\Temp\\ipykernel_19920\\3161752069.py:18: FutureWarning: The frame.append method is deprecated and will be removed from pandas in a future version. Use pandas.concat instead.\n",
      "  df = df.append(new_row, ignore_index=True)\n",
      "C:\\Users\\mahsh\\AppData\\Local\\Temp\\ipykernel_19920\\3161752069.py:18: FutureWarning: The frame.append method is deprecated and will be removed from pandas in a future version. Use pandas.concat instead.\n",
      "  df = df.append(new_row, ignore_index=True)\n",
      "C:\\Users\\mahsh\\AppData\\Local\\Temp\\ipykernel_19920\\3161752069.py:18: FutureWarning: The frame.append method is deprecated and will be removed from pandas in a future version. Use pandas.concat instead.\n",
      "  df = df.append(new_row, ignore_index=True)\n",
      "C:\\Users\\mahsh\\AppData\\Local\\Temp\\ipykernel_19920\\3161752069.py:18: FutureWarning: The frame.append method is deprecated and will be removed from pandas in a future version. Use pandas.concat instead.\n",
      "  df = df.append(new_row, ignore_index=True)\n",
      "C:\\Users\\mahsh\\AppData\\Local\\Temp\\ipykernel_19920\\3161752069.py:18: FutureWarning: The frame.append method is deprecated and will be removed from pandas in a future version. Use pandas.concat instead.\n",
      "  df = df.append(new_row, ignore_index=True)\n",
      "C:\\Users\\mahsh\\AppData\\Local\\Temp\\ipykernel_19920\\3161752069.py:18: FutureWarning: The frame.append method is deprecated and will be removed from pandas in a future version. Use pandas.concat instead.\n",
      "  df = df.append(new_row, ignore_index=True)\n",
      "C:\\Users\\mahsh\\AppData\\Local\\Temp\\ipykernel_19920\\3161752069.py:18: FutureWarning: The frame.append method is deprecated and will be removed from pandas in a future version. Use pandas.concat instead.\n",
      "  df = df.append(new_row, ignore_index=True)\n",
      "C:\\Users\\mahsh\\AppData\\Local\\Temp\\ipykernel_19920\\3161752069.py:18: FutureWarning: The frame.append method is deprecated and will be removed from pandas in a future version. Use pandas.concat instead.\n",
      "  df = df.append(new_row, ignore_index=True)\n",
      "C:\\Users\\mahsh\\AppData\\Local\\Temp\\ipykernel_19920\\3161752069.py:18: FutureWarning: The frame.append method is deprecated and will be removed from pandas in a future version. Use pandas.concat instead.\n",
      "  df = df.append(new_row, ignore_index=True)\n",
      "C:\\Users\\mahsh\\AppData\\Local\\Temp\\ipykernel_19920\\3161752069.py:18: FutureWarning: The frame.append method is deprecated and will be removed from pandas in a future version. Use pandas.concat instead.\n",
      "  df = df.append(new_row, ignore_index=True)\n",
      "C:\\Users\\mahsh\\AppData\\Local\\Temp\\ipykernel_19920\\3161752069.py:18: FutureWarning: The frame.append method is deprecated and will be removed from pandas in a future version. Use pandas.concat instead.\n",
      "  df = df.append(new_row, ignore_index=True)\n",
      "C:\\Users\\mahsh\\AppData\\Local\\Temp\\ipykernel_19920\\3161752069.py:18: FutureWarning: The frame.append method is deprecated and will be removed from pandas in a future version. Use pandas.concat instead.\n",
      "  df = df.append(new_row, ignore_index=True)\n",
      "C:\\Users\\mahsh\\AppData\\Local\\Temp\\ipykernel_19920\\3161752069.py:18: FutureWarning: The frame.append method is deprecated and will be removed from pandas in a future version. Use pandas.concat instead.\n",
      "  df = df.append(new_row, ignore_index=True)\n",
      "C:\\Users\\mahsh\\AppData\\Local\\Temp\\ipykernel_19920\\3161752069.py:18: FutureWarning: The frame.append method is deprecated and will be removed from pandas in a future version. Use pandas.concat instead.\n",
      "  df = df.append(new_row, ignore_index=True)\n",
      "C:\\Users\\mahsh\\AppData\\Local\\Temp\\ipykernel_19920\\3161752069.py:18: FutureWarning: The frame.append method is deprecated and will be removed from pandas in a future version. Use pandas.concat instead.\n",
      "  df = df.append(new_row, ignore_index=True)\n",
      "C:\\Users\\mahsh\\AppData\\Local\\Temp\\ipykernel_19920\\3161752069.py:18: FutureWarning: The frame.append method is deprecated and will be removed from pandas in a future version. Use pandas.concat instead.\n",
      "  df = df.append(new_row, ignore_index=True)\n",
      "C:\\Users\\mahsh\\AppData\\Local\\Temp\\ipykernel_19920\\3161752069.py:18: FutureWarning: The frame.append method is deprecated and will be removed from pandas in a future version. Use pandas.concat instead.\n",
      "  df = df.append(new_row, ignore_index=True)\n",
      "C:\\Users\\mahsh\\AppData\\Local\\Temp\\ipykernel_19920\\3161752069.py:18: FutureWarning: The frame.append method is deprecated and will be removed from pandas in a future version. Use pandas.concat instead.\n",
      "  df = df.append(new_row, ignore_index=True)\n",
      "C:\\Users\\mahsh\\AppData\\Local\\Temp\\ipykernel_19920\\3161752069.py:18: FutureWarning: The frame.append method is deprecated and will be removed from pandas in a future version. Use pandas.concat instead.\n",
      "  df = df.append(new_row, ignore_index=True)\n",
      "C:\\Users\\mahsh\\AppData\\Local\\Temp\\ipykernel_19920\\3161752069.py:18: FutureWarning: The frame.append method is deprecated and will be removed from pandas in a future version. Use pandas.concat instead.\n",
      "  df = df.append(new_row, ignore_index=True)\n",
      "C:\\Users\\mahsh\\AppData\\Local\\Temp\\ipykernel_19920\\3161752069.py:18: FutureWarning: The frame.append method is deprecated and will be removed from pandas in a future version. Use pandas.concat instead.\n",
      "  df = df.append(new_row, ignore_index=True)\n",
      "C:\\Users\\mahsh\\AppData\\Local\\Temp\\ipykernel_19920\\3161752069.py:18: FutureWarning: The frame.append method is deprecated and will be removed from pandas in a future version. Use pandas.concat instead.\n",
      "  df = df.append(new_row, ignore_index=True)\n",
      "C:\\Users\\mahsh\\AppData\\Local\\Temp\\ipykernel_19920\\3161752069.py:18: FutureWarning: The frame.append method is deprecated and will be removed from pandas in a future version. Use pandas.concat instead.\n",
      "  df = df.append(new_row, ignore_index=True)\n"
     ]
    },
    {
     "name": "stdout",
     "output_type": "stream",
     "text": [
      "SanFrancisco_11052019_CityAttorney.csv  threw an exception\n"
     ]
    },
    {
     "name": "stderr",
     "output_type": "stream",
     "text": [
      "C:\\Users\\mahsh\\AppData\\Local\\Temp\\ipykernel_19920\\3161752069.py:18: FutureWarning: The frame.append method is deprecated and will be removed from pandas in a future version. Use pandas.concat instead.\n",
      "  df = df.append(new_row, ignore_index=True)\n",
      "C:\\Users\\mahsh\\AppData\\Local\\Temp\\ipykernel_19920\\3161752069.py:18: FutureWarning: The frame.append method is deprecated and will be removed from pandas in a future version. Use pandas.concat instead.\n",
      "  df = df.append(new_row, ignore_index=True)\n",
      "C:\\Users\\mahsh\\AppData\\Local\\Temp\\ipykernel_19920\\3161752069.py:18: FutureWarning: The frame.append method is deprecated and will be removed from pandas in a future version. Use pandas.concat instead.\n",
      "  df = df.append(new_row, ignore_index=True)\n"
     ]
    },
    {
     "name": "stdout",
     "output_type": "stream",
     "text": [
      "SanFrancisco_11052019_PublicDefender.csv  threw an exception\n",
      "SanFrancisco_11052019_Sheriff.csv  threw an exception\n",
      "SanFrancisco_11052019_Treasurer.csv  threw an exception\n"
     ]
    },
    {
     "name": "stderr",
     "output_type": "stream",
     "text": [
      "C:\\Users\\mahsh\\AppData\\Local\\Temp\\ipykernel_19920\\3161752069.py:18: FutureWarning: The frame.append method is deprecated and will be removed from pandas in a future version. Use pandas.concat instead.\n",
      "  df = df.append(new_row, ignore_index=True)\n",
      "C:\\Users\\mahsh\\AppData\\Local\\Temp\\ipykernel_19920\\3161752069.py:18: FutureWarning: The frame.append method is deprecated and will be removed from pandas in a future version. Use pandas.concat instead.\n",
      "  df = df.append(new_row, ignore_index=True)\n",
      "C:\\Users\\mahsh\\AppData\\Local\\Temp\\ipykernel_19920\\3161752069.py:18: FutureWarning: The frame.append method is deprecated and will be removed from pandas in a future version. Use pandas.concat instead.\n",
      "  df = df.append(new_row, ignore_index=True)\n",
      "C:\\Users\\mahsh\\AppData\\Local\\Temp\\ipykernel_19920\\3161752069.py:18: FutureWarning: The frame.append method is deprecated and will be removed from pandas in a future version. Use pandas.concat instead.\n",
      "  df = df.append(new_row, ignore_index=True)\n",
      "C:\\Users\\mahsh\\AppData\\Local\\Temp\\ipykernel_19920\\3161752069.py:18: FutureWarning: The frame.append method is deprecated and will be removed from pandas in a future version. Use pandas.concat instead.\n",
      "  df = df.append(new_row, ignore_index=True)\n",
      "C:\\Users\\mahsh\\AppData\\Local\\Temp\\ipykernel_19920\\3161752069.py:18: FutureWarning: The frame.append method is deprecated and will be removed from pandas in a future version. Use pandas.concat instead.\n",
      "  df = df.append(new_row, ignore_index=True)\n",
      "C:\\Users\\mahsh\\AppData\\Local\\Temp\\ipykernel_19920\\3161752069.py:18: FutureWarning: The frame.append method is deprecated and will be removed from pandas in a future version. Use pandas.concat instead.\n",
      "  df = df.append(new_row, ignore_index=True)\n",
      "C:\\Users\\mahsh\\AppData\\Local\\Temp\\ipykernel_19920\\3161752069.py:18: FutureWarning: The frame.append method is deprecated and will be removed from pandas in a future version. Use pandas.concat instead.\n",
      "  df = df.append(new_row, ignore_index=True)\n",
      "C:\\Users\\mahsh\\AppData\\Local\\Temp\\ipykernel_19920\\3161752069.py:18: FutureWarning: The frame.append method is deprecated and will be removed from pandas in a future version. Use pandas.concat instead.\n",
      "  df = df.append(new_row, ignore_index=True)\n"
     ]
    },
    {
     "name": "stdout",
     "output_type": "stream",
     "text": [
      "SanFrancisco_11062018_PublicDefender.csv  threw an exception\n"
     ]
    },
    {
     "name": "stderr",
     "output_type": "stream",
     "text": [
      "C:\\Users\\mahsh\\AppData\\Local\\Temp\\ipykernel_19920\\3161752069.py:18: FutureWarning: The frame.append method is deprecated and will be removed from pandas in a future version. Use pandas.concat instead.\n",
      "  df = df.append(new_row, ignore_index=True)\n",
      "C:\\Users\\mahsh\\AppData\\Local\\Temp\\ipykernel_19920\\3161752069.py:18: FutureWarning: The frame.append method is deprecated and will be removed from pandas in a future version. Use pandas.concat instead.\n",
      "  df = df.append(new_row, ignore_index=True)\n",
      "C:\\Users\\mahsh\\AppData\\Local\\Temp\\ipykernel_19920\\3161752069.py:18: FutureWarning: The frame.append method is deprecated and will be removed from pandas in a future version. Use pandas.concat instead.\n",
      "  df = df.append(new_row, ignore_index=True)\n",
      "C:\\Users\\mahsh\\AppData\\Local\\Temp\\ipykernel_19920\\3161752069.py:18: FutureWarning: The frame.append method is deprecated and will be removed from pandas in a future version. Use pandas.concat instead.\n",
      "  df = df.append(new_row, ignore_index=True)\n",
      "C:\\Users\\mahsh\\AppData\\Local\\Temp\\ipykernel_19920\\3161752069.py:18: FutureWarning: The frame.append method is deprecated and will be removed from pandas in a future version. Use pandas.concat instead.\n",
      "  df = df.append(new_row, ignore_index=True)\n",
      "C:\\Users\\mahsh\\AppData\\Local\\Temp\\ipykernel_19920\\3161752069.py:18: FutureWarning: The frame.append method is deprecated and will be removed from pandas in a future version. Use pandas.concat instead.\n",
      "  df = df.append(new_row, ignore_index=True)\n",
      "C:\\Users\\mahsh\\AppData\\Local\\Temp\\ipykernel_19920\\3161752069.py:18: FutureWarning: The frame.append method is deprecated and will be removed from pandas in a future version. Use pandas.concat instead.\n",
      "  df = df.append(new_row, ignore_index=True)\n",
      "C:\\Users\\mahsh\\AppData\\Local\\Temp\\ipykernel_19920\\3161752069.py:18: FutureWarning: The frame.append method is deprecated and will be removed from pandas in a future version. Use pandas.concat instead.\n",
      "  df = df.append(new_row, ignore_index=True)\n",
      "C:\\Users\\mahsh\\AppData\\Local\\Temp\\ipykernel_19920\\3161752069.py:18: FutureWarning: The frame.append method is deprecated and will be removed from pandas in a future version. Use pandas.concat instead.\n",
      "  df = df.append(new_row, ignore_index=True)\n",
      "C:\\Users\\mahsh\\AppData\\Local\\Temp\\ipykernel_19920\\3161752069.py:18: FutureWarning: The frame.append method is deprecated and will be removed from pandas in a future version. Use pandas.concat instead.\n",
      "  df = df.append(new_row, ignore_index=True)\n",
      "C:\\Users\\mahsh\\AppData\\Local\\Temp\\ipykernel_19920\\3161752069.py:18: FutureWarning: The frame.append method is deprecated and will be removed from pandas in a future version. Use pandas.concat instead.\n",
      "  df = df.append(new_row, ignore_index=True)\n",
      "C:\\Users\\mahsh\\AppData\\Local\\Temp\\ipykernel_19920\\3161752069.py:18: FutureWarning: The frame.append method is deprecated and will be removed from pandas in a future version. Use pandas.concat instead.\n",
      "  df = df.append(new_row, ignore_index=True)\n",
      "C:\\Users\\mahsh\\AppData\\Local\\Temp\\ipykernel_19920\\3161752069.py:18: FutureWarning: The frame.append method is deprecated and will be removed from pandas in a future version. Use pandas.concat instead.\n",
      "  df = df.append(new_row, ignore_index=True)\n",
      "C:\\Users\\mahsh\\AppData\\Local\\Temp\\ipykernel_19920\\3161752069.py:18: FutureWarning: The frame.append method is deprecated and will be removed from pandas in a future version. Use pandas.concat instead.\n",
      "  df = df.append(new_row, ignore_index=True)\n",
      "C:\\Users\\mahsh\\AppData\\Local\\Temp\\ipykernel_19920\\3161752069.py:18: FutureWarning: The frame.append method is deprecated and will be removed from pandas in a future version. Use pandas.concat instead.\n",
      "  df = df.append(new_row, ignore_index=True)\n",
      "C:\\Users\\mahsh\\AppData\\Local\\Temp\\ipykernel_19920\\3161752069.py:18: FutureWarning: The frame.append method is deprecated and will be removed from pandas in a future version. Use pandas.concat instead.\n",
      "  df = df.append(new_row, ignore_index=True)\n"
     ]
    },
    {
     "name": "stdout",
     "output_type": "stream",
     "text": [
      "SanFrancisco_11082022_AssessorRecorder.csv  threw an exception\n"
     ]
    },
    {
     "name": "stderr",
     "output_type": "stream",
     "text": [
      "C:\\Users\\mahsh\\AppData\\Local\\Temp\\ipykernel_19920\\3161752069.py:18: FutureWarning: The frame.append method is deprecated and will be removed from pandas in a future version. Use pandas.concat instead.\n",
      "  df = df.append(new_row, ignore_index=True)\n"
     ]
    },
    {
     "name": "stdout",
     "output_type": "stream",
     "text": [
      "SanFrancisco_11082022_BoardofSupervisorsD2.csv  threw an exception\n"
     ]
    },
    {
     "name": "stderr",
     "output_type": "stream",
     "text": [
      "C:\\Users\\mahsh\\AppData\\Local\\Temp\\ipykernel_19920\\3161752069.py:18: FutureWarning: The frame.append method is deprecated and will be removed from pandas in a future version. Use pandas.concat instead.\n",
      "  df = df.append(new_row, ignore_index=True)\n",
      "C:\\Users\\mahsh\\AppData\\Local\\Temp\\ipykernel_19920\\3161752069.py:18: FutureWarning: The frame.append method is deprecated and will be removed from pandas in a future version. Use pandas.concat instead.\n",
      "  df = df.append(new_row, ignore_index=True)\n",
      "C:\\Users\\mahsh\\AppData\\Local\\Temp\\ipykernel_19920\\3161752069.py:18: FutureWarning: The frame.append method is deprecated and will be removed from pandas in a future version. Use pandas.concat instead.\n",
      "  df = df.append(new_row, ignore_index=True)\n",
      "C:\\Users\\mahsh\\AppData\\Local\\Temp\\ipykernel_19920\\3161752069.py:18: FutureWarning: The frame.append method is deprecated and will be removed from pandas in a future version. Use pandas.concat instead.\n",
      "  df = df.append(new_row, ignore_index=True)\n",
      "C:\\Users\\mahsh\\AppData\\Local\\Temp\\ipykernel_19920\\3161752069.py:18: FutureWarning: The frame.append method is deprecated and will be removed from pandas in a future version. Use pandas.concat instead.\n",
      "  df = df.append(new_row, ignore_index=True)\n",
      "C:\\Users\\mahsh\\AppData\\Local\\Temp\\ipykernel_19920\\3161752069.py:18: FutureWarning: The frame.append method is deprecated and will be removed from pandas in a future version. Use pandas.concat instead.\n",
      "  df = df.append(new_row, ignore_index=True)\n"
     ]
    },
    {
     "name": "stdout",
     "output_type": "stream",
     "text": [
      "SanLeandro_11022010_CountyCouncilDistrict3.csv  threw an exception\n"
     ]
    },
    {
     "name": "stderr",
     "output_type": "stream",
     "text": [
      "C:\\Users\\mahsh\\AppData\\Local\\Temp\\ipykernel_19920\\3161752069.py:18: FutureWarning: The frame.append method is deprecated and will be removed from pandas in a future version. Use pandas.concat instead.\n",
      "  df = df.append(new_row, ignore_index=True)\n",
      "C:\\Users\\mahsh\\AppData\\Local\\Temp\\ipykernel_19920\\3161752069.py:18: FutureWarning: The frame.append method is deprecated and will be removed from pandas in a future version. Use pandas.concat instead.\n",
      "  df = df.append(new_row, ignore_index=True)\n",
      "C:\\Users\\mahsh\\AppData\\Local\\Temp\\ipykernel_19920\\3161752069.py:18: FutureWarning: The frame.append method is deprecated and will be removed from pandas in a future version. Use pandas.concat instead.\n",
      "  df = df.append(new_row, ignore_index=True)\n",
      "C:\\Users\\mahsh\\AppData\\Local\\Temp\\ipykernel_19920\\3161752069.py:18: FutureWarning: The frame.append method is deprecated and will be removed from pandas in a future version. Use pandas.concat instead.\n",
      "  df = df.append(new_row, ignore_index=True)\n"
     ]
    },
    {
     "name": "stdout",
     "output_type": "stream",
     "text": [
      "SanLeandro_11032020_MemberCityCouncilDist6SanLeandroRCV.csv  threw an exception\n"
     ]
    },
    {
     "name": "stderr",
     "output_type": "stream",
     "text": [
      "C:\\Users\\mahsh\\AppData\\Local\\Temp\\ipykernel_19920\\3161752069.py:18: FutureWarning: The frame.append method is deprecated and will be removed from pandas in a future version. Use pandas.concat instead.\n",
      "  df = df.append(new_row, ignore_index=True)\n",
      "C:\\Users\\mahsh\\AppData\\Local\\Temp\\ipykernel_19920\\3161752069.py:18: FutureWarning: The frame.append method is deprecated and will be removed from pandas in a future version. Use pandas.concat instead.\n",
      "  df = df.append(new_row, ignore_index=True)\n",
      "C:\\Users\\mahsh\\AppData\\Local\\Temp\\ipykernel_19920\\3161752069.py:18: FutureWarning: The frame.append method is deprecated and will be removed from pandas in a future version. Use pandas.concat instead.\n",
      "  df = df.append(new_row, ignore_index=True)\n",
      "C:\\Users\\mahsh\\AppData\\Local\\Temp\\ipykernel_19920\\3161752069.py:18: FutureWarning: The frame.append method is deprecated and will be removed from pandas in a future version. Use pandas.concat instead.\n",
      "  df = df.append(new_row, ignore_index=True)\n",
      "C:\\Users\\mahsh\\AppData\\Local\\Temp\\ipykernel_19920\\3161752069.py:18: FutureWarning: The frame.append method is deprecated and will be removed from pandas in a future version. Use pandas.concat instead.\n",
      "  df = df.append(new_row, ignore_index=True)\n",
      "C:\\Users\\mahsh\\AppData\\Local\\Temp\\ipykernel_19920\\3161752069.py:18: FutureWarning: The frame.append method is deprecated and will be removed from pandas in a future version. Use pandas.concat instead.\n",
      "  df = df.append(new_row, ignore_index=True)\n",
      "C:\\Users\\mahsh\\AppData\\Local\\Temp\\ipykernel_19920\\3161752069.py:18: FutureWarning: The frame.append method is deprecated and will be removed from pandas in a future version. Use pandas.concat instead.\n",
      "  df = df.append(new_row, ignore_index=True)\n",
      "C:\\Users\\mahsh\\AppData\\Local\\Temp\\ipykernel_19920\\3161752069.py:18: FutureWarning: The frame.append method is deprecated and will be removed from pandas in a future version. Use pandas.concat instead.\n",
      "  df = df.append(new_row, ignore_index=True)\n",
      "C:\\Users\\mahsh\\AppData\\Local\\Temp\\ipykernel_19920\\3161752069.py:18: FutureWarning: The frame.append method is deprecated and will be removed from pandas in a future version. Use pandas.concat instead.\n",
      "  df = df.append(new_row, ignore_index=True)\n",
      "C:\\Users\\mahsh\\AppData\\Local\\Temp\\ipykernel_19920\\3161752069.py:18: FutureWarning: The frame.append method is deprecated and will be removed from pandas in a future version. Use pandas.concat instead.\n",
      "  df = df.append(new_row, ignore_index=True)\n",
      "C:\\Users\\mahsh\\AppData\\Local\\Temp\\ipykernel_19920\\3161752069.py:18: FutureWarning: The frame.append method is deprecated and will be removed from pandas in a future version. Use pandas.concat instead.\n",
      "  df = df.append(new_row, ignore_index=True)\n",
      "C:\\Users\\mahsh\\AppData\\Local\\Temp\\ipykernel_19920\\3161752069.py:18: FutureWarning: The frame.append method is deprecated and will be removed from pandas in a future version. Use pandas.concat instead.\n",
      "  df = df.append(new_row, ignore_index=True)\n"
     ]
    },
    {
     "name": "stdout",
     "output_type": "stream",
     "text": [
      "SanLeandro_11082016_CountyCouncilDistrict4.csv  threw an exception\n",
      "SanLeandro_11082016_CountyCouncilDistrict6.csv  threw an exception\n"
     ]
    },
    {
     "name": "stderr",
     "output_type": "stream",
     "text": [
      "C:\\Users\\mahsh\\AppData\\Local\\Temp\\ipykernel_19920\\3161752069.py:18: FutureWarning: The frame.append method is deprecated and will be removed from pandas in a future version. Use pandas.concat instead.\n",
      "  df = df.append(new_row, ignore_index=True)\n",
      "C:\\Users\\mahsh\\AppData\\Local\\Temp\\ipykernel_19920\\3161752069.py:18: FutureWarning: The frame.append method is deprecated and will be removed from pandas in a future version. Use pandas.concat instead.\n",
      "  df = df.append(new_row, ignore_index=True)\n",
      "C:\\Users\\mahsh\\AppData\\Local\\Temp\\ipykernel_19920\\3161752069.py:18: FutureWarning: The frame.append method is deprecated and will be removed from pandas in a future version. Use pandas.concat instead.\n",
      "  df = df.append(new_row, ignore_index=True)\n",
      "C:\\Users\\mahsh\\AppData\\Local\\Temp\\ipykernel_19920\\3161752069.py:18: FutureWarning: The frame.append method is deprecated and will be removed from pandas in a future version. Use pandas.concat instead.\n",
      "  df = df.append(new_row, ignore_index=True)\n",
      "C:\\Users\\mahsh\\AppData\\Local\\Temp\\ipykernel_19920\\3161752069.py:18: FutureWarning: The frame.append method is deprecated and will be removed from pandas in a future version. Use pandas.concat instead.\n",
      "  df = df.append(new_row, ignore_index=True)\n"
     ]
    },
    {
     "name": "stdout",
     "output_type": "stream",
     "text": [
      "StLouisPark_11022021_CityCouncilWard1.csv  threw an exception\n"
     ]
    },
    {
     "name": "stderr",
     "output_type": "stream",
     "text": [
      "C:\\Users\\mahsh\\AppData\\Local\\Temp\\ipykernel_19920\\3161752069.py:18: FutureWarning: The frame.append method is deprecated and will be removed from pandas in a future version. Use pandas.concat instead.\n",
      "  df = df.append(new_row, ignore_index=True)\n",
      "C:\\Users\\mahsh\\AppData\\Local\\Temp\\ipykernel_19920\\3161752069.py:18: FutureWarning: The frame.append method is deprecated and will be removed from pandas in a future version. Use pandas.concat instead.\n",
      "  df = df.append(new_row, ignore_index=True)\n"
     ]
    },
    {
     "name": "stdout",
     "output_type": "stream",
     "text": [
      "StLouisPark_11022021_CityCouncilWard4.csv  threw an exception\n"
     ]
    },
    {
     "name": "stderr",
     "output_type": "stream",
     "text": [
      "C:\\Users\\mahsh\\AppData\\Local\\Temp\\ipykernel_19920\\3161752069.py:18: FutureWarning: The frame.append method is deprecated and will be removed from pandas in a future version. Use pandas.concat instead.\n",
      "  df = df.append(new_row, ignore_index=True)\n"
     ]
    },
    {
     "name": "stdout",
     "output_type": "stream",
     "text": [
      "TakomaPark_11082022_CityCouncilWard2.csv  threw an exception\n"
     ]
    },
    {
     "name": "stderr",
     "output_type": "stream",
     "text": [
      "C:\\Users\\mahsh\\AppData\\Local\\Temp\\ipykernel_19920\\3161752069.py:18: FutureWarning: The frame.append method is deprecated and will be removed from pandas in a future version. Use pandas.concat instead.\n",
      "  df = df.append(new_row, ignore_index=True)\n"
     ]
    },
    {
     "name": "stdout",
     "output_type": "stream",
     "text": [
      "TakomaPark_11082022_CityCouncilWard4.csv  threw an exception\n"
     ]
    },
    {
     "name": "stderr",
     "output_type": "stream",
     "text": [
      "C:\\Users\\mahsh\\AppData\\Local\\Temp\\ipykernel_19920\\3161752069.py:18: FutureWarning: The frame.append method is deprecated and will be removed from pandas in a future version. Use pandas.concat instead.\n",
      "  df = df.append(new_row, ignore_index=True)\n",
      "C:\\Users\\mahsh\\AppData\\Local\\Temp\\ipykernel_19920\\3161752069.py:18: FutureWarning: The frame.append method is deprecated and will be removed from pandas in a future version. Use pandas.concat instead.\n",
      "  df = df.append(new_row, ignore_index=True)\n",
      "C:\\Users\\mahsh\\AppData\\Local\\Temp\\ipykernel_19920\\3161752069.py:18: FutureWarning: The frame.append method is deprecated and will be removed from pandas in a future version. Use pandas.concat instead.\n",
      "  df = df.append(new_row, ignore_index=True)\n",
      "C:\\Users\\mahsh\\AppData\\Local\\Temp\\ipykernel_19920\\3161752069.py:18: FutureWarning: The frame.append method is deprecated and will be removed from pandas in a future version. Use pandas.concat instead.\n",
      "  df = df.append(new_row, ignore_index=True)\n",
      "C:\\Users\\mahsh\\AppData\\Local\\Temp\\ipykernel_19920\\3161752069.py:18: FutureWarning: The frame.append method is deprecated and will be removed from pandas in a future version. Use pandas.concat instead.\n",
      "  df = df.append(new_row, ignore_index=True)\n",
      "C:\\Users\\mahsh\\AppData\\Local\\Temp\\ipykernel_19920\\3161752069.py:18: FutureWarning: The frame.append method is deprecated and will be removed from pandas in a future version. Use pandas.concat instead.\n",
      "  df = df.append(new_row, ignore_index=True)\n",
      "C:\\Users\\mahsh\\AppData\\Local\\Temp\\ipykernel_19920\\3161752069.py:18: FutureWarning: The frame.append method is deprecated and will be removed from pandas in a future version. Use pandas.concat instead.\n",
      "  df = df.append(new_row, ignore_index=True)\n"
     ]
    }
   ],
   "source": [
    "#winners = pd.DataFrame(columns=[\"filename\", \"diff\", \"interval gamma\", \"#candidates\",\"IRV1\", \"Condorcet1\", \"Plurality1\", \"Approval1\" \"IRV2\", \"Condorcet2\", \"Plurality2\", \"Approval2\"])\n",
    "directory = \"dataverse_files\"\n",
    "count = 0\n",
    "df = pd.DataFrame(columns=[\"filename\", \"null_gamma\", \"permissive_gamma\", \"strict_gamma\"])\n",
    "strict = pd.read_csv(\"strict.csv\")\n",
    "permissive = pd.read_csv(\"permissive.csv\")\n",
    "for filename in os.listdir(directory):\n",
    "    try:\n",
    "        strict_gamma = strict.loc[strict['filename']==filename, 'gamma'].values[0]\n",
    "        permissive_gamma = permissive.loc[permissive['filename']==filename, 'gamma'].values[0]\n",
    "        runs = 100\n",
    "        sum_gamma = 0\n",
    "        for i in range(runs):\n",
    "            gamma = get_null_gamma(filename)[1]\n",
    "            sum_gamma += gamma\n",
    "        null_gamma = sum_gamma/runs\n",
    "        new_row = {'filename': filename, 'null_gamma': null_gamma, 'permissive_gamma': permissive_gamma, 'strict_gamma': strict_gamma}\n",
    "        df = df.append(new_row, ignore_index=True)\n",
    "\n",
    "    except:\n",
    "        print(filename, \" threw an exception\")\n"
   ]
  },
  {
   "cell_type": "code",
   "execution_count": null,
   "metadata": {},
   "outputs": [],
   "source": [
    "print(df)"
   ]
  },
  {
   "cell_type": "code",
   "execution_count": 14,
   "metadata": {},
   "outputs": [],
   "source": [
    "df.to_csv(\"gamma_table.csv\")"
   ]
  },
  {
   "cell_type": "code",
   "execution_count": 19,
   "metadata": {},
   "outputs": [],
   "source": [
    "df = pd.read_csv(\"gamma_table.csv\")\n",
    "\n",
    "files = df[\"filename\"].values\n",
    "for file in files:\n",
    "    data = pd.read_csv(os.path.join(\"null_elections\", file))\n",
    "    candidates = data[\"candidate\"].values\n",
    "    df.loc[df[\"filename\"] == file, \"#candidates\"] = len(candidates)\n",
    "\n",
    "df.to_csv(\"gamma_table2.csv\")\n",
    "                       "
   ]
  },
  {
   "cell_type": "code",
   "execution_count": 20,
   "metadata": {},
   "outputs": [
    {
     "name": "stdout",
     "output_type": "stream",
     "text": [
      "    # of candidates  t-statistic       p-value\n",
      "0               2.0          NaN           NaN\n",
      "1               3.0   -11.202536  2.332150e-19\n",
      "2               4.0    -5.675843  2.996355e-07\n",
      "3               5.0    -3.273072  2.310378e-03\n",
      "4               6.0     0.321348  7.511233e-01\n",
      "5               7.0    -1.406200  1.750120e-01\n",
      "6               8.0    -1.501066  1.555523e-01\n",
      "7               9.0     0.212776  8.375655e-01\n",
      "8              10.0    -0.967499  3.777299e-01\n",
      "9              11.0     1.013899  3.571532e-01\n",
      "10             12.0    -1.578187  1.896624e-01\n",
      "11             13.0     0.004712  9.966680e-01\n",
      "12             14.0          NaN           NaN\n",
      "13             15.0          NaN           NaN\n",
      "14             16.0    -4.119041  1.516219e-01\n",
      "15             18.0          NaN           NaN\n",
      "16             21.0          NaN           NaN\n",
      "17             22.0          NaN           NaN\n",
      "18             35.0          NaN           NaN\n",
      "19             66.0          NaN           NaN\n"
     ]
    },
    {
     "name": "stderr",
     "output_type": "stream",
     "text": [
      "c:\\Users\\mahsh\\anaconda3\\lib\\site-packages\\numpy\\core\\fromnumeric.py:3723: RuntimeWarning: Degrees of freedom <= 0 for slice\n",
      "  return _methods._var(a, axis=axis, dtype=dtype, out=out, ddof=ddof,\n",
      "c:\\Users\\mahsh\\anaconda3\\lib\\site-packages\\numpy\\core\\_methods.py:254: RuntimeWarning: invalid value encountered in double_scalars\n",
      "  ret = ret.dtype.type(ret / rcount)\n"
     ]
    }
   ],
   "source": [
    "import pandas as pd\n",
    "from scipy.stats import ttest_rel\n",
    "\n",
    "# Step 1: Read the CSV file\n",
    "file_path = \"gamma_table.csv\"\n",
    "data = pd.read_csv(file_path)\n",
    "\n",
    "# Step 2: Group by number of candidates\n",
    "groups = data.groupby('#candidates')\n",
    "\n",
    "# Step 3 & 4: Perform paired t-test and collect results\n",
    "results = []\n",
    "\n",
    "for name, group in groups:\n",
    "    gamma1 = group['null_gamma']\n",
    "    gamma2 = group['permissive_gamma']\n",
    "    t_statistic, p_value = ttest_rel(gamma1, gamma2)\n",
    "    results.append({\n",
    "        '# of candidates': name,\n",
    "        't-statistic': t_statistic,\n",
    "        'p-value': p_value\n",
    "    })\n",
    "\n",
    "# Convert results to DataFrame\n",
    "results_df = pd.DataFrame(results)\n",
    "\n",
    "# Print or save results\n",
    "print(results_df)\n"
   ]
  },
  {
   "cell_type": "code",
   "execution_count": 21,
   "metadata": {},
   "outputs": [
    {
     "data": {
      "image/png": "[encoded data removed]",
      "text/plain": [
       "<Figure size 720x432 with 1 Axes>"
      ]
     },
     "metadata": {
      "needs_background": "light"
     },
     "output_type": "display_data"
    }
   ],
   "source": [
    "import matplotlib.pyplot as plt\n",
    "\n",
    "# Plotting\n",
    "plt.figure(figsize=(10, 6))\n",
    "plt.bar(results_df['# of candidates'], results_df['p-value'], color='skyblue')\n",
    "plt.xlabel('# of Candidates')\n",
    "plt.ylabel('p-value')\n",
    "plt.title('Paired t-test p-values for Different # of Candidates')\n",
    "plt.axhline(y=0.05, color='red', linestyle='--', label='Significance Level (0.05)')\n",
    "plt.legend()\n",
    "plt.show()\n"
   ]
  },
  {
   "cell_type": "code",
   "execution_count": 25,
   "metadata": {},
   "outputs": [
    {
     "data": {
      "image/png": "[encoded data removed]",
      "text/plain": [
       "<Figure size 864x576 with 1 Axes>"
      ]
     },
     "metadata": {
      "needs_background": "light"
     },
     "output_type": "display_data"
    }
   ],
   "source": [
    "import seaborn as sns\n",
    "import matplotlib.pyplot as plt\n",
    "\n",
    "# Plotting\n",
    "plt.figure(figsize=(12, 8))\n",
    "sns.boxplot(x=data['#candidates'], y=data['null_gamma'], color='skyblue', width=0.3, fliersize=5)\n",
    "sns.boxplot(x=data['#candidates'], y=data['permissive_gamma'], color='salmon', width=0.3, fliersize=5)\n",
    "plt.xlabel('# Candidates')\n",
    "plt.ylabel('Gamma Values')\n",
    "plt.title('Box Plot of Null Gamma and Permissive Gamma for Different # Candidates')\n",
    "plt.legend(labels=['Null Gamma', 'Permissive Gamma'])\n",
    "plt.xlim(2, 15)\n",
    "plt.show()\n"
   ]
  },
  {
   "cell_type": "code",
   "execution_count": 31,
   "metadata": {},
   "outputs": [
    {
     "data": {
      "image/png": "[encoded data removed]",
      "text/plain": [
       "<Figure size 864x576 with 1 Axes>"
      ]
     },
     "metadata": {
      "needs_background": "light"
     },
     "output_type": "display_data"
    }
   ],
   "source": [
    "import seaborn as sns\n",
    "import matplotlib.pyplot as plt\n",
    "\n",
    "# Calculate min, max, and mean values for each # of candidates for permissive_gamma\n",
    "permissive_summary_data = data.groupby('#candidates')['permissive_gamma'].agg(['min', 'max', 'mean']).reset_index()\n",
    "\n",
    "# Calculate min, max, and mean values for each # of candidates for null_gamma\n",
    "null_summary_data = data.groupby('#candidates')['null_gamma'].agg(['min', 'max', 'mean']).reset_index()\n",
    "\n",
    "# Plotting\n",
    "plt.figure(figsize=(12, 8))\n",
    "\n",
    "# Plot min, max, and mean for permissive_gamma\n",
    "sns.lineplot(x='#candidates', y='min', data=permissive_summary_data, color='blue', label='Permissive Gamma', marker=None)\n",
    "sns.lineplot(x='#candidates', y='max', data=permissive_summary_data, color='blue', marker=None)\n",
    "sns.lineplot(x='#candidates', y='mean', data=permissive_summary_data, color='blue', marker=None)\n",
    "\n",
    "# Plot min, max, and mean for null_gamma\n",
    "sns.scatterplot(x='#candidates', y='min', data=null_summary_data, color='green', label='Null Gamma', marker='|', s=100)\n",
    "sns.scatterplot(x='#candidates', y='max', data=null_summary_data, color='green', marker='^', s=100)\n",
    "sns.scatterplot(x='#candidates', y='mean', data=null_summary_data, color='green', marker='o', s=100)\n",
    "\n",
    "plt.xlabel('# Candidates')\n",
    "plt.ylabel('Gamma Values')\n",
    "plt.title('Min, Max, and Mean of Permissive Gamma (Blue) and Null Gamma (Green) for Different # Candidates')\n",
    "plt.legend()\n",
    "plt.xlim(2, 15)\n",
    "plt.show()\n"
   ]
  },
  {
   "cell_type": "code",
   "execution_count": null,
   "metadata": {},
   "outputs": [],
   "source": []
  }
 ],
 "metadata": {
  "kernelspec": {
   "display_name": "base",
   "language": "python",
   "name": "python3"
  },
  "language_info": {
   "codemirror_mode": {
    "name": "ipython",
    "version": 3
   },
   "file_extension": ".py",
   "mimetype": "text/x-python",
   "name": "python",
   "nbconvert_exporter": "python",
   "pygments_lexer": "ipython3",
   "version": "3.9.12"
  }
 },
 "nbformat": 4,
 "nbformat_minor": 2
}
