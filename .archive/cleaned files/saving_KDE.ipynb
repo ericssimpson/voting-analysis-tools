{
 "cells": [
  {
   "cell_type": "code",
   "execution_count": 1,
   "metadata": {},
   "outputs": [
    {
     "name": "stderr",
     "output_type": "stream",
     "text": [
      "c:\\Users\\mahsh\\anaconda3\\lib\\site-packages\\pandas\\core\\computation\\expressions.py:21: UserWarning: Pandas requires version '2.8.4' or newer of 'numexpr' (version '2.8.1' currently installed).\n",
      "  from pandas.core.computation.check import NUMEXPR_INSTALLED\n",
      "c:\\Users\\mahsh\\anaconda3\\lib\\site-packages\\pandas\\core\\arrays\\masked.py:60: UserWarning: Pandas requires version '1.3.6' or newer of 'bottleneck' (version '1.3.4' currently installed).\n",
      "  from pandas.core import (\n",
      "c:\\Users\\mahsh\\anaconda3\\lib\\site-packages\\scipy\\__init__.py:146: UserWarning: A NumPy version >=1.16.5 and <1.23.0 is required for this version of SciPy (detected version 1.23.0\n",
      "  warnings.warn(f\"A NumPy version >={np_minversion} and <{np_maxversion}\"\n"
     ]
    }
   ],
   "source": [
    "import seaborn as sns\n",
    "import os\n",
    "from scipy.stats import kurtosis, skew\n",
    "import pickle\n",
    "\n",
    "from rcv_distribution import *\n",
    "from MDS_analysis import *\n",
    "from voting_rules import *\n",
    "import random\n",
    "from itertools import permutations\n",
    "from collections import defaultdict\n",
    "from collections import Counter"
   ]
  },
  {
   "cell_type": "code",
   "execution_count": null,
   "metadata": {},
   "outputs": [],
   "source": [
    "directory = \"dataverse_files\"\n",
    "table = pd.read_csv(\"diff.csv\")\n",
    "for filename in os.listdir(directory):\n",
    "    try:\n",
    "        csv = os.path.join(directory, filename)\n",
    "        ballots, candidates = parse_election_data(csv)\n",
    "\n",
    "        # Perform the RCV analysis\n",
    "        test = perform_rcv_analysis(ballots, candidates, n_init = 100, max_itr = 1000, n_runs=1000, metric=False)\n",
    "        mds_1d_coordinates, mds_2d_coordinates, most_common_order, order_frequencies, candidate_names = test\n",
    "\n",
    "        # Print the normalized distances between candidates and plot the MDS analysis\n",
    "        normalized_distances_original = get_distances_normalized(most_common_order, mds_1d_coordinates, candidate_names)\n",
    "\n",
    "        consistent_ballots, gamma = get_permissive_gamma(ballots, normalized_distances_original)\n",
    "        table.loc[table[\"filename\"]==filename, \"gamma_n_init\"] = gamma\n",
    "\n",
    "        plot_KDE(ballots, normalized_distances_original, filename, ignore=False, save=True)\n",
    "\n",
    "        freqs = get_frequency(ballots, candidates)\n",
    "        ignore = [] \n",
    "        for c in freqs:\n",
    "            if freqs[c] < 0.02:\n",
    "                ignore.append(c)\n",
    "        if len(ignore) > 0:\n",
    "            ballots, candidates = parse_election_data(os.path.join(\"dataverse_files\", filename), ignore_values=ignore)\n",
    "            # Perform the RCV analysis\n",
    "            test = perform_rcv_analysis(ballots, candidates, n_init = 100, max_itr = 1000, n_runs=1000, metric=False)\n",
    "            mds_1d_coordinates, mds_2d_coordinates, most_common_order, order_frequencies, candidate_names = test\n",
    "\n",
    "            # Get the normalized distances between candidates and plot the MDS analysis\n",
    "            normalized_distances_ignored = get_distances_normalized(most_common_order, mds_1d_coordinates, candidate_names)\n",
    "\n",
    "            consistent_ballots, gamma = get_permissive_gamma(ballots, normalized_distances_ignored)\n",
    "\n",
    "            table.loc[table[\"filename\"]==filename, \"gamma_ignored\"] = gamma\n",
    "\n",
    "            plot_KDE(ballots, normalized_distances_original, filename, ignore=True, save=True)\n",
    "    \n",
    "    except Exception as e:\n",
    "        # Print the summary of the error\n",
    "        print(f\"An error occurred: {e}\")\n",
    "\n",
    "table.to_csv(\"diff2.csv\")\n"
   ]
  },
  {
   "cell_type": "code",
   "execution_count": 3,
   "metadata": {},
   "outputs": [],
   "source": [
    "def save_data(filename, data_dict, data_list, save_folder):\n",
    "    # Extract the base filename without extension\n",
    "    base_filename = os.path.splitext(os.path.basename(filename))[0]\n",
    "\n",
    "    # Create the save paths for dictionary and list\n",
    "    dict_save_path = os.path.join(save_folder, f\"{base_filename}_ballots.pkl\")\n",
    "    list_save_path = os.path.join(save_folder, f\"{base_filename}_candidates.pkl\")\n",
    "\n",
    "    # Save the dictionary\n",
    "    with open(dict_save_path, 'wb') as dict_file:\n",
    "        pickle.dump(data_dict, dict_file)\n",
    "\n",
    "    # Save the list\n",
    "    with open(list_save_path, 'wb') as list_file:\n",
    "        pickle.dump(data_list, list_file)"
   ]
  },
  {
   "cell_type": "code",
   "execution_count": 3,
   "metadata": {},
   "outputs": [],
   "source": [
    "def load_data(filename, save_folder):\n",
    "    # Extract the base filename without extension\n",
    "    base_filename = os.path.splitext(os.path.basename(filename))[0]\n",
    "\n",
    "    # Create the save paths for dictionary and list\n",
    "    dict_load_path = os.path.join(save_folder, f\"{base_filename}_dict.pkl\")\n",
    "    list_load_path = os.path.join(save_folder, f\"{base_filename}_list.pkl\")\n",
    "\n",
    "    # Load the dictionary\n",
    "    with open(dict_load_path, 'rb') as dict_file:\n",
    "        data_dict = pickle.load(dict_file)\n",
    "\n",
    "    # Load the list\n",
    "    with open(list_load_path, 'rb') as list_file:\n",
    "        data_list = pickle.load(list_file)\n",
    "\n",
    "    return data_dict, data_list\n",
    "\n"
   ]
  },
  {
   "cell_type": "code",
   "execution_count": 4,
   "metadata": {},
   "outputs": [
    {
     "name": "stdout",
     "output_type": "stream",
     "text": [
      "Alaska_11082022_HouseDistrict3.csv   [Errno 2] No such file or directory: 'null_elections/Alaska_11082022_HouseDistrict3.csv'\n",
      "Alaska_11082022_HouseDistrict33.csv   [Errno 2] No such file or directory: 'null_elections/Alaska_11082022_HouseDistrict33.csv'\n",
      "Alaska_11082022_HouseDistrict37.csv   [Errno 2] No such file or directory: 'null_elections/Alaska_11082022_HouseDistrict37.csv'\n",
      "Alaska_11082022_HouseDistrict38.csv   [Errno 2] No such file or directory: 'null_elections/Alaska_11082022_HouseDistrict38.csv'\n",
      "Alaska_11082022_HouseDistrict40.csv   [Errno 2] No such file or directory: 'null_elections/Alaska_11082022_HouseDistrict40.csv'\n",
      "Alaska_11082022_HouseDistrict8.csv   [Errno 2] No such file or directory: 'null_elections/Alaska_11082022_HouseDistrict8.csv'\n",
      "Alaska_11082022_SenateDistrictB.csv   [Errno 2] No such file or directory: 'null_elections/Alaska_11082022_SenateDistrictB.csv'\n",
      "Berkeley_11022010_CityAuditor.csv   [Errno 2] No such file or directory: 'null_elections/Berkeley_11022010_CityAuditor.csv'\n",
      "Berkeley_11042014_CityAuditor.csv   [Errno 2] No such file or directory: 'null_elections/Berkeley_11042014_CityAuditor.csv'\n",
      "Burlington_03072023_CityCouncilNorthDistrict.csv   [Errno 2] No such file or directory: 'null_elections/Burlington_03072023_CityCouncilNorthDistrict.csv'\n",
      "Minneapolis_11022021_ParkBoardDistrict1.csv   [Errno 2] No such file or directory: 'null_elections/Minneapolis_11022021_ParkBoardDistrict1.csv'\n",
      "Minneapolis_11062009_PRBoardDistrict4.csv   [Errno 2] No such file or directory: 'null_elections/Minneapolis_11062009_PRBoardDistrict4.csv'\n",
      "Minneapolis_11072017_Ward2CityCouncil.csv   [Errno 2] No such file or directory: 'null_elections/Minneapolis_11072017_Ward2CityCouncil.csv'\n",
      "NewYorkCity_06222021_REPBoroughPresidentQueens.csv   '217580'\n",
      "Oakland_11022010_SchoolDirectorDistrict2.csv   [Errno 2] No such file or directory: 'null_elections/Oakland_11022010_SchoolDirectorDistrict2.csv'\n",
      "Oakland_11022010_SchoolDirectorDistrict6.csv   [Errno 2] No such file or directory: 'null_elections/Oakland_11022010_SchoolDirectorDistrict6.csv'\n",
      "Oakland_11062018_SchoolDirectorDistrict2.csv   [Errno 2] No such file or directory: 'null_elections/Oakland_11062018_SchoolDirectorDistrict2.csv'\n",
      "Oakland_11082016_CityAttorney.csv   [Errno 2] No such file or directory: 'null_elections/Oakland_11082016_CityAttorney.csv'\n",
      "Oakland_11082022_CityAuditor.csv   [Errno 2] No such file or directory: 'null_elections/Oakland_11082022_CityAuditor.csv'\n",
      "SanFrancisco_11052019_CityAttorney.csv   [Errno 2] No such file or directory: 'null_elections/SanFrancisco_11052019_CityAttorney.csv'\n",
      "SanFrancisco_11052019_PublicDefender.csv   [Errno 2] No such file or directory: 'null_elections/SanFrancisco_11052019_PublicDefender.csv'\n",
      "SanFrancisco_11052019_Sheriff.csv   [Errno 2] No such file or directory: 'null_elections/SanFrancisco_11052019_Sheriff.csv'\n",
      "SanFrancisco_11052019_Treasurer.csv   [Errno 2] No such file or directory: 'null_elections/SanFrancisco_11052019_Treasurer.csv'\n",
      "SanFrancisco_11062018_PublicDefender.csv   [Errno 2] No such file or directory: 'null_elections/SanFrancisco_11062018_PublicDefender.csv'\n",
      "SanFrancisco_11082022_AssessorRecorder.csv   [Errno 2] No such file or directory: 'null_elections/SanFrancisco_11082022_AssessorRecorder.csv'\n",
      "SanFrancisco_11082022_BoardofSupervisorsD2.csv   [Errno 2] No such file or directory: 'null_elections/SanFrancisco_11082022_BoardofSupervisorsD2.csv'\n",
      "SanLeandro_11022010_CountyCouncilDistrict3.csv   [Errno 2] No such file or directory: 'null_elections/SanLeandro_11022010_CountyCouncilDistrict3.csv'\n",
      "SanLeandro_11032020_MemberCityCouncilDist6SanLeandroRCV.csv   [Errno 2] No such file or directory: 'null_elections/SanLeandro_11032020_MemberCityCouncilDist6SanLeandroRCV.csv'\n",
      "SanLeandro_11082016_CountyCouncilDistrict4.csv   [Errno 2] No such file or directory: 'null_elections/SanLeandro_11082016_CountyCouncilDistrict4.csv'\n",
      "SanLeandro_11082016_CountyCouncilDistrict6.csv   [Errno 2] No such file or directory: 'null_elections/SanLeandro_11082016_CountyCouncilDistrict6.csv'\n",
      "StLouisPark_11022021_CityCouncilWard1.csv   [Errno 2] No such file or directory: 'null_elections/StLouisPark_11022021_CityCouncilWard1.csv'\n",
      "StLouisPark_11022021_CityCouncilWard4.csv   [Errno 2] No such file or directory: 'null_elections/StLouisPark_11022021_CityCouncilWard4.csv'\n",
      "TakomaPark_11082022_CityCouncilWard2.csv   [Errno 2] No such file or directory: 'null_elections/TakomaPark_11082022_CityCouncilWard2.csv'\n",
      "TakomaPark_11082022_CityCouncilWard4.csv   [Errno 2] No such file or directory: 'null_elections/TakomaPark_11082022_CityCouncilWard4.csv'\n"
     ]
    }
   ],
   "source": [
    "directory = \"dataverse_files\"\n",
    "table = pd.read_csv(\"diff.csv\")\n",
    "for file in os.listdir(directory):\n",
    "    try:\n",
    "        csv = os.path.join(directory, file)\n",
    "        ballots, candidates = parse_election_data(csv)\n",
    "        filename = file[0:-4]\n",
    "        save_data(filename, ballots, candidates, \"saved_ballots_and_candidates\")\n",
    "\n",
    "        candidate_positions_file = pd.read_csv(\"null_elections/\" + filename + \".csv\")\n",
    "        normalized_positions = pd.Series(candidate_positions_file['position'].values, index=candidate_positions_file['candidate']).to_dict()\n",
    "\n",
    "        plot_KDE(ballots, normalized_positions, file, ignore=False, save=True, directory=\"KDE_new\")\n",
    "\n",
    "    except Exception as e:\n",
    "        # Print the summary of the error\n",
    "        print(file, \" \", e)\n",
    "\n",
    "#table.to_csv(\"diff2.csv\")\n"
   ]
  },
  {
   "cell_type": "code",
   "execution_count": 1,
   "metadata": {},
   "outputs": [
    {
     "name": "stderr",
     "output_type": "stream",
     "text": [
      "c:\\Users\\mahsh\\anaconda3\\lib\\site-packages\\pandas\\core\\computation\\expressions.py:21: UserWarning: Pandas requires version '2.8.4' or newer of 'numexpr' (version '2.8.1' currently installed).\n",
      "  from pandas.core.computation.check import NUMEXPR_INSTALLED\n",
      "c:\\Users\\mahsh\\anaconda3\\lib\\site-packages\\pandas\\core\\arrays\\masked.py:60: UserWarning: Pandas requires version '1.3.6' or newer of 'bottleneck' (version '1.3.4' currently installed).\n",
      "  from pandas.core import (\n"
     ]
    },
    {
     "name": "stdout",
     "output_type": "stream",
     "text": [
      "Conversion complete.\n"
     ]
    }
   ],
   "source": [
    "import os\n",
    "import numpy as np\n",
    "import pandas as pd\n",
    "\n",
    "# Define the paths\n",
    "npy_folder = 'np_data_new'\n",
    "csv_folder = 'csv_data'\n",
    "\n",
    "# Create the csv_data folder if it doesn't exist\n",
    "if not os.path.exists(csv_folder):\n",
    "    os.makedirs(csv_folder)\n",
    "\n",
    "# Iterate through each .npy file in np_data_new\n",
    "for npy_file in os.listdir(npy_folder):\n",
    "    if npy_file.endswith('.npy'):\n",
    "        # Load the .npy file\n",
    "        npy_path = os.path.join(npy_folder, npy_file)\n",
    "        data = np.load(npy_path)\n",
    "\n",
    "        # Convert to a DataFrame\n",
    "        df = pd.DataFrame(data)\n",
    "\n",
    "        # Define the new file path in csv_data with the same name but .csv extension\n",
    "        csv_file = os.path.join(csv_folder, npy_file.replace('.npy', '.csv'))\n",
    "\n",
    "        # Save the DataFrame as a CSV\n",
    "        df.to_csv(csv_file, index=False)\n",
    "\n",
    "print(\"Conversion complete.\")\n"
   ]
  }
 ],
 "metadata": {
  "kernelspec": {
   "display_name": "base",
   "language": "python",
   "name": "python3"
  },
  "language_info": {
   "codemirror_mode": {
    "name": "ipython",
    "version": 3
   },
   "file_extension": ".py",
   "mimetype": "text/x-python",
   "name": "python",
   "nbconvert_exporter": "python",
   "pygments_lexer": "ipython3",
   "version": "3.9.12"
  }
 },
 "nbformat": 4,
 "nbformat_minor": 2
}
